{
 "cells": [
  {
   "cell_type": "code",
   "execution_count": 1,
   "metadata": {
    "colab": {},
    "colab_type": "code",
    "executionInfo": {
     "elapsed": 1910,
     "status": "ok",
     "timestamp": 1597393311541,
     "user": {
      "displayName": "Jakob Lange",
      "photoUrl": "",
      "userId": "01044619540213031762"
     },
     "user_tz": -60
    },
    "id": "fE1rOua89A1n"
   },
   "outputs": [],
   "source": [
    "# This first block I have just used in colab\n",
    "# ## If you are running on Google Colab, uncomment below to install the necessary dependencies \n",
    "\n",
    "# print(\"Setting up colab environment\")\n",
    "# !pip uninstall -y -q pyarrow\n",
    "# !pip install -q -U ray[tune]\n",
    "# !pip install -q ray[debug]\n",
    "# !pip install ruamel.yaml\n",
    "\n",
    "# # A hack to force the runtime to restart, needed to include the above dependencies.\n",
    "# print(\"Done installing! Restarting via forced crash (this is not an issue).\")\n",
    "# import os\n",
    "# os._exit(0)"
   ]
  },
  {
   "cell_type": "code",
   "execution_count": 2,
   "metadata": {
    "colab": {
     "base_uri": "https://localhost:8080/",
     "height": 102
    },
    "colab_type": "code",
    "executionInfo": {
     "elapsed": 2812,
     "status": "ok",
     "timestamp": 1597393312486,
     "user": {
      "displayName": "Jakob Lange",
      "photoUrl": "",
      "userId": "01044619540213031762"
     },
     "user_tz": -60
    },
    "id": "1MgXbSY_9Eoe",
    "outputId": "b2a5b720-6e07-4c6a-cf1f-4651aaac734b"
   },
   "outputs": [
    {
     "name": "stdout",
     "output_type": "stream",
     "text": [
      "Unknown TensorFlow version: only exists in Colab.\n",
      "Currently selected TF version: 2.x\n",
      "Available versions:\n",
      " * 1.x\n",
      " * 2.x\n"
     ]
    }
   ],
   "source": [
    "## If you are running on Google Colab, please install TensorFlow 2.0 by uncommenting below..\n",
    "\n",
    "try:\n",
    "  %tensorflow_version only exists in Colab.\n",
    "  %tensorflow_version 2.x\n",
    "except Exception:\n",
    "  pass"
   ]
  },
  {
   "cell_type": "code",
   "execution_count": 1,
   "metadata": {
    "colab": {
     "base_uri": "https://localhost:8080/",
     "height": 34
    },
    "colab_type": "code",
    "executionInfo": {
     "elapsed": 4996,
     "status": "ok",
     "timestamp": 1597393314704,
     "user": {
      "displayName": "Jakob Lange",
      "photoUrl": "",
      "userId": "01044619540213031762"
     },
     "user_tz": -60
    },
    "id": "ozzpr84R8kbh",
    "outputId": "be0623e7-0e38-4577-fd8d-6e3fee89633e"
   },
   "outputs": [
    {
     "name": "stdout",
     "output_type": "stream",
     "text": [
      "TensorFlow Ver:  2.1.0\n"
     ]
    }
   ],
   "source": [
    "import logging\n",
    "import numpy as np\n",
    "import tensorflow as tf\n",
    "import matplotlib.pyplot as plt\n",
    "import tensorflow.keras.layers as kl\n",
    "import tensorflow.keras.losses as kls\n",
    "import tensorflow.keras.optimizers as ko\n",
    "from pathlib import Path\n",
    "import ruamel.yaml as yaml\n",
    "from tqdm.notebook import tqdm\n",
    "import scipy.stats as stats\n",
    "import pandas as pd\n",
    "import ray\n",
    "from ray import tune\n",
    "import tensorflow.keras as keras\n",
    "from tensorflow.keras.callbacks import ModelCheckpoint\n",
    "import shutil\n",
    "%matplotlib inline\n",
    "\n",
    "print(\"TensorFlow Ver: \", tf.__version__)"
   ]
  },
  {
   "cell_type": "code",
   "execution_count": 2,
   "metadata": {
    "colab": {},
    "colab_type": "code",
    "executionInfo": {
     "elapsed": 4992,
     "status": "ok",
     "timestamp": 1597393314707,
     "user": {
      "displayName": "Jakob Lange",
      "photoUrl": "",
      "userId": "01044619540213031762"
     },
     "user_tz": -60
    },
    "id": "Xf0e1l9X8kbu"
   },
   "outputs": [],
   "source": [
    "seed = 1234\n",
    "tf.random.set_seed(seed)\n",
    "np.random.seed(seed)"
   ]
  },
  {
   "cell_type": "code",
   "execution_count": 3,
   "metadata": {
    "colab": {},
    "colab_type": "code",
    "executionInfo": {
     "elapsed": 4989,
     "status": "ok",
     "timestamp": 1597393314710,
     "user": {
      "displayName": "Jakob Lange",
      "photoUrl": "",
      "userId": "01044619540213031762"
     },
     "user_tz": -60
    },
    "id": "252np9Hj8kbz"
   },
   "outputs": [],
   "source": [
    "import os\n",
    "os.environ[\"CUDA_DEVICE_ORDER\"]=\"PCI_BUS_ID\"\n",
    "os.environ[\"CUDA_VISIBLE_DEVICES\"]=\"2\""
   ]
  },
  {
   "cell_type": "code",
   "execution_count": 4,
   "metadata": {
    "colab": {
     "base_uri": "https://localhost:8080/",
     "height": 51
    },
    "colab_type": "code",
    "executionInfo": {
     "elapsed": 4955,
     "status": "ok",
     "timestamp": 1597393314712,
     "user": {
      "displayName": "Jakob Lange",
      "photoUrl": "",
      "userId": "01044619540213031762"
     },
     "user_tz": -60
    },
    "id": "AAAIMVcz8kb7",
    "outputId": "94015869-30a1-4a52-95de-774e56650499"
   },
   "outputs": [
    {
     "name": "stdout",
     "output_type": "stream",
     "text": [
      "Eager Execution: True\n",
      "1 + 2 + 3 + 4 + 5 = tf.Tensor(15, shape=(), dtype=int32)\n"
     ]
    }
   ],
   "source": [
    "# Eager by default!\n",
    "print(\"Eager Execution:\", tf.executing_eagerly())\n",
    "print(\"1 + 2 + 3 + 4 + 5 =\", tf.reduce_sum([1, 2, 3, 4, 5]))"
   ]
  },
  {
   "cell_type": "code",
   "execution_count": 5,
   "metadata": {
    "colab": {},
    "colab_type": "code",
    "executionInfo": {
     "elapsed": 4948,
     "status": "ok",
     "timestamp": 1597393314714,
     "user": {
      "displayName": "Jakob Lange",
      "photoUrl": "",
      "userId": "01044619540213031762"
     },
     "user_tz": -60
    },
    "id": "uVzK0Om98kcA"
   },
   "outputs": [],
   "source": [
    "class dependent_bandit():\n",
    "    def __init__(self, difficulty):\n",
    "        self.num_actions = 2\n",
    "        self.n_timesteps = 100\n",
    "        self.difficulty = difficulty\n",
    "        self.reset()\n",
    "        \n",
    "    def set_restless_prob(self):\n",
    "        self.bandit = np.array([self.restless_list[self.timestep],1 - self.restless_list[self.timestep]])\n",
    "        \n",
    "    def reset(self):\n",
    "        self.timestep = 0\n",
    "        if self.difficulty == 'restless': \n",
    "            variance = np.random.uniform(0,.5)\n",
    "            self.restless_list = np.cumsum(np.random.uniform(-variance,variance,(150,1)))\n",
    "            self.restless_list = (self.restless_list - np.min(self.restless_list)) / (np.max(self.restless_list - np.min(self.restless_list))) \n",
    "            self.set_restless_prob()\n",
    "        if self.difficulty == 'easy': \n",
    "            bandit_prob = np.random.choice([0.9,0.1])\n",
    "        if self.difficulty == 'trivial': \n",
    "            bandit_prob = np.random.choice([1.0,0.0])\n",
    "        if self.difficulty == 'medium': \n",
    "            bandit_prob = np.random.choice([0.75,0.25])\n",
    "        if self.difficulty == 'hard':  \n",
    "            bandit_prob = np.random.choice([0.6,0.4])\n",
    "        if self.difficulty == 'uniform': \n",
    "            bandit_prob = np.random.uniform()\n",
    "        if self.difficulty != 'independent' and self.difficulty != 'restless':\n",
    "            self.bandit = np.array([bandit_prob,1 - bandit_prob])\n",
    "        else:\n",
    "            self.bandit = np.random.uniform(size=2)\n",
    "        \n",
    "    def step(self,action):\n",
    "        #Get a random number.\n",
    "        if self.difficulty == 'restless': \n",
    "            self.set_restless_prob()\n",
    "        self.timestep += 1\n",
    "        bandit = self.bandit[int(action)]\n",
    "        result = np.random.uniform()\n",
    "        if result < bandit:\n",
    "            #return a positive reward.\n",
    "            reward = 1\n",
    "        else:\n",
    "            #return a negative reward.\n",
    "            reward = 0\n",
    "        if self.timestep > self.n_timesteps - 1: \n",
    "            done = True\n",
    "        else: \n",
    "            done = False\n",
    "        return reward, done, self.timestep"
   ]
  },
  {
   "cell_type": "code",
   "execution_count": 6,
   "metadata": {
    "colab": {
     "base_uri": "https://localhost:8080/",
     "height": 51
    },
    "colab_type": "code",
    "executionInfo": {
     "elapsed": 4908,
     "status": "ok",
     "timestamp": 1597393314715,
     "user": {
      "displayName": "Jakob Lange",
      "photoUrl": "",
      "userId": "01044619540213031762"
     },
     "user_tz": -60
    },
    "id": "LMbCTt0n8kcF",
    "outputId": "6de9e9d9-f51d-4770-958b-9461db2f7fe1"
   },
   "outputs": [
    {
     "name": "stdout",
     "output_type": "stream",
     "text": [
      "[0.1 0.9]\n"
     ]
    },
    {
     "data": {
      "text/plain": [
       "(1.5730627001754955, False, 1)"
      ]
     },
     "execution_count": 6,
     "metadata": {},
     "output_type": "execute_result"
    }
   ],
   "source": [
    "class GaussBandit(dependent_bandit):\n",
    "    \"\"\"\n",
    "    creates a dependent bandit that gives a reward normally distributed around some mean\n",
    "    the mean values are the same as for the dependent bandit class. \n",
    "    variance is set to 0.5 as standard but can be changed using the keyword scale\n",
    "    \n",
    "    Sidenote:\n",
    "    This is really just an experiment I made. I wanted to see whether learning on\n",
    "    the standard dependent_bandit would have any effect in this environment and vice \n",
    "    versa. I did not get around to test and train agents in this environment after all\n",
    "    but I found it interesting that agents trained on the standard dependent_bandit\n",
    "    actually performed better than random in this environment\n",
    "    \"\"\"\n",
    "    def __init__(self, difficulty, scale = 0.5):\n",
    "        super().__init__(difficulty)\n",
    "        self.scale = scale\n",
    "        \n",
    "    def step(self, action):\n",
    "        if self.difficulty == 'restless': \n",
    "            self.set_restless_prob()\n",
    "        self.timestep += 1\n",
    "        bandit = self.bandit[int(action)]\n",
    "        reward = stats.norm.rvs(loc=bandit, scale=self.scale)\n",
    "        \n",
    "        if self.timestep > self.n_timesteps - 1: \n",
    "            done = True\n",
    "        else: \n",
    "            done = False\n",
    "        \n",
    "        return reward, done, self.timestep\n",
    "        \n",
    "g = GaussBandit('easy')\n",
    "print(g.bandit)\n",
    "g.step(1)"
   ]
  },
  {
   "cell_type": "code",
   "execution_count": 7,
   "metadata": {
    "colab": {},
    "colab_type": "code",
    "executionInfo": {
     "elapsed": 4879,
     "status": "ok",
     "timestamp": 1597393314716,
     "user": {
      "displayName": "Jakob Lange",
      "photoUrl": "",
      "userId": "01044619540213031762"
     },
     "user_tz": -60
    },
    "id": "wtB9urCj8kcL"
   },
   "outputs": [],
   "source": [
    "class ThompsonAgent:\n",
    "    \"\"\"\n",
    "    Creates an agent that plays the dependent_bandit using thompson sampling.\n",
    "    The agent behaves pretty much like the lstm Agent class later\n",
    "\n",
    "    To get it to play through an environment you can use the play method\n",
    "    this returns  the history of actions, rewards, beta-values and estimated mean-values\n",
    "\n",
    "    I did not get this to work with the Benchmark class but I added a benchmark method to the class\n",
    "    \"\"\"\n",
    "    def __init__(self, env_name):\n",
    "        self.env = dependent_bandit(env_name)\n",
    "        self.reset()\n",
    "    \n",
    "    def reset(self):\n",
    "        self.pulls = np.zeros(2)\n",
    "        #sampled mean of an arm\n",
    "        self.mean = np.zeros(2)\n",
    "        #beta for use in thompson sampling\n",
    "        self.beta = np.ones((2,2))\n",
    "        self.env.reset()\n",
    "    \n",
    "    def pull(self, arm):\n",
    "        self.pulls[arm] += 1\n",
    "        r, done, timestep = self.env.step(arm)\n",
    "        self.update_mean(arm, r)\n",
    "        self.update_beta(arm, r)\n",
    "        return r, done, timestep\n",
    "    \n",
    "    def update_mean(self, arm, r):\n",
    "        n = self.pulls[arm]\n",
    "#         m = self.mean[arm]\n",
    "        self.mean[arm] = (n-1)/n*self.mean[arm] + r/n\n",
    "    \n",
    "    def update_beta(self, arm, r):\n",
    "        self.beta[arm] += np.array([r, 1-r])\n",
    "    \n",
    "    def change_env(self, env):\n",
    "        self.env = env\n",
    "        self.reset()\n",
    "    \n",
    "    def predict(self):\n",
    "        return np.argmax([np.random.beta(self.beta[0][0], self.beta[0][1]), np.random.beta(self.beta[1][0], self.beta[1][1])])\n",
    "    \n",
    "    def play(self, n):\n",
    "        self.reset()\n",
    "        r_hist = np.empty(n)\n",
    "        a_hist = np.empty(n)\n",
    "        mean_hist = np.empty((2,n+1))\n",
    "        mean_hist[:,0] = self.mean\n",
    "        beta_hist = np.empty((2, n+1, 2))\n",
    "        beta_hist[:,0,:] = self.beta\n",
    "        for i in range(n):\n",
    "            j = self.predict()\n",
    "            a_hist[i] = j\n",
    "            r_hist[i], _, _ = self.pull(j)\n",
    "            beta_hist[:,i+1,:] = self.beta\n",
    "            mean_hist[:,i+1] = self.mean\n",
    "        return a_hist, r_hist, beta_hist, mean_hist\n",
    "\n",
    "    def benchmark(self, n_episodes = 300, n_timesteps = 100):\n",
    "        #for now n_timesteps will be 100 since that is the value in the dependent env\n",
    "        actions = np.empty((n_episodes, n_timesteps))\n",
    "        rewards = np.empty((n_episodes, n_timesteps))\n",
    "        bandits = np.empty((n_episodes, 2))\n",
    "        for i in range(n_episodes):\n",
    "            a, r, _, _ = self.play(n_timesteps)\n",
    "            bandits[i] = self.env.bandit\n",
    "            actions[i] = a\n",
    "            rewards[i] = r\n",
    "        return {'actions': actions, 'rewards': rewards, 'env': self.env, 'bandits': bandits}"
   ]
  },
  {
   "cell_type": "code",
   "execution_count": 8,
   "metadata": {
    "colab": {},
    "colab_type": "code",
    "executionInfo": {
     "elapsed": 4869,
     "status": "ok",
     "timestamp": 1597393314717,
     "user": {
      "displayName": "Jakob Lange",
      "photoUrl": "",
      "userId": "01044619540213031762"
     },
     "user_tz": -60
    },
    "id": "ZihJe6Wj8kcR"
   },
   "outputs": [],
   "source": [
    "class GaussThompson:\n",
    "    \"\"\"\n",
    "    Basically the same as the other thompson except it works on the GaussBandit\n",
    "    \"\"\"\n",
    "    def __init__(self, env_name, tau = 1):\n",
    "        self.env = GaussBandit(env_name)\n",
    "        self.tau = tau\n",
    "    \n",
    "    def reset(self):\n",
    "        self.pulls = np.zeros(2)\n",
    "        self.mean = np.zeros(2)\n",
    "        self.lambd = np.ones(2)\n",
    "        self.env.reset()\n",
    "        \n",
    "    def pull(self, arm):\n",
    "        self.pulls[arm] += 1\n",
    "        r, done, timestep = self.env.step(arm)\n",
    "        self.update_variables(arm, r)\n",
    "        return r, done, timestep\n",
    "\n",
    "    def update_variables(self, arm, r):\n",
    "        self.mean[arm] = 1/(self.tau*self.pulls[arm]+1)*(self.tau*r + (self.tau*(self.pulls[arm]-1)+1)*self.mean[arm])\n",
    "        self.lambd[arm] = self.tau + self.lambd[arm]\n",
    "    \n",
    "    def predict(self):\n",
    "        return np.argmax([np.random.normal(self.mean[0], np.sqrt(1/self.lambd[0])), np.random.normal(self.mean[1], np.sqrt(1/self.lambd[1]))])\n",
    "    \n",
    "    def play(self, n):\n",
    "        self.reset()\n",
    "        r_hist = np.empty(n)\n",
    "        a_hist = np.empty(n)\n",
    "        mean_hist = np.empty((2,n+1))\n",
    "        mean_hist[:,0] = self.mean\n",
    "        lambda_hist = np.empty((2, n+1))\n",
    "        lambda_hist[:,0] = self.lambd\n",
    "        for i in range(n):\n",
    "            action = self.predict()\n",
    "            a_hist[i] = action\n",
    "            r_hist[i], _, _ = self.pull(action)\n",
    "            lambda_hist[:,i+1] = self.lambd\n",
    "            mean_hist[:,i+1] = self.mean\n",
    "        return a_hist, r_hist, lambda_hist, mean_hist\n",
    "\n",
    "    def benchmark(self, n_episodes = 300, n_timesteps = 100):\n",
    "        #for now n_timesteps will be 100 since that is the value in the dependent env\n",
    "        actions = np.empty((n_episodes, n_timesteps))\n",
    "        rewards = np.empty((n_episodes, n_timesteps))\n",
    "        bandits = np.empty((n_episodes,2))\n",
    "        for i in range(n_episodes):\n",
    "            a, r, _, _ = self.play(n_timesteps)\n",
    "            bandits[i] = self.env.bandit\n",
    "            actions[i] = a\n",
    "            rewards[i] = r\n",
    "        return {'actions': actions, 'rewards': rewards, 'env': self.env, 'bandits': bandits}"
   ]
  },
  {
   "cell_type": "code",
   "execution_count": 9,
   "metadata": {
    "colab": {
     "base_uri": "https://localhost:8080/",
     "height": 282
    },
    "colab_type": "code",
    "executionInfo": {
     "elapsed": 5377,
     "status": "ok",
     "timestamp": 1597393315279,
     "user": {
      "displayName": "Jakob Lange",
      "photoUrl": "",
      "userId": "01044619540213031762"
     },
     "user_tz": -60
    },
    "id": "Q_dTeJPQ8kcV",
    "outputId": "d9d9823d-a08d-4f23-fcc4-7db704d588f7"
   },
   "outputs": [
    {
     "data": {
      "text/plain": [
       "array([0.57670146, 0.42329854])"
      ]
     },
     "execution_count": 9,
     "metadata": {},
     "output_type": "execute_result"
    },
    {
     "data": {
      "image/png": "[encoded data removed]",
      "text/plain": [
       "<Figure size 432x288 with 1 Axes>"
      ]
     },
     "metadata": {
      "needs_background": "light"
     },
     "output_type": "display_data"
    }
   ],
   "source": [
    "gauss = GaussThompson('restless')\n",
    "a,  r, l, m = gauss.play(100)\n",
    "plt.plot(m[0], 'b')\n",
    "plt.plot(m[1], 'r')\n",
    "gauss.env.bandit"
   ]
  },
  {
   "cell_type": "code",
   "execution_count": 10,
   "metadata": {
    "colab": {},
    "colab_type": "code",
    "executionInfo": {
     "elapsed": 5361,
     "status": "ok",
     "timestamp": 1597393315280,
     "user": {
      "displayName": "Jakob Lange",
      "photoUrl": "",
      "userId": "01044619540213031762"
     },
     "user_tz": -60
    },
    "id": "rBrN4jtx8kcb"
   },
   "outputs": [],
   "source": [
    "bandit = dependent_bandit('uniform')"
   ]
  },
  {
   "cell_type": "code",
   "execution_count": 11,
   "metadata": {
    "colab": {},
    "colab_type": "code",
    "executionInfo": {
     "elapsed": 5351,
     "status": "ok",
     "timestamp": 1597393315282,
     "user": {
      "displayName": "Jakob Lange",
      "photoUrl": "",
      "userId": "01044619540213031762"
     },
     "user_tz": -60
    },
    "id": "MXZZKTjl8kcf"
   },
   "outputs": [],
   "source": [
    "bandit.reset()"
   ]
  },
  {
   "cell_type": "code",
   "execution_count": 12,
   "metadata": {
    "colab": {
     "base_uri": "https://localhost:8080/",
     "height": 34
    },
    "colab_type": "code",
    "executionInfo": {
     "elapsed": 5309,
     "status": "ok",
     "timestamp": 1597393315283,
     "user": {
      "displayName": "Jakob Lange",
      "photoUrl": "",
      "userId": "01044619540213031762"
     },
     "user_tz": -60
    },
    "id": "mw0lzqP78kck",
    "outputId": "f08b031f-903b-4641-a5ec-2b3bbed4b767"
   },
   "outputs": [
    {
     "data": {
      "text/plain": [
       "(1, False, 1)"
      ]
     },
     "execution_count": 12,
     "metadata": {},
     "output_type": "execute_result"
    }
   ],
   "source": [
    "bandit.step(0)"
   ]
  },
  {
   "cell_type": "code",
   "execution_count": 13,
   "metadata": {
    "colab": {},
    "colab_type": "code",
    "executionInfo": {
     "elapsed": 5298,
     "status": "ok",
     "timestamp": 1597393315285,
     "user": {
      "displayName": "Jakob Lange",
      "photoUrl": "",
      "userId": "01044619540213031762"
     },
     "user_tz": -60
    },
    "id": "WbI0G33r8kco"
   },
   "outputs": [],
   "source": [
    "class Model(tf.keras.Model):\n",
    "    def __init__(self, num_actions, batch_size=1, n_timesteps=None, n_features=4, name='meta_policy'):\n",
    "        super().__init__(name)\n",
    "#         Having a stateful LSTM means that you will need to reset the hidden state \n",
    "#         in between batches yourself if you do want independent batches. \n",
    "#         The default initial hidden state in Tensorflow is all zeros.\n",
    "        self.lstm = kl.LSTM(\n",
    "            48, name='hidden', \n",
    "            stateful=True, \n",
    "            time_major=True, # ['time', 'batch', 'features']\n",
    "            return_sequences=True, \n",
    "            recurrent_initializer='zeros'\n",
    "        )\n",
    "        self.lstm.build((n_timesteps, batch_size, n_features)) # set batch size, must be done with stateful lstm\n",
    "        self.policy = kl.Dense(\n",
    "            num_actions, name='policy'\n",
    "        )\n",
    "        self.value = kl.Dense(\n",
    "            1, name='value'\n",
    "        )\n",
    "\n",
    "    def call(self, inputs, **kwargs):\n",
    "        inputs = tf.cast(inputs, dtype=tf.float32)\n",
    "#         print(inputs)\n",
    "        output = self.lstm(inputs)\n",
    "        value = self.value(output)\n",
    "        policy = self.policy(output)\n",
    "        return tf.squeeze(policy, 1), tf.squeeze(value, (1, 2))\n",
    "\n",
    "    def predict_action_value(self, obs):\n",
    "        # Executes `call()` under the hood.\n",
    "        policy, value = self.predict_on_batch(obs)\n",
    "        actions = tf.squeeze(tf.random.categorical(policy, 1), 1)\n",
    "        return actions, value "
   ]
  },
  {
   "cell_type": "code",
   "execution_count": 14,
   "metadata": {
    "colab": {},
    "colab_type": "code",
    "executionInfo": {
     "elapsed": 5290,
     "status": "ok",
     "timestamp": 1597393315285,
     "user": {
      "displayName": "Jakob Lange",
      "photoUrl": "",
      "userId": "01044619540213031762"
     },
     "user_tz": -60
    },
    "id": "eE9VlIx78kcu"
   },
   "outputs": [],
   "source": [
    "env = dependent_bandit('uniform')"
   ]
  },
  {
   "cell_type": "code",
   "execution_count": 15,
   "metadata": {
    "colab": {
     "base_uri": "https://localhost:8080/",
     "height": 34
    },
    "colab_type": "code",
    "executionInfo": {
     "elapsed": 5836,
     "status": "ok",
     "timestamp": 1597393315857,
     "user": {
      "displayName": "Jakob Lange",
      "photoUrl": "",
      "userId": "01044619540213031762"
     },
     "user_tz": -60
    },
    "id": "VAx-iSeG8kc1",
    "outputId": "d6b28681-ae5f-45f6-bf2e-97f16fa6ed2d"
   },
   "outputs": [
    {
     "name": "stdout",
     "output_type": "stream",
     "text": [
      "tf.Tensor([0 1], shape=(2,), dtype=int64) tf.Tensor([0.06559491 0.11440822], shape=(2,), dtype=float32)\n"
     ]
    }
   ],
   "source": [
    "# Verify everything works by sampling two actions.\n",
    "\n",
    "model = Model(env.num_actions)\n",
    "\n",
    "action = 0\n",
    "reward, timestep = 0, 0\n",
    "# reward, done, timestep = env.step(action)\n",
    "action = tf.one_hot(action, 2)\n",
    "observation = tf.concat([\n",
    "        [[reward],[reward]], \n",
    "        [action, action],\n",
    "        [[timestep], [timestep]]], 1)\n",
    "observation = tf.expand_dims(observation, [1])\n",
    "# print(observation)\n",
    "action, value = model.predict_action_value(observation)\n",
    "print(action, value)\n",
    "# print(action.shape, value.shape)"
   ]
  },
  {
   "cell_type": "code",
   "execution_count": 16,
   "metadata": {
    "colab": {
     "base_uri": "https://localhost:8080/",
     "height": 629
    },
    "colab_type": "code",
    "executionInfo": {
     "elapsed": 6418,
     "status": "ok",
     "timestamp": 1597393316485,
     "user": {
      "displayName": "Jakob Lange",
      "photoUrl": "",
      "userId": "01044619540213031762"
     },
     "user_tz": -60
    },
    "id": "xt2etKx98kc5",
    "outputId": "c1e51439-f2e8-4b19-c6cb-97f08b12a536"
   },
   "outputs": [
    {
     "name": "stdout",
     "output_type": "stream",
     "text": [
      "[<tf.Variable 'Variable:0' shape=(1, 48) dtype=float32, numpy=\n",
      "array([[0., 0., 0., 0., 0., 0., 0., 0., 0., 0., 0., 0., 0., 0., 0., 0.,\n",
      "        0., 0., 0., 0., 0., 0., 0., 0., 0., 0., 0., 0., 0., 0., 0., 0.,\n",
      "        0., 0., 0., 0., 0., 0., 0., 0., 0., 0., 0., 0., 0., 0., 0., 0.]],\n",
      "      dtype=float32)>, <tf.Variable 'Variable:0' shape=(1, 48) dtype=float32, numpy=\n",
      "array([[0., 0., 0., 0., 0., 0., 0., 0., 0., 0., 0., 0., 0., 0., 0., 0.,\n",
      "        0., 0., 0., 0., 0., 0., 0., 0., 0., 0., 0., 0., 0., 0., 0., 0.,\n",
      "        0., 0., 0., 0., 0., 0., 0., 0., 0., 0., 0., 0., 0., 0., 0., 0.]],\n",
      "      dtype=float32)>]\n",
      "[<tf.Variable 'Variable:0' shape=(1, 48) dtype=float32, numpy=\n",
      "array([[-1.1290785e-02,  4.7634537e-03,  4.3167458e-03,  1.8553065e-02,\n",
      "        -9.6491014e-05, -4.6801403e-02, -1.7941374e-03,  3.0309452e-02,\n",
      "         4.1844387e-02, -1.9194884e-02, -3.7627000e-02,  4.3088421e-03,\n",
      "        -4.9549047e-02,  3.1640939e-02,  3.8462677e-03,  1.9411439e-02,\n",
      "        -3.2133397e-02,  3.4895822e-02,  1.7788660e-02,  6.3372817e-04,\n",
      "         6.4243088e-03,  2.2653099e-02, -2.9040358e-03,  4.4934899e-02,\n",
      "        -4.3190125e-02,  5.8730531e-02, -7.6731979e-03, -4.5406692e-02,\n",
      "         1.6082997e-02,  3.8993068e-02, -1.9665871e-02,  3.3846904e-02,\n",
      "         2.4081115e-02, -6.8640009e-02,  4.6443123e-02, -8.5663497e-03,\n",
      "         3.2948524e-02,  4.1451927e-02,  2.4002427e-02,  4.6344053e-02,\n",
      "         1.3346168e-02,  5.7561506e-02, -4.3085418e-03,  2.7000189e-02,\n",
      "        -4.6117697e-02, -3.5429694e-05, -1.5255609e-03,  1.2852761e-02]],\n",
      "      dtype=float32)>, <tf.Variable 'Variable:0' shape=(1, 48) dtype=float32, numpy=\n",
      "array([[-2.03026794e-02,  9.79188923e-03,  8.80077295e-03,\n",
      "         3.30456235e-02, -2.05648917e-04, -8.35724175e-02,\n",
      "        -3.26225348e-03,  6.12091124e-02,  8.19920823e-02,\n",
      "        -3.45521197e-02, -6.93974048e-02,  7.75032863e-03,\n",
      "        -9.02427137e-02,  6.14069290e-02,  8.47473927e-03,\n",
      "         3.91773805e-02, -6.94745332e-02,  6.25674054e-02,\n",
      "         3.38704847e-02,  1.32367655e-03,  1.45557327e-02,\n",
      "         4.79238890e-02, -5.63407596e-03,  8.84478539e-02,\n",
      "        -9.22466889e-02,  1.31818920e-01, -1.48159117e-02,\n",
      "        -9.91458446e-02,  3.30671258e-02,  7.15411082e-02,\n",
      "        -4.12548594e-02,  6.80309534e-02,  4.65099029e-02,\n",
      "        -1.29141942e-01,  9.78013054e-02, -1.59543008e-02,\n",
      "         5.91812283e-02,  8.15586597e-02,  4.81507443e-02,\n",
      "         8.26235563e-02,  3.10277026e-02,  1.24986805e-01,\n",
      "        -7.71548087e-03,  6.22672923e-02, -9.08901989e-02,\n",
      "        -6.53450552e-05, -3.29051306e-03,  2.61673182e-02]], dtype=float32)>]\n"
     ]
    }
   ],
   "source": [
    "# Verify everything works by sampling two actions with state reset.\n",
    "env = dependent_bandit('uniform')\n",
    "model = Model(env.num_actions)\n",
    "\n",
    "action = 0\n",
    "for _ in range(2):\n",
    "    print(model.lstm.states)\n",
    "    reward, done, timestep = env.step(action)\n",
    "    action = tf.one_hot(action, 2)\n",
    "    observation = tf.concat([\n",
    "        [[reward]], \n",
    "        [action],\n",
    "        [[timestep]]], 1)\n",
    "    observation = tf.expand_dims(observation, [1])\n",
    "\n",
    "    action, value = model.predict_action_value(observation)\n",
    "    # print(action, value)\n",
    "#     model.lstm.reset_states()\n",
    "    action = np.squeeze(action)\n"
   ]
  },
  {
   "cell_type": "code",
   "execution_count": 17,
   "metadata": {
    "colab": {},
    "colab_type": "code",
    "executionInfo": {
     "elapsed": 6409,
     "status": "ok",
     "timestamp": 1597393316490,
     "user": {
      "displayName": "Jakob Lange",
      "photoUrl": "",
      "userId": "01044619540213031762"
     },
     "user_tz": -60
    },
    "id": "pmnVRIJi8kc_"
   },
   "outputs": [],
   "source": [
    "class Agent:\n",
    "    \"\"\"\n",
    "    have not changed much here, the storage of the data_path is changed slightly\n",
    "    to get it working with tune\n",
    "\n",
    "    I have set the run_episode to also return the environment for use in calculating different values\n",
    "    this is mainly used in the RayAgent class later\n",
    "    \"\"\"\n",
    "    def __init__(self, model, env_name, learning_rate=1e-3, gamma=0.8, value_coefficient=0.2, entropy_coefficient=.002, name=None, data_path=None, instance = 'bernoulli'):\n",
    "        # `gamma` is the discount factor; coefficients are used for the loss terms.\n",
    "        self.gamma = gamma\n",
    "        self.value_coefficient = value_coefficient\n",
    "        self.learning_rate = learning_rate\n",
    "        self.entropy_coefficient = entropy_coefficient\n",
    "        self.instance = instance\n",
    "        if instance == 'bernoulli':\n",
    "            self.env = dependent_bandit(env_name)\n",
    "        elif instance == 'gauss':\n",
    "            self.env = GaussBandit(env_name)\n",
    "        self.name = name or 'a2c_agent_env_' + env_name\n",
    "        self.model = model(env.num_actions, batch_size=1, name=self.name)\n",
    "        # Define separate losses for policy logits and value estimate.\n",
    "        # the storage of the data_path is changed slightly here don't know if it matters?\n",
    "        self.data_path = (data_path or Path().cwd()) / self.name\n",
    "        self.parameters = {\n",
    "            'learning_rate': learning_rate,\n",
    "            'value_coefficient': value_coefficient,\n",
    "            'entropy_coefficient': entropy_coefficient,\n",
    "            'gamma': gamma \n",
    "        }\n",
    "        self._compile()\n",
    "    \n",
    "    def save_agent(self):\n",
    "        self.data_path.mkdir(parents=True, exist_ok=True)\n",
    "        logging.info(f\"Saving parameters, training_history and weights to {self.data_path}.\")\n",
    "        with open(str(self.data_path / self.name) + '.yaml', 'w') as f:\n",
    "            yaml.dump(self.parameters, f)\n",
    "        np.save(str(self.data_path / self.name) + '.npy', self.training_history)\n",
    "        self.model.save_weights(str(self.data_path / self.name))\n",
    "        \n",
    "    def load_agent(self):\n",
    "        logging.warning(\"Updating parameters, training_history, weights and recompiling model.\")\n",
    "        with open(str(self.data_path / self.name) + '.yaml', 'r') as f:\n",
    "            self.parameters = yaml.load(f, Loader=yaml.Loader)\n",
    "        self.training_history = np.load(str(self.data_path / self.name) + '.npy')\n",
    "        self.model.load_weights(str(self.data_path / self.name))\n",
    "        self.__dict__.update(self.parameters)\n",
    "        self._compile()\n",
    "        \n",
    "    def _compile(self):\n",
    "        self.model.compile(\n",
    "            optimizer=ko.Adam(lr=self.learning_rate), \n",
    "            loss=[self._policy_loss, self._value_loss])\n",
    "    \n",
    "    def _predict(self, action, reward, timestep):\n",
    "        action = np.squeeze(action)\n",
    "        action_onehot = tf.one_hot(action, self.env.num_actions)\n",
    "        observation = tf.concat([\n",
    "            [[reward]], \n",
    "            [action_onehot],\n",
    "            [[timestep]]], 1)\n",
    "        observation = tf.expand_dims(observation, [1])\n",
    "        new_action, value = self.model.predict_action_value(observation)\n",
    "        return new_action, value, observation\n",
    "\n",
    "    def train(self, episodes=250):\n",
    "        # Training loop: collect samples, send to optimizer, repeat episodes times.\n",
    "        try:\n",
    "            self.training_history = self.training_history\n",
    "        except:\n",
    "            self.training_history = []\n",
    "        for episode in tqdm(range(episodes)):\n",
    "            actions, rewards, values, observations, env = self.run_episode()\n",
    "            self.training_history.append(np.sum(rewards))\n",
    "\n",
    "            logging.info(f\"Episode: {len(self.training_history) - 1:3d}, Reward: {int(self.training_history[-1]):3d}\")\n",
    "            \n",
    "            # `next_value` is the bootstrap value estimate of the future state (critic).\n",
    "            _, next_value, _ = self._predict(actions[-1], rewards[-1], observations[-1,0,3] + 1)\n",
    "\n",
    "            self.model.reset_states()\n",
    "            \n",
    "            returns, advantages = self._returns_advantages(rewards, values, next_value)\n",
    "            # A trick to input actions and advantages through same API.\n",
    "            actions_advantages = np.concatenate([actions[:, None], advantages[:, None]], axis=1)\n",
    "\n",
    "            accuracy = (actions == np.argmax(env.bandit)).mean()\n",
    "            \n",
    "            losses = self.model.train_on_batch(observations, [actions_advantages, returns])\n",
    "            \n",
    "            logging.debug(f\"[{episode + 1:d}/{episodes:d}] Losses: {losses}\")\n",
    "        return self.training_history\n",
    "\n",
    "    def run_episode(self, env=None):\n",
    "        env = env or self.env\n",
    "\n",
    "        env.reset()\n",
    "        # Storage helpers for a single batch of data.\n",
    "        actions = np.empty((env.n_timesteps,), dtype=np.int32)\n",
    "        rewards, values = np.empty((2, env.n_timesteps))\n",
    "        observations = np.empty((env.n_timesteps, 1, 4))\n",
    "        \n",
    "        self.model.reset_states()\n",
    "        action, reward, timestep, done, step = 0, 0, 0, 0, 0\n",
    "        while not done:\n",
    "            # action and reward at t - 1 and timestep at t\n",
    "            action, value, observations[step] = self._predict(action, reward, timestep + 1)\n",
    "            reward, done, timestep = env.step(action)\n",
    "            # rewards, values and actions at t\n",
    "            rewards[step] = reward\n",
    "            actions[step] = action\n",
    "            values[step] = value\n",
    "            step += 1\n",
    "        return actions, rewards, values, observations, env\n",
    "    \n",
    "    def _returns_advantages(self, rewards, values, next_value):\n",
    "        # `next_value` is the bootstrap value estimate of the future state (critic).\n",
    "        returns = np.append(np.zeros_like(rewards), next_value, axis=-1)\n",
    "        # Returns are calculated as discounted sum of future rewards.\n",
    "        for t in reversed(range(rewards.shape[0])):\n",
    "            returns[t] = rewards[t] + self.gamma * returns[t + 1]\n",
    "        returns = returns[:-1]\n",
    "        # Advantages are equal to returns - baseline (value estimates in our case).\n",
    "        advantages = returns - values\n",
    "        return returns, advantages\n",
    "\n",
    "    def _value_loss(self, returns, value):\n",
    "        # Value loss is typically MSE between value estimates and returns.\n",
    "        loss = self.value_coefficient * kls.mean_squared_error(returns, value)\n",
    "#         tf.keras.backend.print_tensor(loss)\n",
    "        return loss\n",
    "\n",
    "    def _policy_loss(self, actions_and_advantages, logits):\n",
    "        # A trick to input actions and advantages through the same API.\n",
    "        actions, advantages = tf.split(actions_and_advantages, 2, axis=-1)\n",
    "        # Sparse categorical CE loss obj that supports sample_weight arg on `call()`.\n",
    "        # `from_logits` argument ensures transformation into normalized probabilities.\n",
    "        weighted_sparse_ce = kls.SparseCategoricalCrossentropy(from_logits=True)\n",
    "        # Policy loss is defined by policy gradients, weighted by advantages.\n",
    "        # Note: we only calculate the loss on the actions we've actually taken.\n",
    "        actions = tf.cast(actions, tf.int32)\n",
    "        policy_loss = weighted_sparse_ce(actions, logits, sample_weight=advantages)\n",
    "        # Entropy loss can be calculated as cross-entropy over itself.\n",
    "        probs = tf.nn.softmax(logits)\n",
    "        entropy_loss = tf.reduce_sum(kls.categorical_crossentropy(probs, probs))\n",
    "        # We want to minimize policy and maximize entropy losses.\n",
    "        # Here signs are flipped because the optimizer minimizes.\n",
    "#         tf.keras.backend.print_tensor(policy_loss)\n",
    "#         tf.keras.backend.print_tensor(entropy_loss)\n",
    "        loss = policy_loss - self.entropy_coefficient * entropy_loss\n",
    "        return loss"
   ]
  },
  {
   "cell_type": "code",
   "execution_count": 18,
   "metadata": {
    "colab": {
     "base_uri": "https://localhost:8080/",
     "height": 34
    },
    "colab_type": "code",
    "executionInfo": {
     "elapsed": 7543,
     "status": "ok",
     "timestamp": 1597393317663,
     "user": {
      "displayName": "Jakob Lange",
      "photoUrl": "",
      "userId": "01044619540213031762"
     },
     "user_tz": -60
    },
    "id": "600G-Ovl8kdD",
    "outputId": "eae51f09-0c25-4c53-d968-a426d12bf7f4"
   },
   "outputs": [
    {
     "name": "stdout",
     "output_type": "stream",
     "text": [
      "58.0\n"
     ]
    }
   ],
   "source": [
    "# logging.getLogger().setLevel(logging.INFO)\n",
    "# logging.getLogger().setLevel(logging.DEBUG)\n",
    "logging.getLogger().setLevel(logging.WARNING)\n",
    "\n",
    "\n",
    "agent = Agent(Model, env_name='restless')\n",
    "\n",
    "_, rewards, _, _, _ = agent.run_episode()\n",
    "print(sum(rewards))"
   ]
  },
  {
   "cell_type": "markdown",
   "metadata": {
    "colab_type": "text",
    "id": "vFD3R9Jgr7ZR"
   },
   "source": [
    "# Implement Ray[tune]"
   ]
  },
  {
   "cell_type": "code",
   "execution_count": 21,
   "metadata": {
    "colab": {},
    "colab_type": "code",
    "executionInfo": {
     "elapsed": 7535,
     "status": "ok",
     "timestamp": 1597393317667,
     "user": {
      "displayName": "Jakob Lange",
      "photoUrl": "",
      "userId": "01044619540213031762"
     },
     "user_tz": -60
    },
    "id": "xJraCkeD8kdK"
   },
   "outputs": [],
   "source": [
    "# trying to implement ray[tune]\n",
    "# based on this tutorial: https://medium.com/riselab/cutting-edge-hyperparameter-tuning-with-ray-tune-be6c0447afdf\n",
    "# and this notebook: https://colab.research.google.com/github/ray-project/tutorial/blob/master/tune_exercises/exercise_1_basics.ipynb\n",
    "\n",
    "# this is as done in the notebook above but with more values reported\n",
    "class TuneReporterCallback(keras.callbacks.Callback):\n",
    "    \"\"\"Tune Callback for Keras.\n",
    "    \n",
    "    The callback is invoked every epoch and reports different values to tune\n",
    "    these values can be used for early stopping in training if they are too low or high\n",
    "    They can also be used for optimisation.\n",
    "    See 'Analysis block' a bit below.\n",
    "    \"\"\"\n",
    "\n",
    "    def __init__(self, logs={}):\n",
    "        self.iteration = 0\n",
    "        super(TuneReporterCallback, self).__init__()\n",
    "\n",
    "    def on_epoch_end(self, batch, logs={}):\n",
    "        self.iteration += 1\n",
    "        tune.report(keras_info=logs,\n",
    "                    loss=logs.get(\"loss\"),\n",
    "                    accuracy = logs.get('accuracy'),\n",
    "                    mean_reward = logs['mean_reward'],\n",
    "                    late_regret = logs['late_regret'],\n",
    "                    running_loss = logs['running_loss'])\n",
    "\n",
    "\n",
    "class RayAgent(Agent):\n",
    "    \"\"\"\n",
    "    Agent to be used with tune. Mostly the same as the standard Agent.\n",
    "    The agent reports different values to tune via the TuneReporterCallback()\n",
    "    It also saves the agent with lowest loss as a 'checkpoint'. This was my \n",
    "    way of doing a ModelCheckpoint as in the notebook linked above\n",
    "    but it might be a bad idea...\n",
    "\n",
    "    In the training loop this agent also calculates the regret and accuracy of each episode\n",
    "    and calculates the average loss of of all episodes as it goes. This is in case it could\n",
    "    be useful for updating hyperparameters and utilising early stopping.\n",
    "    \"\"\"\n",
    "    def __init__(self, model, env_name, learning_rate=1e-3, gamma=0.8, value_coefficient=0.2, entropy_coefficient=.002, name=None, data_path=None, instance = 'bernoulli'):\n",
    "        super().__init__(model, env_name, learning_rate, gamma, value_coefficient, entropy_coefficient, name, data_path, instance)\n",
    "        # did not get the 'ModelCheckpoint' -way to work as in the tutorial\n",
    "        # self.modelcheckpoint = ModelCheckpoint(\"model.h5\", monitor='loss', save_best_only=True, save_freq='epoch')\n",
    "        # self.modelcheckpoint.set_model(self.model)\n",
    "        self.tunereporter = TuneReporterCallback()\n",
    "        self.tunereporter.set_model(self.model)\n",
    "        \n",
    "    def train(self, episodes=250):\n",
    "        # Training loop: collect samples, send to optimizer, repeat episodes times.\n",
    "\n",
    "        #set it like this in case you train a model and want to train it further.\n",
    "        try:\n",
    "            self.training_history = self.training_history\n",
    "        except:\n",
    "            self.training_history = []\n",
    "\n",
    "        # set a value for previous loss, use this to save agents that have a lower loss-function\n",
    "        previous_loss = 1E10 #start with a really high value\n",
    "\n",
    "        #calculate runninng mean of loss, if the loss converges to some value then \n",
    "        # so should the running loss (obviously not the other way though)\n",
    "        running_loss = 0\n",
    "\n",
    "        for episode in tqdm(range(episodes)):\n",
    "            actions, rewards, values, observations, env = self.run_episode()\n",
    "            self.training_history.append(np.sum(rewards))\n",
    "\n",
    "            logging.info(f\"Episode: {len(self.training_history) - 1:3d}, Reward: {int(self.training_history[-1]):3d}\")\n",
    "            \n",
    "            # `next_value` is the bootstrap value estimate of the future state (critic).\n",
    "            _, next_value, _ = self._predict(actions[-1], rewards[-1], observations[-1,0,3] + 1)\n",
    "\n",
    "            self.model.reset_states()\n",
    "            \n",
    "            returns, advantages = self._returns_advantages(rewards, values, next_value)\n",
    "            # A trick to input actions and advantages through same API.\n",
    "            actions_advantages = np.concatenate([actions[:, None], advantages[:, None]], axis=1)\n",
    "            \n",
    "            losses = self.model.train_on_batch(observations, [actions_advantages, returns])\n",
    "\n",
    "            # self.modelcheckpoint.on_epoch_end(episode, {'loss':losses[0]}) #did not get this working\n",
    "\n",
    "            # save agent if loss is lower than current best agent, might not be smart..\n",
    "            if abs(losses[0]) < previous_loss:\n",
    "                self.save_agent()\n",
    "\n",
    "            previous_loss = abs(losses[0])\n",
    "\n",
    "            #get accuracy of episode\n",
    "            equals = actions == np.argmax(env.bandit)\n",
    "            accuracy = equals.mean()\n",
    "\n",
    "            # the formula for updating the running mean\n",
    "            running_loss = (losses[0] + running_loss*(episode))/(episode + 1)\n",
    "\n",
    "            #regret of an episode\n",
    "            regret = env.bandit.max() - equals*env.bandit.max()-np.invert(equals)*env.bandit.min()\n",
    "\n",
    "            #report to tune\n",
    "            self.tunereporter.on_epoch_end(episode, {'loss': losses[0],\n",
    "                                                     'mean_reward': rewards.mean(), \n",
    "                                                     'accuracy':accuracy, \n",
    "                                                     'late_regret': np.sum(regret[-20:]),\n",
    "                                                     'running_loss': running_loss})\n",
    "            \n",
    "            # self.model.save(f'model{episode}') #this is done above instead but might be better this way?\n",
    "            \n",
    "            logging.debug(f\"[{episode + 1:d}/{episodes:d}] Losses: {losses}\")\n",
    "        # self.modelcheckpoint.on_train_end(None)\n",
    "        self.tunereporter.on_train_end(None) #as in the tutorial don't know why\n",
    "        return self.training_history\n",
    "\n",
    "def load_ray_agent(logdir,env, name = None):\n",
    "    \"\"\"\n",
    "    loads a RayAgent from it's data_path and name\n",
    "    again note that the storage of self.data_path has been changed slightly in the Agent class\n",
    "    \"\"\"\n",
    "    data_path = Path(logdir)\n",
    "    if name == None:\n",
    "        a = RayAgent(Model, env_name = env, data_path = data_path)\n",
    "    else:\n",
    "        a = RayAgent(Model, env_name = env, name = name, data_path = data_path)\n",
    "    a.load_agent()\n",
    "    return a\n",
    "\n",
    "\n"
   ]
  },
  {
   "cell_type": "code",
   "execution_count": 22,
   "metadata": {
    "colab": {},
    "colab_type": "code",
    "executionInfo": {
     "elapsed": 7526,
     "status": "ok",
     "timestamp": 1597393317668,
     "user": {
      "displayName": "Jakob Lange",
      "photoUrl": "",
      "userId": "01044619540213031762"
     },
     "user_tz": -60
    },
    "id": "DLffxfcN8kdQ"
   },
   "outputs": [],
   "source": [
    "# trying to implement ray[tune]\n",
    "def tune_agent(config):\n",
    "    \"\"\"\n",
    "    Creates and trains a RayAgent according to some config dictionary. \n",
    "    This function is passed to tune.run along with the config and some other\n",
    "    parameters, see 'Analysis block' below\n",
    "    \"\"\"\n",
    "    agent = RayAgent(Model, env_name = config['env'], learning_rate = config['lr'], gamma=config['gamma'], entropy_coefficient= config['ec'], value_coefficient=config['vc'])\n",
    "    # Enable Tune to make intermediate decisions by using a Tune Callback hook. This is Keras specific.\n",
    "    agent.train(config['episodes'])\n",
    "    \n",
    "ray.shutdown()"
   ]
  },
  {
   "cell_type": "code",
   "execution_count": 22,
   "metadata": {
    "colab": {},
    "colab_type": "code",
    "executionInfo": {
     "elapsed": 7525,
     "status": "ok",
     "timestamp": 1597393317675,
     "user": {
      "displayName": "Jakob Lange",
      "photoUrl": "",
      "userId": "01044619540213031762"
     },
     "user_tz": -60
    },
    "id": "WVDPvnrsGSKm"
   },
   "outputs": [],
   "source": []
  },
  {
   "cell_type": "code",
   "execution_count": 28,
   "metadata": {
    "colab": {
     "base_uri": "https://localhost:8080/",
     "height": 1000
    },
    "colab_type": "code",
    "executionInfo": {
     "elapsed": 11042285,
     "status": "ok",
     "timestamp": 1597404695962,
     "user": {
      "displayName": "Jakob Lange",
      "photoUrl": "",
      "userId": "01044619540213031762"
     },
     "user_tz": -60
    },
    "id": "TInfjKQX8kdT",
    "outputId": "1b8a9f71-a2db-403d-aead-37717995d7ce"
   },
   "outputs": [
    {
     "data": {
      "text/html": [
       "== Status ==<br>Memory usage on this node: 1.4/12.7 GiB<br>Using AsyncHyperBand: num_stopped=81\n",
       "Bracket: Iter 5120.000: 0.17665743618385893 | Iter 2560.000: 0.16895802748804262 | Iter 1280.000: 0.16782833106990425 | Iter 640.000: 0.16608568056562942 | Iter 320.000: 0.16310692262195517 | Iter 160.000: 0.15930623196691163 | Iter 80.000: 0.14841486047953373 | Iter 40.000: 0.09045124715194106 | Iter 20.000: -0.004921528417617083 | Iter 10.000: -0.152952529117465<br>Resources requested: 0/2 CPUs, 0/0 GPUs, 0.0/7.13 GiB heap, 0.0/2.44 GiB objects<br>Result logdir: /root/ray_results/tune_agent<br>Number of trials: 81 (81 TERMINATED)<br><table>\n",
       "<thead>\n",
       "<tr><th>Trial name                 </th><th>status    </th><th>loc  </th><th style=\"text-align: right;\">         ec</th><th style=\"text-align: right;\">   gamma</th><th style=\"text-align: right;\">        lr</th><th style=\"text-align: right;\">      vc</th><th style=\"text-align: right;\">        loss</th><th style=\"text-align: right;\">  iter</th><th style=\"text-align: right;\">  total time (s)</th></tr>\n",
       "</thead>\n",
       "<tbody>\n",
       "<tr><td>tune_agent_hard_ee786_00000</td><td>TERMINATED</td><td>     </td><td style=\"text-align: right;\">0.00132206 </td><td style=\"text-align: right;\">0.467362</td><td style=\"text-align: right;\">0.00794202</td><td style=\"text-align: right;\">0.104714</td><td style=\"text-align: right;\">-0.156282   </td><td style=\"text-align: right;\">    10</td><td style=\"text-align: right;\">         11.8147</td></tr>\n",
       "<tr><td>tune_agent_hard_ee786_00001</td><td>TERMINATED</td><td>     </td><td style=\"text-align: right;\">0.000243058</td><td style=\"text-align: right;\">0.467362</td><td style=\"text-align: right;\">0.00794202</td><td style=\"text-align: right;\">0.104714</td><td style=\"text-align: right;\"> 0.10166    </td><td style=\"text-align: right;\">  2560</td><td style=\"text-align: right;\">       1749.06  </td></tr>\n",
       "<tr><td>tune_agent_hard_ee786_00002</td><td>TERMINATED</td><td>     </td><td style=\"text-align: right;\">0.00307887 </td><td style=\"text-align: right;\">0.467362</td><td style=\"text-align: right;\">0.00794202</td><td style=\"text-align: right;\">0.104714</td><td style=\"text-align: right;\">-0.269961   </td><td style=\"text-align: right;\"> 10000</td><td style=\"text-align: right;\">       6640.91  </td></tr>\n",
       "<tr><td>tune_agent_hard_ee786_00003</td><td>TERMINATED</td><td>     </td><td style=\"text-align: right;\">0.00132206 </td><td style=\"text-align: right;\">0.662084</td><td style=\"text-align: right;\">0.00794202</td><td style=\"text-align: right;\">0.104714</td><td style=\"text-align: right;\"> 0.0366356  </td><td style=\"text-align: right;\">    20</td><td style=\"text-align: right;\">         18.7844</td></tr>\n",
       "<tr><td>tune_agent_hard_ee786_00004</td><td>TERMINATED</td><td>     </td><td style=\"text-align: right;\">0.000243058</td><td style=\"text-align: right;\">0.662084</td><td style=\"text-align: right;\">0.00794202</td><td style=\"text-align: right;\">0.104714</td><td style=\"text-align: right;\">-0.218359   </td><td style=\"text-align: right;\">    10</td><td style=\"text-align: right;\">         11.5936</td></tr>\n",
       "<tr><td>tune_agent_hard_ee786_00005</td><td>TERMINATED</td><td>     </td><td style=\"text-align: right;\">0.00307887 </td><td style=\"text-align: right;\">0.662084</td><td style=\"text-align: right;\">0.00794202</td><td style=\"text-align: right;\">0.104714</td><td style=\"text-align: right;\">-0.201046   </td><td style=\"text-align: right;\">  5120</td><td style=\"text-align: right;\">       3295.86  </td></tr>\n",
       "<tr><td>tune_agent_hard_ee786_00006</td><td>TERMINATED</td><td>     </td><td style=\"text-align: right;\">0.00132206 </td><td style=\"text-align: right;\">0.731545</td><td style=\"text-align: right;\">0.00794202</td><td style=\"text-align: right;\">0.104714</td><td style=\"text-align: right;\">-0.119722   </td><td style=\"text-align: right;\">    10</td><td style=\"text-align: right;\">         10.6589</td></tr>\n",
       "<tr><td>tune_agent_hard_ee786_00007</td><td>TERMINATED</td><td>     </td><td style=\"text-align: right;\">0.000243058</td><td style=\"text-align: right;\">0.731545</td><td style=\"text-align: right;\">0.00794202</td><td style=\"text-align: right;\">0.104714</td><td style=\"text-align: right;\"> 0.166836   </td><td style=\"text-align: right;\">    10</td><td style=\"text-align: right;\">         10.4787</td></tr>\n",
       "<tr><td>tune_agent_hard_ee786_00008</td><td>TERMINATED</td><td>     </td><td style=\"text-align: right;\">0.00307887 </td><td style=\"text-align: right;\">0.731545</td><td style=\"text-align: right;\">0.00794202</td><td style=\"text-align: right;\">0.104714</td><td style=\"text-align: right;\">-0.428138   </td><td style=\"text-align: right;\">    10</td><td style=\"text-align: right;\">         10.4208</td></tr>\n",
       "<tr><td>tune_agent_hard_ee786_00009</td><td>TERMINATED</td><td>     </td><td style=\"text-align: right;\">0.00132206 </td><td style=\"text-align: right;\">0.467362</td><td style=\"text-align: right;\">0.0100717 </td><td style=\"text-align: right;\">0.104714</td><td style=\"text-align: right;\"> 0.0203021  </td><td style=\"text-align: right;\">    20</td><td style=\"text-align: right;\">         17.1929</td></tr>\n",
       "<tr><td>tune_agent_hard_ee786_00010</td><td>TERMINATED</td><td>     </td><td style=\"text-align: right;\">0.000243058</td><td style=\"text-align: right;\">0.467362</td><td style=\"text-align: right;\">0.0100717 </td><td style=\"text-align: right;\">0.104714</td><td style=\"text-align: right;\"> 0.0303647  </td><td style=\"text-align: right;\">    10</td><td style=\"text-align: right;\">         10.635 </td></tr>\n",
       "<tr><td>tune_agent_hard_ee786_00011</td><td>TERMINATED</td><td>     </td><td style=\"text-align: right;\">0.00307887 </td><td style=\"text-align: right;\">0.467362</td><td style=\"text-align: right;\">0.0100717 </td><td style=\"text-align: right;\">0.104714</td><td style=\"text-align: right;\">-0.0931777  </td><td style=\"text-align: right;\">    40</td><td style=\"text-align: right;\">         28.5303</td></tr>\n",
       "<tr><td>tune_agent_hard_ee786_00012</td><td>TERMINATED</td><td>     </td><td style=\"text-align: right;\">0.00132206 </td><td style=\"text-align: right;\">0.662084</td><td style=\"text-align: right;\">0.0100717 </td><td style=\"text-align: right;\">0.104714</td><td style=\"text-align: right;\">-0.151765   </td><td style=\"text-align: right;\">    20</td><td style=\"text-align: right;\">         17.5198</td></tr>\n",
       "<tr><td>tune_agent_hard_ee786_00013</td><td>TERMINATED</td><td>     </td><td style=\"text-align: right;\">0.000243058</td><td style=\"text-align: right;\">0.662084</td><td style=\"text-align: right;\">0.0100717 </td><td style=\"text-align: right;\">0.104714</td><td style=\"text-align: right;\">-0.053459   </td><td style=\"text-align: right;\">    10</td><td style=\"text-align: right;\">         10.7302</td></tr>\n",
       "<tr><td>tune_agent_hard_ee786_00014</td><td>TERMINATED</td><td>     </td><td style=\"text-align: right;\">0.00307887 </td><td style=\"text-align: right;\">0.662084</td><td style=\"text-align: right;\">0.0100717 </td><td style=\"text-align: right;\">0.104714</td><td style=\"text-align: right;\"> 0.0269223  </td><td style=\"text-align: right;\">    40</td><td style=\"text-align: right;\">         30.3284</td></tr>\n",
       "<tr><td>tune_agent_hard_ee786_00015</td><td>TERMINATED</td><td>     </td><td style=\"text-align: right;\">0.00132206 </td><td style=\"text-align: right;\">0.731545</td><td style=\"text-align: right;\">0.0100717 </td><td style=\"text-align: right;\">0.104714</td><td style=\"text-align: right;\">-0.257915   </td><td style=\"text-align: right;\">    20</td><td style=\"text-align: right;\">         17.9396</td></tr>\n",
       "<tr><td>tune_agent_hard_ee786_00016</td><td>TERMINATED</td><td>     </td><td style=\"text-align: right;\">0.000243058</td><td style=\"text-align: right;\">0.731545</td><td style=\"text-align: right;\">0.0100717 </td><td style=\"text-align: right;\">0.104714</td><td style=\"text-align: right;\"> 0.131077   </td><td style=\"text-align: right;\">    10</td><td style=\"text-align: right;\">         11.209 </td></tr>\n",
       "<tr><td>tune_agent_hard_ee786_00017</td><td>TERMINATED</td><td>     </td><td style=\"text-align: right;\">0.00307887 </td><td style=\"text-align: right;\">0.731545</td><td style=\"text-align: right;\">0.0100717 </td><td style=\"text-align: right;\">0.104714</td><td style=\"text-align: right;\">-0.132488   </td><td style=\"text-align: right;\">    10</td><td style=\"text-align: right;\">         10.8709</td></tr>\n",
       "<tr><td>tune_agent_hard_ee786_00018</td><td>TERMINATED</td><td>     </td><td style=\"text-align: right;\">0.00132206 </td><td style=\"text-align: right;\">0.467362</td><td style=\"text-align: right;\">0.00315009</td><td style=\"text-align: right;\">0.104714</td><td style=\"text-align: right;\">-0.0527708  </td><td style=\"text-align: right;\">    40</td><td style=\"text-align: right;\">         30.4352</td></tr>\n",
       "<tr><td>tune_agent_hard_ee786_00019</td><td>TERMINATED</td><td>     </td><td style=\"text-align: right;\">0.000243058</td><td style=\"text-align: right;\">0.467362</td><td style=\"text-align: right;\">0.00315009</td><td style=\"text-align: right;\">0.104714</td><td style=\"text-align: right;\"> 0.0557402  </td><td style=\"text-align: right;\">    10</td><td style=\"text-align: right;\">         10.8548</td></tr>\n",
       "<tr><td>tune_agent_hard_ee786_00020</td><td>TERMINATED</td><td>     </td><td style=\"text-align: right;\">0.00307887 </td><td style=\"text-align: right;\">0.467362</td><td style=\"text-align: right;\">0.00315009</td><td style=\"text-align: right;\">0.104714</td><td style=\"text-align: right;\">-0.0827122  </td><td style=\"text-align: right;\"> 10000</td><td style=\"text-align: right;\">       5640.84  </td></tr>\n",
       "<tr><td>tune_agent_hard_ee786_00021</td><td>TERMINATED</td><td>     </td><td style=\"text-align: right;\">0.00132206 </td><td style=\"text-align: right;\">0.662084</td><td style=\"text-align: right;\">0.00315009</td><td style=\"text-align: right;\">0.104714</td><td style=\"text-align: right;\">-0.130919   </td><td style=\"text-align: right;\">    10</td><td style=\"text-align: right;\">         10.8604</td></tr>\n",
       "<tr><td>tune_agent_hard_ee786_00022</td><td>TERMINATED</td><td>     </td><td style=\"text-align: right;\">0.000243058</td><td style=\"text-align: right;\">0.662084</td><td style=\"text-align: right;\">0.00315009</td><td style=\"text-align: right;\">0.104714</td><td style=\"text-align: right;\"> 0.0238189  </td><td style=\"text-align: right;\">    10</td><td style=\"text-align: right;\">         11.4213</td></tr>\n",
       "<tr><td>tune_agent_hard_ee786_00023</td><td>TERMINATED</td><td>     </td><td style=\"text-align: right;\">0.00307887 </td><td style=\"text-align: right;\">0.662084</td><td style=\"text-align: right;\">0.00315009</td><td style=\"text-align: right;\">0.104714</td><td style=\"text-align: right;\">-0.213235   </td><td style=\"text-align: right;\">    80</td><td style=\"text-align: right;\">         57.7947</td></tr>\n",
       "<tr><td>tune_agent_hard_ee786_00024</td><td>TERMINATED</td><td>     </td><td style=\"text-align: right;\">0.00132206 </td><td style=\"text-align: right;\">0.731545</td><td style=\"text-align: right;\">0.00315009</td><td style=\"text-align: right;\">0.104714</td><td style=\"text-align: right;\">-0.328515   </td><td style=\"text-align: right;\">    10</td><td style=\"text-align: right;\">         10.9019</td></tr>\n",
       "<tr><td>tune_agent_hard_ee786_00025</td><td>TERMINATED</td><td>     </td><td style=\"text-align: right;\">0.000243058</td><td style=\"text-align: right;\">0.731545</td><td style=\"text-align: right;\">0.00315009</td><td style=\"text-align: right;\">0.104714</td><td style=\"text-align: right;\"> 0.107735   </td><td style=\"text-align: right;\">    10</td><td style=\"text-align: right;\">         10.9255</td></tr>\n",
       "<tr><td>tune_agent_hard_ee786_00026</td><td>TERMINATED</td><td>     </td><td style=\"text-align: right;\">0.00307887 </td><td style=\"text-align: right;\">0.731545</td><td style=\"text-align: right;\">0.00315009</td><td style=\"text-align: right;\">0.104714</td><td style=\"text-align: right;\">-0.232254   </td><td style=\"text-align: right;\">    40</td><td style=\"text-align: right;\">         31.1874</td></tr>\n",
       "<tr><td>tune_agent_hard_ee786_00027</td><td>TERMINATED</td><td>     </td><td style=\"text-align: right;\">0.00132206 </td><td style=\"text-align: right;\">0.467362</td><td style=\"text-align: right;\">0.00794202</td><td style=\"text-align: right;\">0.347404</td><td style=\"text-align: right;\"> 0.108506   </td><td style=\"text-align: right;\">    20</td><td style=\"text-align: right;\">         18.6662</td></tr>\n",
       "<tr><td>tune_agent_hard_ee786_00028</td><td>TERMINATED</td><td>     </td><td style=\"text-align: right;\">0.000243058</td><td style=\"text-align: right;\">0.467362</td><td style=\"text-align: right;\">0.00794202</td><td style=\"text-align: right;\">0.347404</td><td style=\"text-align: right;\"> 0.00126724 </td><td style=\"text-align: right;\">    10</td><td style=\"text-align: right;\">         11.1494</td></tr>\n",
       "<tr><td>tune_agent_hard_ee786_00029</td><td>TERMINATED</td><td>     </td><td style=\"text-align: right;\">0.00307887 </td><td style=\"text-align: right;\">0.467362</td><td style=\"text-align: right;\">0.00794202</td><td style=\"text-align: right;\">0.347404</td><td style=\"text-align: right;\">-0.0187053  </td><td style=\"text-align: right;\">    40</td><td style=\"text-align: right;\">         32.2186</td></tr>\n",
       "<tr><td>tune_agent_hard_ee786_00030</td><td>TERMINATED</td><td>     </td><td style=\"text-align: right;\">0.00132206 </td><td style=\"text-align: right;\">0.662084</td><td style=\"text-align: right;\">0.00794202</td><td style=\"text-align: right;\">0.347404</td><td style=\"text-align: right;\">-0.0370599  </td><td style=\"text-align: right;\">    10</td><td style=\"text-align: right;\">         11.5763</td></tr>\n",
       "<tr><td>tune_agent_hard_ee786_00031</td><td>TERMINATED</td><td>     </td><td style=\"text-align: right;\">0.000243058</td><td style=\"text-align: right;\">0.662084</td><td style=\"text-align: right;\">0.00794202</td><td style=\"text-align: right;\">0.347404</td><td style=\"text-align: right;\"> 0.0634839  </td><td style=\"text-align: right;\">    10</td><td style=\"text-align: right;\">         11.2216</td></tr>\n",
       "<tr><td>tune_agent_hard_ee786_00032</td><td>TERMINATED</td><td>     </td><td style=\"text-align: right;\">0.00307887 </td><td style=\"text-align: right;\">0.662084</td><td style=\"text-align: right;\">0.00794202</td><td style=\"text-align: right;\">0.347404</td><td style=\"text-align: right;\">-0.18389    </td><td style=\"text-align: right;\">    10</td><td style=\"text-align: right;\">         11.6711</td></tr>\n",
       "<tr><td>tune_agent_hard_ee786_00033</td><td>TERMINATED</td><td>     </td><td style=\"text-align: right;\">0.00132206 </td><td style=\"text-align: right;\">0.731545</td><td style=\"text-align: right;\">0.00794202</td><td style=\"text-align: right;\">0.347404</td><td style=\"text-align: right;\">-0.0178702  </td><td style=\"text-align: right;\">    10</td><td style=\"text-align: right;\">         11.547 </td></tr>\n",
       "<tr><td>tune_agent_hard_ee786_00034</td><td>TERMINATED</td><td>     </td><td style=\"text-align: right;\">0.000243058</td><td style=\"text-align: right;\">0.731545</td><td style=\"text-align: right;\">0.00794202</td><td style=\"text-align: right;\">0.347404</td><td style=\"text-align: right;\">-0.00515471 </td><td style=\"text-align: right;\">    10</td><td style=\"text-align: right;\">         11.5427</td></tr>\n",
       "<tr><td>tune_agent_hard_ee786_00035</td><td>TERMINATED</td><td>     </td><td style=\"text-align: right;\">0.00307887 </td><td style=\"text-align: right;\">0.731545</td><td style=\"text-align: right;\">0.00794202</td><td style=\"text-align: right;\">0.347404</td><td style=\"text-align: right;\">-0.174889   </td><td style=\"text-align: right;\">    10</td><td style=\"text-align: right;\">         11.6954</td></tr>\n",
       "<tr><td>tune_agent_hard_ee786_00036</td><td>TERMINATED</td><td>     </td><td style=\"text-align: right;\">0.00132206 </td><td style=\"text-align: right;\">0.467362</td><td style=\"text-align: right;\">0.0100717 </td><td style=\"text-align: right;\">0.347404</td><td style=\"text-align: right;\"> 0.176801   </td><td style=\"text-align: right;\">    20</td><td style=\"text-align: right;\">         19.7697</td></tr>\n",
       "<tr><td>tune_agent_hard_ee786_00037</td><td>TERMINATED</td><td>     </td><td style=\"text-align: right;\">0.000243058</td><td style=\"text-align: right;\">0.467362</td><td style=\"text-align: right;\">0.0100717 </td><td style=\"text-align: right;\">0.347404</td><td style=\"text-align: right;\"> 0.108607   </td><td style=\"text-align: right;\">    10</td><td style=\"text-align: right;\">         11.4179</td></tr>\n",
       "<tr><td>tune_agent_hard_ee786_00038</td><td>TERMINATED</td><td>     </td><td style=\"text-align: right;\">0.00307887 </td><td style=\"text-align: right;\">0.467362</td><td style=\"text-align: right;\">0.0100717 </td><td style=\"text-align: right;\">0.347404</td><td style=\"text-align: right;\">-0.134599   </td><td style=\"text-align: right;\">    10</td><td style=\"text-align: right;\">         11.7449</td></tr>\n",
       "<tr><td>tune_agent_hard_ee786_00039</td><td>TERMINATED</td><td>     </td><td style=\"text-align: right;\">0.00132206 </td><td style=\"text-align: right;\">0.662084</td><td style=\"text-align: right;\">0.0100717 </td><td style=\"text-align: right;\">0.347404</td><td style=\"text-align: right;\"> 0.108585   </td><td style=\"text-align: right;\">    10</td><td style=\"text-align: right;\">         11.6678</td></tr>\n",
       "<tr><td>tune_agent_hard_ee786_00040</td><td>TERMINATED</td><td>     </td><td style=\"text-align: right;\">0.000243058</td><td style=\"text-align: right;\">0.662084</td><td style=\"text-align: right;\">0.0100717 </td><td style=\"text-align: right;\">0.347404</td><td style=\"text-align: right;\">-0.027175   </td><td style=\"text-align: right;\">    10</td><td style=\"text-align: right;\">         11.6721</td></tr>\n",
       "<tr><td>tune_agent_hard_ee786_00041</td><td>TERMINATED</td><td>     </td><td style=\"text-align: right;\">0.00307887 </td><td style=\"text-align: right;\">0.662084</td><td style=\"text-align: right;\">0.0100717 </td><td style=\"text-align: right;\">0.347404</td><td style=\"text-align: right;\">-0.255156   </td><td style=\"text-align: right;\">    10</td><td style=\"text-align: right;\">         12.135 </td></tr>\n",
       "<tr><td>tune_agent_hard_ee786_00042</td><td>TERMINATED</td><td>     </td><td style=\"text-align: right;\">0.00132206 </td><td style=\"text-align: right;\">0.731545</td><td style=\"text-align: right;\">0.0100717 </td><td style=\"text-align: right;\">0.347404</td><td style=\"text-align: right;\"> 0.000945613</td><td style=\"text-align: right;\">    10</td><td style=\"text-align: right;\">         12.2677</td></tr>\n",
       "<tr><td>tune_agent_hard_ee786_00043</td><td>TERMINATED</td><td>     </td><td style=\"text-align: right;\">0.000243058</td><td style=\"text-align: right;\">0.731545</td><td style=\"text-align: right;\">0.0100717 </td><td style=\"text-align: right;\">0.347404</td><td style=\"text-align: right;\"> 0.218013   </td><td style=\"text-align: right;\">    10</td><td style=\"text-align: right;\">         11.9662</td></tr>\n",
       "<tr><td>tune_agent_hard_ee786_00044</td><td>TERMINATED</td><td>     </td><td style=\"text-align: right;\">0.00307887 </td><td style=\"text-align: right;\">0.731545</td><td style=\"text-align: right;\">0.0100717 </td><td style=\"text-align: right;\">0.347404</td><td style=\"text-align: right;\"> 0.054464   </td><td style=\"text-align: right;\">    10</td><td style=\"text-align: right;\">         12.0607</td></tr>\n",
       "<tr><td>tune_agent_hard_ee786_00045</td><td>TERMINATED</td><td>     </td><td style=\"text-align: right;\">0.00132206 </td><td style=\"text-align: right;\">0.467362</td><td style=\"text-align: right;\">0.00315009</td><td style=\"text-align: right;\">0.347404</td><td style=\"text-align: right;\">-0.00296625 </td><td style=\"text-align: right;\">    20</td><td style=\"text-align: right;\">         19.6348</td></tr>\n",
       "<tr><td>tune_agent_hard_ee786_00046</td><td>TERMINATED</td><td>     </td><td style=\"text-align: right;\">0.000243058</td><td style=\"text-align: right;\">0.467362</td><td style=\"text-align: right;\">0.00315009</td><td style=\"text-align: right;\">0.347404</td><td style=\"text-align: right;\"> 0.0311473  </td><td style=\"text-align: right;\">    10</td><td style=\"text-align: right;\">         11.989 </td></tr>\n",
       "<tr><td>tune_agent_hard_ee786_00047</td><td>TERMINATED</td><td>     </td><td style=\"text-align: right;\">0.00307887 </td><td style=\"text-align: right;\">0.467362</td><td style=\"text-align: right;\">0.00315009</td><td style=\"text-align: right;\">0.347404</td><td style=\"text-align: right;\">-0.107143   </td><td style=\"text-align: right;\">    40</td><td style=\"text-align: right;\">         34.0609</td></tr>\n",
       "<tr><td>tune_agent_hard_ee786_00048</td><td>TERMINATED</td><td>     </td><td style=\"text-align: right;\">0.00132206 </td><td style=\"text-align: right;\">0.662084</td><td style=\"text-align: right;\">0.00315009</td><td style=\"text-align: right;\">0.347404</td><td style=\"text-align: right;\">-0.0652151  </td><td style=\"text-align: right;\">    10</td><td style=\"text-align: right;\">         12.2603</td></tr>\n",
       "<tr><td>tune_agent_hard_ee786_00049</td><td>TERMINATED</td><td>     </td><td style=\"text-align: right;\">0.000243058</td><td style=\"text-align: right;\">0.662084</td><td style=\"text-align: right;\">0.00315009</td><td style=\"text-align: right;\">0.347404</td><td style=\"text-align: right;\"> 0.0687866  </td><td style=\"text-align: right;\">    10</td><td style=\"text-align: right;\">         11.1838</td></tr>\n",
       "<tr><td>tune_agent_hard_ee786_00050</td><td>TERMINATED</td><td>     </td><td style=\"text-align: right;\">0.00307887 </td><td style=\"text-align: right;\">0.662084</td><td style=\"text-align: right;\">0.00315009</td><td style=\"text-align: right;\">0.347404</td><td style=\"text-align: right;\">-0.00512204 </td><td style=\"text-align: right;\">    10</td><td style=\"text-align: right;\">         11.5267</td></tr>\n",
       "<tr><td>tune_agent_hard_ee786_00051</td><td>TERMINATED</td><td>     </td><td style=\"text-align: right;\">0.00132206 </td><td style=\"text-align: right;\">0.731545</td><td style=\"text-align: right;\">0.00315009</td><td style=\"text-align: right;\">0.347404</td><td style=\"text-align: right;\"> 0.777345   </td><td style=\"text-align: right;\">    10</td><td style=\"text-align: right;\">         11.6898</td></tr>\n",
       "<tr><td>tune_agent_hard_ee786_00052</td><td>TERMINATED</td><td>     </td><td style=\"text-align: right;\">0.000243058</td><td style=\"text-align: right;\">0.731545</td><td style=\"text-align: right;\">0.00315009</td><td style=\"text-align: right;\">0.347404</td><td style=\"text-align: right;\"> 0.409084   </td><td style=\"text-align: right;\">    10</td><td style=\"text-align: right;\">         11.5738</td></tr>\n",
       "<tr><td>tune_agent_hard_ee786_00053</td><td>TERMINATED</td><td>     </td><td style=\"text-align: right;\">0.00307887 </td><td style=\"text-align: right;\">0.731545</td><td style=\"text-align: right;\">0.00315009</td><td style=\"text-align: right;\">0.347404</td><td style=\"text-align: right;\"> 1.25144    </td><td style=\"text-align: right;\">    10</td><td style=\"text-align: right;\">         12.3121</td></tr>\n",
       "<tr><td>tune_agent_hard_ee786_00054</td><td>TERMINATED</td><td>     </td><td style=\"text-align: right;\">0.00132206 </td><td style=\"text-align: right;\">0.467362</td><td style=\"text-align: right;\">0.00794202</td><td style=\"text-align: right;\">0.315138</td><td style=\"text-align: right;\">-0.188625   </td><td style=\"text-align: right;\">    10</td><td style=\"text-align: right;\">         11.7693</td></tr>\n",
       "<tr><td>tune_agent_hard_ee786_00055</td><td>TERMINATED</td><td>     </td><td style=\"text-align: right;\">0.000243058</td><td style=\"text-align: right;\">0.467362</td><td style=\"text-align: right;\">0.00794202</td><td style=\"text-align: right;\">0.315138</td><td style=\"text-align: right;\"> 0.0682488  </td><td style=\"text-align: right;\">    10</td><td style=\"text-align: right;\">         10.9625</td></tr>\n",
       "<tr><td>tune_agent_hard_ee786_00056</td><td>TERMINATED</td><td>     </td><td style=\"text-align: right;\">0.00307887 </td><td style=\"text-align: right;\">0.467362</td><td style=\"text-align: right;\">0.00794202</td><td style=\"text-align: right;\">0.315138</td><td style=\"text-align: right;\">-0.188651   </td><td style=\"text-align: right;\">    40</td><td style=\"text-align: right;\">         32.4913</td></tr>\n",
       "<tr><td>tune_agent_hard_ee786_00057</td><td>TERMINATED</td><td>     </td><td style=\"text-align: right;\">0.00132206 </td><td style=\"text-align: right;\">0.662084</td><td style=\"text-align: right;\">0.00794202</td><td style=\"text-align: right;\">0.315138</td><td style=\"text-align: right;\">-0.127229   </td><td style=\"text-align: right;\">    10</td><td style=\"text-align: right;\">         11.4616</td></tr>\n",
       "<tr><td>tune_agent_hard_ee786_00058</td><td>TERMINATED</td><td>     </td><td style=\"text-align: right;\">0.000243058</td><td style=\"text-align: right;\">0.662084</td><td style=\"text-align: right;\">0.00794202</td><td style=\"text-align: right;\">0.315138</td><td style=\"text-align: right;\"> 0.441366   </td><td style=\"text-align: right;\">    10</td><td style=\"text-align: right;\">         11.7397</td></tr>\n",
       "<tr><td>tune_agent_hard_ee786_00059</td><td>TERMINATED</td><td>     </td><td style=\"text-align: right;\">0.00307887 </td><td style=\"text-align: right;\">0.662084</td><td style=\"text-align: right;\">0.00794202</td><td style=\"text-align: right;\">0.315138</td><td style=\"text-align: right;\">-0.0292753  </td><td style=\"text-align: right;\">    20</td><td style=\"text-align: right;\">         18.7735</td></tr>\n",
       "<tr><td>tune_agent_hard_ee786_00060</td><td>TERMINATED</td><td>     </td><td style=\"text-align: right;\">0.00132206 </td><td style=\"text-align: right;\">0.731545</td><td style=\"text-align: right;\">0.00794202</td><td style=\"text-align: right;\">0.315138</td><td style=\"text-align: right;\">-0.100422   </td><td style=\"text-align: right;\">    10</td><td style=\"text-align: right;\">         11.4396</td></tr>\n",
       "<tr><td>tune_agent_hard_ee786_00061</td><td>TERMINATED</td><td>     </td><td style=\"text-align: right;\">0.000243058</td><td style=\"text-align: right;\">0.731545</td><td style=\"text-align: right;\">0.00794202</td><td style=\"text-align: right;\">0.315138</td><td style=\"text-align: right;\">-0.00645502 </td><td style=\"text-align: right;\">    10</td><td style=\"text-align: right;\">         11.3446</td></tr>\n",
       "<tr><td>tune_agent_hard_ee786_00062</td><td>TERMINATED</td><td>     </td><td style=\"text-align: right;\">0.00307887 </td><td style=\"text-align: right;\">0.731545</td><td style=\"text-align: right;\">0.00794202</td><td style=\"text-align: right;\">0.315138</td><td style=\"text-align: right;\"> 0.32593    </td><td style=\"text-align: right;\">    20</td><td style=\"text-align: right;\">         18.2436</td></tr>\n",
       "<tr><td>tune_agent_hard_ee786_00063</td><td>TERMINATED</td><td>     </td><td style=\"text-align: right;\">0.00132206 </td><td style=\"text-align: right;\">0.467362</td><td style=\"text-align: right;\">0.0100717 </td><td style=\"text-align: right;\">0.315138</td><td style=\"text-align: right;\"> 0.0279155  </td><td style=\"text-align: right;\">    10</td><td style=\"text-align: right;\">         11.1184</td></tr>\n",
       "<tr><td>tune_agent_hard_ee786_00064</td><td>TERMINATED</td><td>     </td><td style=\"text-align: right;\">0.000243058</td><td style=\"text-align: right;\">0.467362</td><td style=\"text-align: right;\">0.0100717 </td><td style=\"text-align: right;\">0.315138</td><td style=\"text-align: right;\"> 0.148721   </td><td style=\"text-align: right;\">    10</td><td style=\"text-align: right;\">         11.0552</td></tr>\n",
       "<tr><td>tune_agent_hard_ee786_00065</td><td>TERMINATED</td><td>     </td><td style=\"text-align: right;\">0.00307887 </td><td style=\"text-align: right;\">0.467362</td><td style=\"text-align: right;\">0.0100717 </td><td style=\"text-align: right;\">0.315138</td><td style=\"text-align: right;\"> 0.0454766  </td><td style=\"text-align: right;\">    20</td><td style=\"text-align: right;\">         18.9601</td></tr>\n",
       "<tr><td>tune_agent_hard_ee786_00066</td><td>TERMINATED</td><td>     </td><td style=\"text-align: right;\">0.00132206 </td><td style=\"text-align: right;\">0.662084</td><td style=\"text-align: right;\">0.0100717 </td><td style=\"text-align: right;\">0.315138</td><td style=\"text-align: right;\"> 0.016914   </td><td style=\"text-align: right;\">    10</td><td style=\"text-align: right;\">         11.6408</td></tr>\n",
       "<tr><td>tune_agent_hard_ee786_00067</td><td>TERMINATED</td><td>     </td><td style=\"text-align: right;\">0.000243058</td><td style=\"text-align: right;\">0.662084</td><td style=\"text-align: right;\">0.0100717 </td><td style=\"text-align: right;\">0.315138</td><td style=\"text-align: right;\"> 0.0624539  </td><td style=\"text-align: right;\">    10</td><td style=\"text-align: right;\">         10.9454</td></tr>\n",
       "<tr><td>tune_agent_hard_ee786_00068</td><td>TERMINATED</td><td>     </td><td style=\"text-align: right;\">0.00307887 </td><td style=\"text-align: right;\">0.662084</td><td style=\"text-align: right;\">0.0100717 </td><td style=\"text-align: right;\">0.315138</td><td style=\"text-align: right;\">-0.00524221 </td><td style=\"text-align: right;\">    20</td><td style=\"text-align: right;\">         17.9416</td></tr>\n",
       "<tr><td>tune_agent_hard_ee786_00069</td><td>TERMINATED</td><td>     </td><td style=\"text-align: right;\">0.00132206 </td><td style=\"text-align: right;\">0.731545</td><td style=\"text-align: right;\">0.0100717 </td><td style=\"text-align: right;\">0.315138</td><td style=\"text-align: right;\">-0.0156195  </td><td style=\"text-align: right;\">    10</td><td style=\"text-align: right;\">         12.1314</td></tr>\n",
       "<tr><td>tune_agent_hard_ee786_00070</td><td>TERMINATED</td><td>     </td><td style=\"text-align: right;\">0.000243058</td><td style=\"text-align: right;\">0.731545</td><td style=\"text-align: right;\">0.0100717 </td><td style=\"text-align: right;\">0.315138</td><td style=\"text-align: right;\"> 0.20106    </td><td style=\"text-align: right;\">    10</td><td style=\"text-align: right;\">         11.533 </td></tr>\n",
       "<tr><td>tune_agent_hard_ee786_00071</td><td>TERMINATED</td><td>     </td><td style=\"text-align: right;\">0.00307887 </td><td style=\"text-align: right;\">0.731545</td><td style=\"text-align: right;\">0.0100717 </td><td style=\"text-align: right;\">0.315138</td><td style=\"text-align: right;\">-0.141826   </td><td style=\"text-align: right;\">    20</td><td style=\"text-align: right;\">         18.1034</td></tr>\n",
       "<tr><td>tune_agent_hard_ee786_00072</td><td>TERMINATED</td><td>     </td><td style=\"text-align: right;\">0.00132206 </td><td style=\"text-align: right;\">0.467362</td><td style=\"text-align: right;\">0.00315009</td><td style=\"text-align: right;\">0.315138</td><td style=\"text-align: right;\"> 0.212283   </td><td style=\"text-align: right;\">    20</td><td style=\"text-align: right;\">         18.0709</td></tr>\n",
       "<tr><td>tune_agent_hard_ee786_00073</td><td>TERMINATED</td><td>     </td><td style=\"text-align: right;\">0.000243058</td><td style=\"text-align: right;\">0.467362</td><td style=\"text-align: right;\">0.00315009</td><td style=\"text-align: right;\">0.315138</td><td style=\"text-align: right;\"> 0.0570333  </td><td style=\"text-align: right;\">    10</td><td style=\"text-align: right;\">         11.2933</td></tr>\n",
       "<tr><td>tune_agent_hard_ee786_00074</td><td>TERMINATED</td><td>     </td><td style=\"text-align: right;\">0.00307887 </td><td style=\"text-align: right;\">0.467362</td><td style=\"text-align: right;\">0.00315009</td><td style=\"text-align: right;\">0.315138</td><td style=\"text-align: right;\">-0.084535   </td><td style=\"text-align: right;\">    40</td><td style=\"text-align: right;\">         33.535 </td></tr>\n",
       "<tr><td>tune_agent_hard_ee786_00075</td><td>TERMINATED</td><td>     </td><td style=\"text-align: right;\">0.00132206 </td><td style=\"text-align: right;\">0.662084</td><td style=\"text-align: right;\">0.00315009</td><td style=\"text-align: right;\">0.315138</td><td style=\"text-align: right;\">-0.202923   </td><td style=\"text-align: right;\">    10</td><td style=\"text-align: right;\">         11.7957</td></tr>\n",
       "<tr><td>tune_agent_hard_ee786_00076</td><td>TERMINATED</td><td>     </td><td style=\"text-align: right;\">0.000243058</td><td style=\"text-align: right;\">0.662084</td><td style=\"text-align: right;\">0.00315009</td><td style=\"text-align: right;\">0.315138</td><td style=\"text-align: right;\"> 0.249073   </td><td style=\"text-align: right;\">    10</td><td style=\"text-align: right;\">         11.4619</td></tr>\n",
       "<tr><td>tune_agent_hard_ee786_00077</td><td>TERMINATED</td><td>     </td><td style=\"text-align: right;\">0.00307887 </td><td style=\"text-align: right;\">0.662084</td><td style=\"text-align: right;\">0.00315009</td><td style=\"text-align: right;\">0.315138</td><td style=\"text-align: right;\"> 0.00342543 </td><td style=\"text-align: right;\">    20</td><td style=\"text-align: right;\">         18.5885</td></tr>\n",
       "<tr><td>tune_agent_hard_ee786_00078</td><td>TERMINATED</td><td>     </td><td style=\"text-align: right;\">0.00132206 </td><td style=\"text-align: right;\">0.731545</td><td style=\"text-align: right;\">0.00315009</td><td style=\"text-align: right;\">0.315138</td><td style=\"text-align: right;\"> 0.0433301  </td><td style=\"text-align: right;\">    10</td><td style=\"text-align: right;\">         12.0203</td></tr>\n",
       "<tr><td>tune_agent_hard_ee786_00079</td><td>TERMINATED</td><td>     </td><td style=\"text-align: right;\">0.000243058</td><td style=\"text-align: right;\">0.731545</td><td style=\"text-align: right;\">0.00315009</td><td style=\"text-align: right;\">0.315138</td><td style=\"text-align: right;\"> 0.338552   </td><td style=\"text-align: right;\">    10</td><td style=\"text-align: right;\">         11.3219</td></tr>\n",
       "<tr><td>tune_agent_hard_ee786_00080</td><td>TERMINATED</td><td>     </td><td style=\"text-align: right;\">0.00307887 </td><td style=\"text-align: right;\">0.731545</td><td style=\"text-align: right;\">0.00315009</td><td style=\"text-align: right;\">0.315138</td><td style=\"text-align: right;\">-0.226934   </td><td style=\"text-align: right;\">    10</td><td style=\"text-align: right;\">         11.9341</td></tr>\n",
       "</tbody>\n",
       "</table><br><br>"
      ],
      "text/plain": [
       "<IPython.core.display.HTML object>"
      ]
     },
     "metadata": {
      "tags": []
     },
     "output_type": "display_data"
    }
   ],
   "source": [
    "# Analysis block\n",
    "from ray.tune.schedulers import ASHAScheduler\n",
    "from hyperopt import hp\n",
    "from ray.tune.suggest.hyperopt import HyperOptSearch\n",
    "\n",
    "# The schedulders implement early stopping and the ray.tune.suggest are search algorithms\n",
    "# for choices of hyperparameters. I used HyperOptSearch since it was used in following\n",
    "# tutorial: https://docs.ray.io/en/latest/tune/tutorials/tune-tutorial.html\n",
    "# documentation for schedulers: https://docs.ray.io/en/latest/tune/api_docs/schedulers.html#tune-schedulers\n",
    "# documentation for search algorithms: https://docs.ray.io/en/latest/tune/api_docs/suggestion.html#tune-search-alg\n",
    "\n",
    "# first a config for HyperOptSearch\n",
    "# here the values can certainly be optimised\n",
    "\n",
    "# config = {\n",
    "#     'lr': hp.loguniform('lr', np.log(0.00001), np.log(0.01)),\n",
    "#     'gamma': hp.uniform('gamma',0.5,1),\n",
    "#     'env': 'hard',\n",
    "#     'vc': hp.uniform('vc', 0.5,1),\n",
    "#     'ec': hp.uniform('ec', 0,0.05),\n",
    "#     'episodes': 10000\n",
    "# }\n",
    "\n",
    "# a config for grid_search, again the values used can be chosen better.\n",
    "config = {\n",
    "    'lr': tune.grid_search([0.00794201513518785, 0.010071661229025614, 0.003150087597448177]),\n",
    "    'gamma': tune.grid_search([0.46736200545385154, 0.662083596501603, 0.7315445113967135]),\n",
    "    'env': 'hard',\n",
    "    'vc': tune.grid_search([0.10471441019892447, 0.34740422443753005, 0.3151379752524732]),\n",
    "    'ec': tune.grid_search([0.0013220638509968284, 0.00024305803762718193, 0.003078870214204114]),\n",
    "    'episodes': 10000\n",
    "}\n",
    "\n",
    "# a search optimiser\n",
    "hyperopt_search = HyperOptSearch(config, metric = \"loss\", mode=\"min\")\n",
    "# obviously env and episodes are not hyperparameters but I just put them in there to update all in one go.\n",
    "num_samples = 100\n",
    "\n",
    "\n",
    "####################################################################################################\n",
    "################ This is just a validation function for tutorial purposes only. ####################\n",
    "HP_KEYS = [\"lr\", \"gamma\", \"env\", 'vc', 'ec']\n",
    "assert all(key in config for key in HP_KEYS), (\n",
    "    \"The hyperparameter space is not fully designated. It must include all of {}\".format(HP_KEYS))\n",
    "######################################################################################################\n",
    "\n",
    "ray.shutdown()  # Restart Ray defensively in case the ray connection is lost. \n",
    "ray.init(log_to_driver=False)\n",
    "# We clean out the logs before running for a clean visualization later.\n",
    "# this line is obviously 'dangerous' and might be smart to remove later on.\n",
    "! rm -rf ~/ray_results/tune_agent\n",
    "\n",
    "# here the values can for sure be picked better as well\n",
    "scheduler = ASHAScheduler(metric= 'running_loss', \n",
    "                          mode = 'min', grace_period = 10, \n",
    "                          brackets=1, reduction_factor =2, \n",
    "                          max_t = config['episodes'])\n",
    "\n",
    "# the analysis returns a dataframe with values reported to tune\n",
    "# and hyperparameters of agents\n",
    "analysis = tune.run(\n",
    "    tune_agent, \n",
    "    verbose=1, \n",
    "    config=config,\n",
    "    # search_alg = hyperopt_search,\n",
    "    scheduler = scheduler)\n",
    "    #num_samples=num_samples)\n"
   ]
  },
  {
   "cell_type": "code",
   "execution_count": null,
   "metadata": {
    "colab": {
     "base_uri": "https://localhost:8080/",
     "height": 122
    },
    "colab_type": "code",
    "executionInfo": {
     "elapsed": 67121,
     "status": "ok",
     "timestamp": 1597326025191,
     "user": {
      "displayName": "Jakob Lange",
      "photoUrl": "",
      "userId": "01044619540213031762"
     },
     "user_tz": -60
    },
    "id": "Tm_9Xmz98kdY",
    "outputId": "30ee2848-46e1-48f0-a993-21c6da7e63e1"
   },
   "outputs": [
    {
     "name": "stderr",
     "output_type": "stream",
     "text": [
      "WARNING:root:Updating parameters, training_history, weights and recompiling model.\n"
     ]
    },
    {
     "name": "stdout",
     "output_type": "stream",
     "text": [
      "You can use any of the following columns to get the best model: \n",
      "['keras_info/loss', 'keras_info/mean_reward'].\n",
      "==========\n",
      "/root/ray_results/tune_agent/tune_agent_hard_6_ec=0.086036,gamma=0.64266,lr=0.0040487,vc=0.65114_2020-08-13_12-34-40o4cnf3py\n"
     ]
    }
   ],
   "source": [
    "print(\"You can use any of the following columns to get the best model: \\n{}.\".format(\n",
    "    [k for k in analysis.dataframe() if k.startswith(\"keras_info\")]))\n",
    "print(\"=\" * 10)\n",
    "\n",
    "# this should be the directory of the best agent (regarding loss)\n",
    "# but I'm not 100% coonvinced since I might have a bug\n",
    "logdir = analysis.get_best_logdir(\"keras_info/loss\", mode=\"min\")\n",
    "\n",
    "# load the agent from the logdir\n",
    "agent = load_best_agent(logdir, 'hard')"
   ]
  },
  {
   "cell_type": "code",
   "execution_count": null,
   "metadata": {
    "colab": {
     "base_uri": "https://localhost:8080/",
     "height": 85
    },
    "colab_type": "code",
    "executionInfo": {
     "elapsed": 969,
     "status": "ok",
     "timestamp": 1597311528750,
     "user": {
      "displayName": "Jakob Lange",
      "photoUrl": "",
      "userId": "01044619540213031762"
     },
     "user_tz": -60
    },
    "id": "Zk7jMvzS_Eu5",
    "outputId": "d24814a4-879a-49c3-bed3-1505953cf5ca"
   },
   "outputs": [
    {
     "name": "stdout",
     "output_type": "stream",
     "text": [
      "0.003078870214204114\n",
      "0.3151379752524732\n",
      "0.003150087597448177\n",
      "0.7315445113967135\n"
     ]
    }
   ],
   "source": [
    "# from here just playing around again\n",
    "print(agent.entropy_coefficient)\n",
    "print(agent.value_coefficient)\n",
    "print(agent.learning_rate)\n",
    "print(agent.gamma )"
   ]
  },
  {
   "cell_type": "code",
   "execution_count": null,
   "metadata": {
    "colab": {
     "base_uri": "https://localhost:8080/",
     "height": 374
    },
    "colab_type": "code",
    "executionInfo": {
     "elapsed": 717,
     "status": "ok",
     "timestamp": 1597311912495,
     "user": {
      "displayName": "Jakob Lange",
      "photoUrl": "",
      "userId": "01044619540213031762"
     },
     "user_tz": -60
    },
    "id": "5etymT2bFR1E",
    "outputId": "148e2723-ed38-42ad-dd56-bca2b50c4679"
   },
   "outputs": [
    {
     "data": {
      "text/plain": [
       "0     4.487146\n",
       "1     0.052100\n",
       "2     0.260175\n",
       "3     0.174216\n",
       "4     0.201002\n",
       "5     2.054963\n",
       "6     0.144058\n",
       "7     0.843013\n",
       "8     0.128974\n",
       "9     0.693586\n",
       "10    0.104266\n",
       "11    0.184015\n",
       "12    1.364127\n",
       "13    0.141782\n",
       "14    0.024776\n",
       "15    1.201749\n",
       "16    0.077754\n",
       "17    0.128224\n",
       "18    0.221034\n",
       "19    0.105955\n",
       "Name: mean_loss, dtype: float64"
      ]
     },
     "execution_count": 66,
     "metadata": {
      "tags": []
     },
     "output_type": "execute_result"
    }
   ],
   "source": [
    "df = analysis.dataframe()\n",
    "np.abs(df['mean_loss'])\n",
    "# df.sort_values(by=['keras_info/loss'])\n",
    "# np.abs(df['keras_info/loss'])"
   ]
  },
  {
   "cell_type": "code",
   "execution_count": null,
   "metadata": {
    "colab": {
     "base_uri": "https://localhost:8080/",
     "height": 34
    },
    "colab_type": "code",
    "executionInfo": {
     "elapsed": 694,
     "status": "ok",
     "timestamp": 1597312103630,
     "user": {
      "displayName": "Jakob Lange",
      "photoUrl": "",
      "userId": "01044619540213031762"
     },
     "user_tz": -60
    },
    "id": "7lY1j6M9H2wy",
    "outputId": "0ad675b0-e4c9-4d39-df0c-365f81c494a9"
   },
   "outputs": [
    {
     "name": "stderr",
     "output_type": "stream",
     "text": [
      "WARNING:root:Updating parameters, training_history, weights and recompiling model.\n"
     ]
    }
   ],
   "source": [
    "log16 = Path('/root/ray_results/tune_agent/tune_agent_hard_16_ec=0.0030789,gamma=0.73154,lr=0.0031501,vc=0.31514_2020-08-13_05-18-55zw48s1if')\n",
    "agent = load_best_agent(log1, 'hard')"
   ]
  },
  {
   "cell_type": "markdown",
   "metadata": {
    "colab_type": "text",
    "id": "nS1Q5RKvJlU6"
   },
   "source": [
    "Hyperparams to try:\n",
    " ec: 0.0013220638509968284\n",
    " vc: 0.10471441019892447\n",
    " lr: 0.00794201513518785\n",
    " gamma: 0.46736200545385154\n",
    "\n",
    "ec: 0.00024305803762718193\n",
    "vc: 0.34740422443753005\n",
    "lr: 0.010071661229025614\n",
    "gamma: 0.662083596501603\n",
    "\n",
    "ec: 0.003078870214204114\n",
    "vc: 0.3151379752524732\n",
    "lr: 0.003150087597448177\n",
    "gamma: 0.7315445113967135\n",
    "\n",
    "[0.0013220638509968284, 0.00024305803762718193, 0.003078870214204114]\n"
   ]
  },
  {
   "cell_type": "markdown",
   "metadata": {
    "colab_type": "text",
    "id": "ahwBiSl58kdb"
   },
   "source": [
    "# train"
   ]
  },
  {
   "cell_type": "code",
   "execution_count": 21,
   "metadata": {
    "colab": {},
    "colab_type": "code",
    "id": "fw6JlLCk8kdc",
    "outputId": "46626a58-06a2-4c43-d31c-ce2c37eb2645"
   },
   "outputs": [
    {
     "data": {
      "application/vnd.jupyter.widget-view+json": {
       "model_id": "312bfd237d9648e7855e3e502f921b85",
       "version_major": 2,
       "version_minor": 0
      },
      "text/plain": [
       "HBox(children=(FloatProgress(value=0.0, max=20000.0), HTML(value='')))"
      ]
     },
     "metadata": {},
     "output_type": "display_data"
    },
    {
     "name": "stdout",
     "output_type": "stream",
     "text": [
      "\n"
     ]
    }
   ],
   "source": [
    "# for e in ['easy', 'medium', 'hard', 'uniform']:\n",
    "name = \"easygauss\"\n",
    "agent = Agent(Model, 'easy', name = name, instance = 'gauss')\n",
    "agent.train(20000)\n",
    "agent.save_agent()\n",
    "del agent\n",
    "  \n",
    "\n",
    "# training_history = agent.train(20000)\n",
    "\n",
    "# print(\"Finished training! Testing...\")\n",
    "# print(\"Total Episode Reward: %d out of 100\" % agent.run_episode()[1].sum())"
   ]
  },
  {
   "cell_type": "code",
   "execution_count": 19,
   "metadata": {
    "colab": {},
    "colab_type": "code",
    "id": "cN2kh6vp8kdi"
   },
   "outputs": [],
   "source": [
    "agent = Agent(Model, 'easy', name = 'easygauss', instance = 'gauss')"
   ]
  },
  {
   "cell_type": "markdown",
   "metadata": {
    "colab_type": "text",
    "id": "0c79g4C58kdo"
   },
   "source": [
    "# or load weights"
   ]
  },
  {
   "cell_type": "code",
   "execution_count": null,
   "metadata": {
    "colab": {},
    "colab_type": "code",
    "id": "dNiEor0r8kdp"
   },
   "outputs": [],
   "source": [
    "agent.save_agent()"
   ]
  },
  {
   "cell_type": "code",
   "execution_count": 20,
   "metadata": {
    "colab": {},
    "colab_type": "code",
    "id": "NS7aNiAi8kdx",
    "outputId": "083315ee-3c24-48f4-86e6-54e6471f1261"
   },
   "outputs": [
    {
     "name": "stderr",
     "output_type": "stream",
     "text": [
      "WARNING:root:Updating parameters, training_history, weights and recompiling model.\n"
     ]
    }
   ],
   "source": [
    "agent.load_agent()"
   ]
  },
  {
   "cell_type": "code",
   "execution_count": null,
   "metadata": {
    "colab": {},
    "colab_type": "code",
    "id": "46ysV3Ek8kd8",
    "outputId": "a1fd66c1-d2c0-4096-9080-c8322cd404eb"
   },
   "outputs": [
    {
     "data": {
      "text/plain": [
       "array([43., 60., 50., ..., 53., 66., 55.])"
      ]
     },
     "execution_count": 29,
     "metadata": {
      "tags": []
     },
     "output_type": "execute_result"
    }
   ],
   "source": [
    "agent.training_history\n",
    "# plt.style.use('seaborn')\n",
    "# plt.plot(np.arange(0, len(agent.training_history), 5), agent.training_history[::5])\n",
    "# # plt.plot(np.arange(len(training_history)), training_history)\n",
    "# plt.xlabel('Episode')\n",
    "# plt.ylabel('Total Reward')"
   ]
  },
  {
   "cell_type": "markdown",
   "metadata": {
    "colab_type": "text",
    "id": "_UuHui4Z8keC"
   },
   "source": [
    "# analyze model"
   ]
  },
  {
   "cell_type": "code",
   "execution_count": 19,
   "metadata": {
    "colab": {},
    "colab_type": "code",
    "id": "F_DBhTxi8keD"
   },
   "outputs": [],
   "source": [
    "class Benchmark:\n",
    "    \"\"\"\n",
    "    here regret is added for uniform as well\n",
    "    \"\"\"\n",
    "    def __init__(self, agent, env_name=None, n_episodes=300, instance = 'bernoulli'):\n",
    "        self.agent = agent\n",
    "        self.env_name = env_name or agent.env_name\n",
    "        self.instance = instance\n",
    "        if instance == 'bernoulli':\n",
    "            self.env = dependent_bandit(self.env_name)\n",
    "        elif instance == 'gauss':\n",
    "            self.env = GaussBandit(self.env_name)\n",
    "        self.n_episodes = n_episodes\n",
    "    \n",
    "    def evaluate(self):\n",
    "        rewards = np.empty((self.n_episodes, self.env.n_timesteps))\n",
    "        actions = np.empty((self.n_episodes, self.env.n_timesteps))\n",
    "        values = np.empty((self.n_episodes, self.env.n_timesteps))\n",
    "        bandits = np.empty((self.n_episodes, 2))\n",
    "        for episode in tqdm(range(self.n_episodes)):\n",
    "            actions[episode], rewards[episode], values[episode], _, _ = self.agent.run_episode(self.env)\n",
    "            bandits[episode] = self.env.bandit\n",
    "        self.episodes = {\n",
    "            'rewards': rewards,\n",
    "            'actions': actions,\n",
    "            'values': values,\n",
    "            'bandits': bandits\n",
    "        }\n",
    "            \n",
    "    def hist(self):\n",
    "        if not hasattr(self, 'episodes'):\n",
    "            self.evaluate()\n",
    "        plt.hist(self.episodes['rewards'].sum(1) / (self.env.bandit.max() * 100))\n",
    "\n",
    "    def calculate_regret(self):\n",
    "        if not hasattr(self, 'episodes'):\n",
    "            self.evaluate()\n",
    "        \n",
    "        #implement regret for 'uniform' environment\n",
    "        if self.env.difficulty == 'uniform':\n",
    "            arr = np.empty(self.episodes['rewards'].shape).T\n",
    "            arr[:,:] = np.max(self.episodes['bandits'], axis = 1)\n",
    "            regret = (arr.T - self.episodes['rewards']).mean(0)\n",
    "        else:\n",
    "            regret = self.env.bandit.max() - self.episodes['rewards'].mean(0)\n",
    "        return regret\n",
    "  \n",
    "    def plot_cumulative_regret(self):\n",
    "        plt.plot(np.cumsum(self.calculate_regret()))\n",
    "        \n",
    "    def plot_rewards(self):\n",
    "        import matplotlib.patches as mpatches\n",
    "        if not hasattr(self, 'episodes'):\n",
    "            self.evaluate()\n",
    "\n",
    "        im = plt.imshow(self.episodes['rewards'], cmap='binary', origin='lower', interpolation='nearest')\n",
    "        \n",
    "#         patches = [mpatches.Patch(color=im.cmap(im.norm(0)), label=\"Sub-optimal choice\")]\n",
    "#         plt.legend(handles=patches, )\n",
    "        \n",
    "        plt.gca().set_aspect('auto')\n",
    "        plt.grid(False)\n",
    "    \n",
    "    def plot_actions(self):\n",
    "        import matplotlib.patches as mpatches\n",
    "        if not hasattr(self, 'episodes'):\n",
    "            self.evaluate()\n",
    "        actions_optimal = np.empty_like(self.episodes['actions'])\n",
    "        _itr = zip(self.episodes['actions'], np.argmax(self.episodes['bandits'], 1))\n",
    "        \n",
    "        for i, (actions_episode, optimal_choice) in enumerate(_itr):\n",
    "            actions_optimal[i] = actions_episode == optimal_choice\n",
    "\n",
    "        im = plt.imshow(actions_optimal, cmap='Greens_r', origin='lower', interpolation='nearest')\n",
    "        \n",
    "        patches = [mpatches.Patch(color=im.cmap(im.norm(0)), label=\"Sub-optimal choice\")]\n",
    "        plt.legend(handles=patches, )\n",
    "        \n",
    "        plt.gca().set_aspect('auto')\n",
    "        plt.grid(False)"
   ]
  },
  {
   "cell_type": "code",
   "execution_count": 55,
   "metadata": {
    "colab": {
     "base_uri": "https://localhost:8080/",
     "height": 827,
     "referenced_widgets": [
      "cc8a480ddc9e44c998f08cedcb5c7524",
      "772c12779eeb417cbed109cc2babe68d",
      "65f9025b43ed4460bde99dd887201672",
      "591b581138844adcbfa83940f26206c0",
      "d03665f17b1440ff9aa4324e94c326a7",
      "b14aec72953a48a48b14c0c16e6e0b4b",
      "40aafeb20f814a07a1294952ff29dd46",
      "9ef997e9028844a78f897ac1f2615256"
     ]
    },
    "colab_type": "code",
    "executionInfo": {
     "elapsed": 154530,
     "status": "ok",
     "timestamp": 1597312838782,
     "user": {
      "displayName": "Jakob Lange",
      "photoUrl": "",
      "userId": "01044619540213031762"
     },
     "user_tz": -60
    },
    "id": "TDSRFGDl8keG",
    "outputId": "20a7d9ea-b578-497d-fed7-5df4d754199b"
   },
   "outputs": [
    {
     "name": "stderr",
     "output_type": "stream",
     "text": [
      "WARNING:root:Updating parameters, training_history, weights and recompiling model.\n"
     ]
    },
    {
     "data": {
      "application/vnd.jupyter.widget-view+json": {
       "model_id": "9bd359ceb0e0463d892038b23d2438eb",
       "version_major": 2,
       "version_minor": 0
      },
      "text/plain": [
       "HBox(children=(FloatProgress(value=0.0, max=300.0), HTML(value='')))"
      ]
     },
     "metadata": {},
     "output_type": "display_data"
    },
    {
     "name": "stdout",
     "output_type": "stream",
     "text": [
      "WARNING:tensorflow:Unresolved object in checkpoint: (root).optimizer.iter\n"
     ]
    },
    {
     "name": "stderr",
     "output_type": "stream",
     "text": [
      "WARNING:tensorflow:Unresolved object in checkpoint: (root).optimizer.iter\n"
     ]
    },
    {
     "name": "stdout",
     "output_type": "stream",
     "text": [
      "WARNING:tensorflow:Unresolved object in checkpoint: (root).optimizer.beta_1\n"
     ]
    },
    {
     "name": "stderr",
     "output_type": "stream",
     "text": [
      "WARNING:tensorflow:Unresolved object in checkpoint: (root).optimizer.beta_1\n"
     ]
    },
    {
     "name": "stdout",
     "output_type": "stream",
     "text": [
      "WARNING:tensorflow:Unresolved object in checkpoint: (root).optimizer.beta_2\n"
     ]
    },
    {
     "name": "stderr",
     "output_type": "stream",
     "text": [
      "WARNING:tensorflow:Unresolved object in checkpoint: (root).optimizer.beta_2\n"
     ]
    },
    {
     "name": "stdout",
     "output_type": "stream",
     "text": [
      "WARNING:tensorflow:Unresolved object in checkpoint: (root).optimizer.decay\n"
     ]
    },
    {
     "name": "stderr",
     "output_type": "stream",
     "text": [
      "WARNING:tensorflow:Unresolved object in checkpoint: (root).optimizer.decay\n"
     ]
    },
    {
     "name": "stdout",
     "output_type": "stream",
     "text": [
      "WARNING:tensorflow:Unresolved object in checkpoint: (root).optimizer.learning_rate\n"
     ]
    },
    {
     "name": "stderr",
     "output_type": "stream",
     "text": [
      "WARNING:tensorflow:Unresolved object in checkpoint: (root).optimizer.learning_rate\n"
     ]
    },
    {
     "name": "stdout",
     "output_type": "stream",
     "text": [
      "WARNING:tensorflow:Unresolved object in checkpoint: (root).optimizer's state 'm' for (root).policy.kernel\n"
     ]
    },
    {
     "name": "stderr",
     "output_type": "stream",
     "text": [
      "WARNING:tensorflow:Unresolved object in checkpoint: (root).optimizer's state 'm' for (root).policy.kernel\n"
     ]
    },
    {
     "name": "stdout",
     "output_type": "stream",
     "text": [
      "WARNING:tensorflow:Unresolved object in checkpoint: (root).optimizer's state 'm' for (root).policy.bias\n"
     ]
    },
    {
     "name": "stderr",
     "output_type": "stream",
     "text": [
      "WARNING:tensorflow:Unresolved object in checkpoint: (root).optimizer's state 'm' for (root).policy.bias\n"
     ]
    },
    {
     "name": "stdout",
     "output_type": "stream",
     "text": [
      "WARNING:tensorflow:Unresolved object in checkpoint: (root).optimizer's state 'm' for (root).value.kernel\n"
     ]
    },
    {
     "name": "stderr",
     "output_type": "stream",
     "text": [
      "WARNING:tensorflow:Unresolved object in checkpoint: (root).optimizer's state 'm' for (root).value.kernel\n"
     ]
    },
    {
     "name": "stdout",
     "output_type": "stream",
     "text": [
      "WARNING:tensorflow:Unresolved object in checkpoint: (root).optimizer's state 'm' for (root).value.bias\n"
     ]
    },
    {
     "name": "stderr",
     "output_type": "stream",
     "text": [
      "WARNING:tensorflow:Unresolved object in checkpoint: (root).optimizer's state 'm' for (root).value.bias\n"
     ]
    },
    {
     "name": "stdout",
     "output_type": "stream",
     "text": [
      "WARNING:tensorflow:Unresolved object in checkpoint: (root).optimizer's state 'v' for (root).policy.kernel\n"
     ]
    },
    {
     "name": "stderr",
     "output_type": "stream",
     "text": [
      "WARNING:tensorflow:Unresolved object in checkpoint: (root).optimizer's state 'v' for (root).policy.kernel\n"
     ]
    },
    {
     "name": "stdout",
     "output_type": "stream",
     "text": [
      "WARNING:tensorflow:Unresolved object in checkpoint: (root).optimizer's state 'v' for (root).policy.bias\n"
     ]
    },
    {
     "name": "stderr",
     "output_type": "stream",
     "text": [
      "WARNING:tensorflow:Unresolved object in checkpoint: (root).optimizer's state 'v' for (root).policy.bias\n"
     ]
    },
    {
     "name": "stdout",
     "output_type": "stream",
     "text": [
      "WARNING:tensorflow:Unresolved object in checkpoint: (root).optimizer's state 'v' for (root).value.kernel\n"
     ]
    },
    {
     "name": "stderr",
     "output_type": "stream",
     "text": [
      "WARNING:tensorflow:Unresolved object in checkpoint: (root).optimizer's state 'v' for (root).value.kernel\n"
     ]
    },
    {
     "name": "stdout",
     "output_type": "stream",
     "text": [
      "WARNING:tensorflow:Unresolved object in checkpoint: (root).optimizer's state 'v' for (root).value.bias\n"
     ]
    },
    {
     "name": "stderr",
     "output_type": "stream",
     "text": [
      "WARNING:tensorflow:Unresolved object in checkpoint: (root).optimizer's state 'v' for (root).value.bias\n"
     ]
    },
    {
     "name": "stdout",
     "output_type": "stream",
     "text": [
      "WARNING:tensorflow:A checkpoint was restored (e.g. tf.train.Checkpoint.restore or tf.keras.Model.load_weights) but not all checkpointed values were used. See above for specific issues. Use expect_partial() on the load status object, e.g. tf.train.Checkpoint.restore(...).expect_partial(), to silence these warnings, or use assert_consumed() to make the check explicit. See https://www.tensorflow.org/guide/checkpoint#loading_mechanics for details.\n"
     ]
    },
    {
     "name": "stderr",
     "output_type": "stream",
     "text": [
      "WARNING:tensorflow:A checkpoint was restored (e.g. tf.train.Checkpoint.restore or tf.keras.Model.load_weights) but not all checkpointed values were used. See above for specific issues. Use expect_partial() on the load status object, e.g. tf.train.Checkpoint.restore(...).expect_partial(), to silence these warnings, or use assert_consumed() to make the check explicit. See https://www.tensorflow.org/guide/checkpoint#loading_mechanics for details.\n"
     ]
    },
    {
     "name": "stdout",
     "output_type": "stream",
     "text": [
      "\n"
     ]
    },
    {
     "data": {
      "text/plain": [
       "[<matplotlib.lines.Line2D at 0x2483a0adf48>]"
      ]
     },
     "execution_count": 55,
     "metadata": {},
     "output_type": "execute_result"
    },
    {
     "data": {
      "image/png": "[encoded data removed]",
      "text/plain": [
       "<Figure size 432x288 with 1 Axes>"
      ]
     },
     "metadata": {
      "needs_background": "light"
     },
     "output_type": "display_data"
    }
   ],
   "source": [
    "\n",
    "# b = Benchmark(agent, 'easy')\n",
    "# b.plot_cumulative_regret()\n",
    "# b = agent.benchmark()\n",
    "agent = Agent(Model, 'easy', name = 'easygauss')\n",
    "agent.load_agent()\n",
    "b1 = Benchmark(agent, 'easy')\n",
    "reg1 = b1.calculate_regret()\n",
    "plt.plot(np.cumsum(reg1))\n"
   ]
  },
  {
   "cell_type": "code",
   "execution_count": 56,
   "metadata": {},
   "outputs": [
    {
     "data": {
      "text/plain": [
       "[<matplotlib.lines.Line2D at 0x2483a10ea08>]"
      ]
     },
     "execution_count": 56,
     "metadata": {},
     "output_type": "execute_result"
    },
    {
     "data": {
      "image/png": "[encoded data removed]",
      "text/plain": [
       "<Figure size 432x288 with 1 Axes>"
      ]
     },
     "metadata": {
      "needs_background": "light"
     },
     "output_type": "display_data"
    }
   ],
   "source": [
    "g = ThompsonAgent('easy')\n",
    "b2 = g.benchmark()\n",
    "treg = np.max(b2['bandits']) - b2['rewards'].mean(axis = 0)\n",
    "plt.plot(np.cumsum(treg))"
   ]
  },
  {
   "cell_type": "code",
   "execution_count": 59,
   "metadata": {},
   "outputs": [
    {
     "name": "stderr",
     "output_type": "stream",
     "text": [
      "WARNING:root:Updating parameters, training_history, weights and recompiling model.\n"
     ]
    },
    {
     "data": {
      "application/vnd.jupyter.widget-view+json": {
       "model_id": "82aba6d55e714d85bc6991b5bd799ed1",
       "version_major": 2,
       "version_minor": 0
      },
      "text/plain": [
       "HBox(children=(FloatProgress(value=0.0, max=300.0), HTML(value='')))"
      ]
     },
     "metadata": {},
     "output_type": "display_data"
    },
    {
     "name": "stdout",
     "output_type": "stream",
     "text": [
      "WARNING:tensorflow:Unresolved object in checkpoint: (root).optimizer.iter\n"
     ]
    },
    {
     "name": "stderr",
     "output_type": "stream",
     "text": [
      "WARNING:tensorflow:Unresolved object in checkpoint: (root).optimizer.iter\n"
     ]
    },
    {
     "name": "stdout",
     "output_type": "stream",
     "text": [
      "WARNING:tensorflow:Unresolved object in checkpoint: (root).optimizer.beta_1\n"
     ]
    },
    {
     "name": "stderr",
     "output_type": "stream",
     "text": [
      "WARNING:tensorflow:Unresolved object in checkpoint: (root).optimizer.beta_1\n"
     ]
    },
    {
     "name": "stdout",
     "output_type": "stream",
     "text": [
      "WARNING:tensorflow:Unresolved object in checkpoint: (root).optimizer.beta_2\n"
     ]
    },
    {
     "name": "stderr",
     "output_type": "stream",
     "text": [
      "WARNING:tensorflow:Unresolved object in checkpoint: (root).optimizer.beta_2\n"
     ]
    },
    {
     "name": "stdout",
     "output_type": "stream",
     "text": [
      "WARNING:tensorflow:Unresolved object in checkpoint: (root).optimizer.decay\n"
     ]
    },
    {
     "name": "stderr",
     "output_type": "stream",
     "text": [
      "WARNING:tensorflow:Unresolved object in checkpoint: (root).optimizer.decay\n"
     ]
    },
    {
     "name": "stdout",
     "output_type": "stream",
     "text": [
      "WARNING:tensorflow:Unresolved object in checkpoint: (root).optimizer.learning_rate\n"
     ]
    },
    {
     "name": "stderr",
     "output_type": "stream",
     "text": [
      "WARNING:tensorflow:Unresolved object in checkpoint: (root).optimizer.learning_rate\n"
     ]
    },
    {
     "name": "stdout",
     "output_type": "stream",
     "text": [
      "WARNING:tensorflow:Unresolved object in checkpoint: (root).optimizer's state 'm' for (root).policy.kernel\n"
     ]
    },
    {
     "name": "stderr",
     "output_type": "stream",
     "text": [
      "WARNING:tensorflow:Unresolved object in checkpoint: (root).optimizer's state 'm' for (root).policy.kernel\n"
     ]
    },
    {
     "name": "stdout",
     "output_type": "stream",
     "text": [
      "WARNING:tensorflow:Unresolved object in checkpoint: (root).optimizer's state 'm' for (root).policy.bias\n"
     ]
    },
    {
     "name": "stderr",
     "output_type": "stream",
     "text": [
      "WARNING:tensorflow:Unresolved object in checkpoint: (root).optimizer's state 'm' for (root).policy.bias\n"
     ]
    },
    {
     "name": "stdout",
     "output_type": "stream",
     "text": [
      "WARNING:tensorflow:Unresolved object in checkpoint: (root).optimizer's state 'm' for (root).value.kernel\n"
     ]
    },
    {
     "name": "stderr",
     "output_type": "stream",
     "text": [
      "WARNING:tensorflow:Unresolved object in checkpoint: (root).optimizer's state 'm' for (root).value.kernel\n"
     ]
    },
    {
     "name": "stdout",
     "output_type": "stream",
     "text": [
      "WARNING:tensorflow:Unresolved object in checkpoint: (root).optimizer's state 'm' for (root).value.bias\n"
     ]
    },
    {
     "name": "stderr",
     "output_type": "stream",
     "text": [
      "WARNING:tensorflow:Unresolved object in checkpoint: (root).optimizer's state 'm' for (root).value.bias\n"
     ]
    },
    {
     "name": "stdout",
     "output_type": "stream",
     "text": [
      "WARNING:tensorflow:Unresolved object in checkpoint: (root).optimizer's state 'v' for (root).policy.kernel\n"
     ]
    },
    {
     "name": "stderr",
     "output_type": "stream",
     "text": [
      "WARNING:tensorflow:Unresolved object in checkpoint: (root).optimizer's state 'v' for (root).policy.kernel\n"
     ]
    },
    {
     "name": "stdout",
     "output_type": "stream",
     "text": [
      "WARNING:tensorflow:Unresolved object in checkpoint: (root).optimizer's state 'v' for (root).policy.bias\n"
     ]
    },
    {
     "name": "stderr",
     "output_type": "stream",
     "text": [
      "WARNING:tensorflow:Unresolved object in checkpoint: (root).optimizer's state 'v' for (root).policy.bias\n"
     ]
    },
    {
     "name": "stdout",
     "output_type": "stream",
     "text": [
      "WARNING:tensorflow:Unresolved object in checkpoint: (root).optimizer's state 'v' for (root).value.kernel\n"
     ]
    },
    {
     "name": "stderr",
     "output_type": "stream",
     "text": [
      "WARNING:tensorflow:Unresolved object in checkpoint: (root).optimizer's state 'v' for (root).value.kernel\n"
     ]
    },
    {
     "name": "stdout",
     "output_type": "stream",
     "text": [
      "WARNING:tensorflow:Unresolved object in checkpoint: (root).optimizer's state 'v' for (root).value.bias\n"
     ]
    },
    {
     "name": "stderr",
     "output_type": "stream",
     "text": [
      "WARNING:tensorflow:Unresolved object in checkpoint: (root).optimizer's state 'v' for (root).value.bias\n"
     ]
    },
    {
     "name": "stdout",
     "output_type": "stream",
     "text": [
      "WARNING:tensorflow:A checkpoint was restored (e.g. tf.train.Checkpoint.restore or tf.keras.Model.load_weights) but not all checkpointed values were used. See above for specific issues. Use expect_partial() on the load status object, e.g. tf.train.Checkpoint.restore(...).expect_partial(), to silence these warnings, or use assert_consumed() to make the check explicit. See https://www.tensorflow.org/guide/checkpoint#loading_mechanics for details.\n"
     ]
    },
    {
     "name": "stderr",
     "output_type": "stream",
     "text": [
      "WARNING:tensorflow:A checkpoint was restored (e.g. tf.train.Checkpoint.restore or tf.keras.Model.load_weights) but not all checkpointed values were used. See above for specific issues. Use expect_partial() on the load status object, e.g. tf.train.Checkpoint.restore(...).expect_partial(), to silence these warnings, or use assert_consumed() to make the check explicit. See https://www.tensorflow.org/guide/checkpoint#loading_mechanics for details.\n"
     ]
    },
    {
     "name": "stdout",
     "output_type": "stream",
     "text": [
      "\n"
     ]
    },
    {
     "data": {
      "text/plain": [
       "[<matplotlib.lines.Line2D at 0x2483fa16488>]"
      ]
     },
     "execution_count": 59,
     "metadata": {},
     "output_type": "execute_result"
    },
    {
     "data": {
      "image/png": "[encoded data removed]",
      "text/plain": [
       "<Figure size 432x288 with 1 Axes>"
      ]
     },
     "metadata": {
      "needs_background": "light"
     },
     "output_type": "display_data"
    }
   ],
   "source": [
    "# treg = np.max(b2['bandits']) - b2['rewards'].mean(axis = 0)\n",
    "a2 = Agent(Model, 'easy')\n",
    "a2.load_agent()\n",
    "b3 = Benchmark(a2, 'easy')\n",
    "reg2 = b3.calculate_regret()\n",
    "# np.max(b2['bandits'], axis = 1)\n",
    "plt.plot(np.cumsum(reg2))"
   ]
  },
  {
   "cell_type": "code",
   "execution_count": 61,
   "metadata": {},
   "outputs": [
    {
     "data": {
      "text/plain": [
       "<matplotlib.axes._subplots.AxesSubplot at 0x2483fa32448>"
      ]
     },
     "execution_count": 61,
     "metadata": {},
     "output_type": "execute_result"
    },
    {
     "data": {
      "image/png": "[encoded data removed]",
      "text/plain": [
       "<Figure size 432x288 with 1 Axes>"
      ]
     },
     "metadata": {
      "needs_background": "light"
     },
     "output_type": "display_data"
    }
   ],
   "source": [
    "bernoulli_df = pd.DataFrame()\n",
    "bernoulli_df['gauss'] = np.cumsum(reg)\n",
    "bernoulli_df['thompson'] = np.cumsum(treg)\n",
    "bernoulli_df['standard'] = np.cumsum(reg2) \n",
    "bernoulli_df.plot()"
   ]
  },
  {
   "cell_type": "code",
   "execution_count": 62,
   "metadata": {},
   "outputs": [],
   "source": [
    "bernoulli_df.to_csv('bernoulli_df.csv')"
   ]
  },
  {
   "cell_type": "code",
   "execution_count": 72,
   "metadata": {},
   "outputs": [
    {
     "data": {
      "image/png": "[encoded data removed]",
      "text/plain": [
       "<Figure size 1152x720 with 2 Axes>"
      ]
     },
     "metadata": {
      "needs_background": "light"
     },
     "output_type": "display_data"
    }
   ],
   "source": [
    "# plt.figure(figsize = (12,12))\n",
    "fig, axes = plt.subplots(nrows = 1, ncols = 2, figsize = (16,10))\n",
    "axes[0].set_title('standard environment')\n",
    "axes[1].set_title('gauss environment')\n",
    "bernoulli_df.plot(ax = axes[0])\n",
    "gauss_df.plot(ax = axes[1])\n",
    "plt.savefig('bandits in standard and gaus env')\n",
    "# plt.subplot(121)\n",
    "# bernoulli_df.plot()\n",
    "# plt.subplot(122)\n",
    "# gauss_df.plot()\n"
   ]
  },
  {
   "cell_type": "code",
   "execution_count": 30,
   "metadata": {
    "colab": {
     "base_uri": "https://localhost:8080/",
     "height": 122
    },
    "colab_type": "code",
    "executionInfo": {
     "elapsed": 35514,
     "status": "ok",
     "timestamp": 1597404956306,
     "user": {
      "displayName": "Jakob Lange",
      "photoUrl": "",
      "userId": "01044619540213031762"
     },
     "user_tz": -60
    },
    "id": "XCNzt4uxRXk-",
    "outputId": "f327ab03-34ea-4673-92dd-7b05be775049"
   },
   "outputs": [
    {
     "name": "stdout",
     "output_type": "stream",
     "text": [
      "Go to this URL in a browser: https://accounts.google.com/o/oauth2/auth?client_id=947318989803-6bn6qk8qdgf4n4g3pfee6491hc0brc4i.apps.googleusercontent.com&redirect_uri=urn%3aietf%3awg%3aoauth%3a2.0%3aoob&scope=email%20https%3a%2f%2fwww.googleapis.com%2fauth%2fdocs.test%20https%3a%2f%2fwww.googleapis.com%2fauth%2fdrive%20https%3a%2f%2fwww.googleapis.com%2fauth%2fdrive.photos.readonly%20https%3a%2f%2fwww.googleapis.com%2fauth%2fpeopleapi.readonly&response_type=code\n",
      "\n",
      "Enter your authorization code:\n",
      "··········\n",
      "Mounted at /content/drive\n"
     ]
    }
   ],
   "source": [
    "\n",
    "from google.colab import drive\n",
    "drive.mount('/content/drive')"
   ]
  },
  {
   "cell_type": "code",
   "execution_count": 31,
   "metadata": {
    "colab": {},
    "colab_type": "code",
    "executionInfo": {
     "elapsed": 10676,
     "status": "ok",
     "timestamp": 1597405067646,
     "user": {
      "displayName": "Jakob Lange",
      "photoUrl": "",
      "userId": "01044619540213031762"
     },
     "user_tz": -60
    },
    "id": "g6P0Yrkx8keJ"
   },
   "outputs": [],
   "source": [
    "! cp -a ~/ray_results ./drive/'My Drive'/ML/sommer2020/ray/ray2\n",
    "# b = Benchmark(agent, 'easy')\n",
    "# b.evaluate()\n",
    "# ! ./content"
   ]
  },
  {
   "cell_type": "code",
   "execution_count": null,
   "metadata": {
    "colab": {
     "base_uri": "https://localhost:8080/",
     "height": 265
    },
    "colab_type": "code",
    "executionInfo": {
     "elapsed": 122086,
     "status": "ok",
     "timestamp": 1597243955923,
     "user": {
      "displayName": "Jakob Lange",
      "photoUrl": "",
      "userId": "01044619540213031762"
     },
     "user_tz": -60
    },
    "id": "SWCje5Ey1AIu",
    "outputId": "7feee0df-f5aa-48a7-a1b2-1341b6f5b839"
   },
   "outputs": [
    {
     "data": {
      "image/png": "[encoded data removed]",
      "text/plain": [
       "<Figure size 432x288 with 1 Axes>"
      ]
     },
     "metadata": {
      "needs_background": "light",
      "tags": []
     },
     "output_type": "display_data"
    }
   ],
   "source": [
    "b.plot_cumulative_regret()\n"
   ]
  },
  {
   "cell_type": "code",
   "execution_count": null,
   "metadata": {
    "colab": {
     "base_uri": "https://localhost:8080/",
     "height": 214
    },
    "colab_type": "code",
    "executionInfo": {
     "elapsed": 108253,
     "status": "error",
     "timestamp": 1597311691908,
     "user": {
      "displayName": "Jakob Lange",
      "photoUrl": "",
      "userId": "01044619540213031762"
     },
     "user_tz": -60
    },
    "id": "0-NQjfE_GAnK",
    "outputId": "a12f3937-d4df-4cd6-8c2a-e63469f23266"
   },
   "outputs": [
    {
     "ename": "NameError",
     "evalue": "ignored",
     "output_type": "error",
     "traceback": [
      "\u001b[0;31m---------------------------------------------------------------------------\u001b[0m",
      "\u001b[0;31mNameError\u001b[0m                                 Traceback (most recent call last)",
      "\u001b[0;32m<ipython-input-60-e461223e72a4>\u001b[0m in \u001b[0;36m<module>\u001b[0;34m()\u001b[0m\n\u001b[1;32m      1\u001b[0m \u001b[0;31m# a2 = Agent(Model, 'easy')\u001b[0m\u001b[0;34m\u001b[0m\u001b[0;34m\u001b[0m\u001b[0;34m\u001b[0m\u001b[0m\n\u001b[1;32m      2\u001b[0m \u001b[0;31m# a2.train(1000)\u001b[0m\u001b[0;34m\u001b[0m\u001b[0;34m\u001b[0m\u001b[0;34m\u001b[0m\u001b[0m\n\u001b[0;32m----> 3\u001b[0;31m \u001b[0mb2\u001b[0m \u001b[0;34m=\u001b[0m \u001b[0mBenchmark\u001b[0m\u001b[0;34m(\u001b[0m\u001b[0ma2\u001b[0m\u001b[0;34m,\u001b[0m \u001b[0;34m'easy'\u001b[0m\u001b[0;34m)\u001b[0m\u001b[0;34m\u001b[0m\u001b[0;34m\u001b[0m\u001b[0m\n\u001b[0m\u001b[1;32m      4\u001b[0m \u001b[0mb2\u001b[0m\u001b[0;34m.\u001b[0m\u001b[0mplot_cumulative_regret\u001b[0m\u001b[0;34m(\u001b[0m\u001b[0;34m)\u001b[0m\u001b[0;34m\u001b[0m\u001b[0;34m\u001b[0m\u001b[0m\n",
      "\u001b[0;31mNameError\u001b[0m: name 'a2' is not defined"
     ]
    }
   ],
   "source": [
    "# a2 = Agent(Model, 'easy')\n",
    "# a2.train(1000)\n",
    "b2 = Benchmark(a2, 'easy')\n",
    "b2.plot_cumulative_regret()"
   ]
  },
  {
   "cell_type": "code",
   "execution_count": null,
   "metadata": {
    "colab": {
     "base_uri": "https://localhost:8080/",
     "height": 34
    },
    "colab_type": "code",
    "executionInfo": {
     "elapsed": 901,
     "status": "ok",
     "timestamp": 1597312839734,
     "user": {
      "displayName": "Jakob Lange",
      "photoUrl": "",
      "userId": "01044619540213031762"
     },
     "user_tz": -60
    },
    "id": "fb41hrNrJwII",
    "outputId": "b76b0134-9243-4086-cd11-6f7f46f71eba"
   },
   "outputs": [
    {
     "name": "stdout",
     "output_type": "stream",
     "text": [
      "r1 = 10.44\n"
     ]
    }
   ],
   "source": [
    "r1 = b.calculate_regret()\n",
    "# r2 = b2.calculate_regret()\n",
    "print(f\"r1 = {np.cumsum(r1)[-1]:.2f}\")"
   ]
  },
  {
   "cell_type": "code",
   "execution_count": null,
   "metadata": {
    "colab": {},
    "colab_type": "code",
    "id": "b6d9JKJl8keQ",
    "outputId": "c0ed5ae8-285d-4051-d955-536567e2c9c2"
   },
   "outputs": [
    {
     "data": {
      "text/plain": [
       "[<matplotlib.lines.Line2D at 0x1c7b45eefc8>]"
      ]
     },
     "execution_count": 76,
     "metadata": {
      "tags": []
     },
     "output_type": "execute_result"
    },
    {
     "data": {
      "image/png": "[encoded data removed]",
      "text/plain": [
       "<Figure size 432x288 with 1 Axes>"
      ]
     },
     "metadata": {
      "needs_background": "light",
      "tags": []
     },
     "output_type": "display_data"
    }
   ],
   "source": [
    "\n",
    "# cum_regret = {}\n",
    "\n",
    "arr = np.empty(b.episodes['rewards'].shape).T\n",
    "arr[:,:] = np.max(b.episodes['bandits'], axis = 1)\n",
    "regret = np.cumsum((arr.T - b.episodes['rewards']).mean(0))\n",
    "plt.plot(regret)\n",
    "\n",
    "# reg = np.cumsum(b.env.bandit.max() - b.episodes['rewards'].mean(0))\n",
    "plt.plot(regret)\n",
    "# reg = np.cumsum((arr - b.episodes['rewards']).mean(0))\n",
    "# reg\n",
    "# # reg_df['hh'] = reg\n",
    "# # reg_df[['he', 'hm', 'hh']].plot()\n",
    "# # b.plot_actions()\n",
    "# # b.episodes['rewards'].mean(0)\n",
    "# plt.plot(reg);\n",
    "# b['rewards'][0]\n",
    "# plt.plot(reg)"
   ]
  },
  {
   "cell_type": "code",
   "execution_count": 27,
   "metadata": {
    "colab": {},
    "colab_type": "code",
    "id": "QRK-fhjd8keV",
    "outputId": "70f027e5-89d4-4713-dfdf-5266d5777ee0"
   },
   "outputs": [
    {
     "data": {
      "image/png": "[encoded data removed]",
      "text/plain": [
       "<Figure size 1440x1008 with 4 Axes>"
      ]
     },
     "metadata": {
      "needs_background": "light"
     },
     "output_type": "display_data"
    }
   ],
   "source": [
    "# plot regret of different bandits\n",
    "# reg_df['uu'] = regret\n",
    "reg_df = pd.read_csv('regret_bandits.csv')\n",
    "# reg_df.to_csv('regret_bandits.csv')\n",
    "plt.figure(figsize=(20, 14))\n",
    "plt.suptitle('regret of different agents in different environments')\n",
    "plt.subplot(221)\n",
    "labels = ['easy', 'medium','uniform', 'thompson', 'hard']\n",
    "for p in [reg_df[['ee','em', 'eu','eT', 'eh']]]:\n",
    "    plt.plot(p);\n",
    "plt.legend(labels);\n",
    "plt.title('easy')\n",
    "plt.subplot(222)\n",
    "for p in [reg_df[['me','mm','mu','mT', 'mh']]]:\n",
    "    plt.plot(p);\n",
    "plt.legend(labels);\n",
    "plt.title('medium')\n",
    "plt.subplot(223)\n",
    "for p in [reg_df[['he','hm','hu','hT', 'hh']]]:\n",
    "    plt.plot(p);\n",
    "plt.legend(labels);\n",
    "plt.title('hard')\n",
    "plt.subplot(224)\n",
    "for p in [reg_df[['ue','um','uu', 'uT', 'uh']]]:\n",
    "    plt.plot(p);\n",
    "plt.legend(labels)\n",
    "plt.title('uniform')\n",
    "plt.savefig('regret of different agents in different environments w hard.png')\n"
   ]
  },
  {
   "cell_type": "code",
   "execution_count": null,
   "metadata": {
    "colab": {},
    "colab_type": "code",
    "id": "l70Nrjkt8keY"
   },
   "outputs": [],
   "source": [
    "reg_df.to_csv('regret_bandits.csv')\n",
    "# b.episode"
   ]
  },
  {
   "cell_type": "code",
   "execution_count": null,
   "metadata": {
    "colab": {},
    "colab_type": "code",
    "id": "f0ji5yeT8keb"
   },
   "outputs": [],
   "source": [
    "class ManualBenchmark:\n",
    "    def __init__(self, agent):\n",
    "        self.agent = agent\n",
    "    \n",
    "    def play(self):\n",
    "        agent.model.reset_states()\n",
    "        action, reward, timestep, done = 0, 0, 1, 0\n",
    "#         actions, rewards, values = [] * 3\n",
    "        while reward >= 0:\n",
    "            # action and reward at t - 1 and timestep at t\n",
    "            action, value, _ = agent._predict(action, reward, timestep)\n",
    "            reward = input(f\"LSTM chose {action}, give me a reward 0 or 1 (-1 ends the game)\")\n",
    "            reward = int(reward)\n",
    "            # rewards, values and actions at t\n",
    "#             rewards.append(reward)\n",
    "#             actions.append(action)\n",
    "#             values.append(value)\n",
    "            timestep += 1\n",
    "        return actions, rewards, values"
   ]
  },
  {
   "cell_type": "code",
   "execution_count": null,
   "metadata": {
    "colab": {},
    "colab_type": "code",
    "id": "pr3l14yK8kei"
   },
   "outputs": [],
   "source": [
    "mb = ManualBenchmark(agent)"
   ]
  },
  {
   "cell_type": "code",
   "execution_count": null,
   "metadata": {
    "colab": {},
    "colab_type": "code",
    "id": "nq5t8Pq78kem",
    "outputId": "ad446b95-fa0a-4d89-d40b-29520ec8979e"
   },
   "outputs": [
    {
     "name": "stdin",
     "output_type": "stream",
     "text": [
      "LSTM chose [0], give me a reward 0 or 1 (-1 ends the game) 0\n",
      "LSTM chose [1], give me a reward 0 or 1 (-1 ends the game) 1\n",
      "LSTM chose [0], give me a reward 0 or 1 (-1 ends the game) 0\n",
      "LSTM chose [1], give me a reward 0 or 1 (-1 ends the game) 1\n",
      "LSTM chose [1], give me a reward 0 or 1 (-1 ends the game) 1\n",
      "LSTM chose [1], give me a reward 0 or 1 (-1 ends the game) 1\n",
      "LSTM chose [1], give me a reward 0 or 1 (-1 ends the game) 0\n",
      "LSTM chose [0], give me a reward 0 or 1 (-1 ends the game) 0\n",
      "LSTM chose [1], give me a reward 0 or 1 (-1 ends the game) 1\n",
      "LSTM chose [1], give me a reward 0 or 1 (-1 ends the game) 0\n",
      "LSTM chose [1], give me a reward 0 or 1 (-1 ends the game) 0\n",
      "LSTM chose [1], give me a reward 0 or 1 (-1 ends the game) 0\n",
      "LSTM chose [1], give me a reward 0 or 1 (-1 ends the game) 0\n",
      "LSTM chose [1], give me a reward 0 or 1 (-1 ends the game) 0\n",
      "LSTM chose [1], give me a reward 0 or 1 (-1 ends the game) 0\n",
      "LSTM chose [1], give me a reward 0 or 1 (-1 ends the game) 0\n",
      "LSTM chose [1], give me a reward 0 or 1 (-1 ends the game) 0\n",
      "LSTM chose [1], give me a reward 0 or 1 (-1 ends the game) 0\n",
      "LSTM chose [1], give me a reward 0 or 1 (-1 ends the game) 0\n",
      "LSTM chose [1], give me a reward 0 or 1 (-1 ends the game) 0\n",
      "LSTM chose [0], give me a reward 0 or 1 (-1 ends the game) 0\n",
      "LSTM chose [1], give me a reward 0 or 1 (-1 ends the game) 0\n",
      "LSTM chose [1], give me a reward 0 or 1 (-1 ends the game) 0\n",
      "LSTM chose [1], give me a reward 0 or 1 (-1 ends the game) 0\n",
      "LSTM chose [0], give me a reward 0 or 1 (-1 ends the game) 0\n",
      "LSTM chose [0], give me a reward 0 or 1 (-1 ends the game) 1\n",
      "LSTM chose [0], give me a reward 0 or 1 (-1 ends the game) 1\n",
      "LSTM chose [0], give me a reward 0 or 1 (-1 ends the game) 1\n",
      "LSTM chose [0], give me a reward 0 or 1 (-1 ends the game) 1\n",
      "LSTM chose [1], give me a reward 0 or 1 (-1 ends the game) 0\n"
     ]
    },
    {
     "ename": "KeyboardInterrupt",
     "evalue": "Interrupted by user",
     "output_type": "error",
     "traceback": [
      "\u001b[0;31m---------------------------------------------------------------------------\u001b[0m",
      "\u001b[0;31mKeyboardInterrupt\u001b[0m                         Traceback (most recent call last)",
      "\u001b[0;32m<ipython-input-60-d4a277ee9966>\u001b[0m in \u001b[0;36m<module>\u001b[0;34m\u001b[0m\n\u001b[0;32m----> 1\u001b[0;31m \u001b[0mmb\u001b[0m\u001b[0;34m.\u001b[0m\u001b[0mplay\u001b[0m\u001b[0;34m(\u001b[0m\u001b[0;34m)\u001b[0m\u001b[0;34m\u001b[0m\u001b[0;34m\u001b[0m\u001b[0m\n\u001b[0m",
      "\u001b[0;32m<ipython-input-58-0d13af7fd5a5>\u001b[0m in \u001b[0;36mplay\u001b[0;34m(self)\u001b[0m\n\u001b[1;32m     10\u001b[0m             \u001b[0;31m# action and reward at t - 1 and timestep at t\u001b[0m\u001b[0;34m\u001b[0m\u001b[0;34m\u001b[0m\u001b[0;34m\u001b[0m\u001b[0m\n\u001b[1;32m     11\u001b[0m             \u001b[0maction\u001b[0m\u001b[0;34m,\u001b[0m \u001b[0mvalue\u001b[0m\u001b[0;34m,\u001b[0m \u001b[0m_\u001b[0m \u001b[0;34m=\u001b[0m \u001b[0magent\u001b[0m\u001b[0;34m.\u001b[0m\u001b[0m_predict\u001b[0m\u001b[0;34m(\u001b[0m\u001b[0maction\u001b[0m\u001b[0;34m,\u001b[0m \u001b[0mreward\u001b[0m\u001b[0;34m,\u001b[0m \u001b[0mtimestep\u001b[0m\u001b[0;34m)\u001b[0m\u001b[0;34m\u001b[0m\u001b[0;34m\u001b[0m\u001b[0m\n\u001b[0;32m---> 12\u001b[0;31m             \u001b[0mreward\u001b[0m \u001b[0;34m=\u001b[0m \u001b[0minput\u001b[0m\u001b[0;34m(\u001b[0m\u001b[0;34mf\"LSTM chose {action}, give me a reward 0 or 1 (-1 ends the game)\"\u001b[0m\u001b[0;34m)\u001b[0m\u001b[0;34m\u001b[0m\u001b[0;34m\u001b[0m\u001b[0m\n\u001b[0m\u001b[1;32m     13\u001b[0m             \u001b[0mreward\u001b[0m \u001b[0;34m=\u001b[0m \u001b[0mint\u001b[0m\u001b[0;34m(\u001b[0m\u001b[0mreward\u001b[0m\u001b[0;34m)\u001b[0m\u001b[0;34m\u001b[0m\u001b[0;34m\u001b[0m\u001b[0m\n\u001b[1;32m     14\u001b[0m             \u001b[0;31m# rewards, values and actions at t\u001b[0m\u001b[0;34m\u001b[0m\u001b[0;34m\u001b[0m\u001b[0;34m\u001b[0m\u001b[0m\n",
      "\u001b[0;32m/usr/local/lib/python3.6/dist-packages/ipykernel/kernelbase.py\u001b[0m in \u001b[0;36mraw_input\u001b[0;34m(self, prompt)\u001b[0m\n\u001b[1;32m    861\u001b[0m             \u001b[0mself\u001b[0m\u001b[0;34m.\u001b[0m\u001b[0m_parent_ident\u001b[0m\u001b[0;34m,\u001b[0m\u001b[0;34m\u001b[0m\u001b[0;34m\u001b[0m\u001b[0m\n\u001b[1;32m    862\u001b[0m             \u001b[0mself\u001b[0m\u001b[0;34m.\u001b[0m\u001b[0m_parent_header\u001b[0m\u001b[0;34m,\u001b[0m\u001b[0;34m\u001b[0m\u001b[0;34m\u001b[0m\u001b[0m\n\u001b[0;32m--> 863\u001b[0;31m             \u001b[0mpassword\u001b[0m\u001b[0;34m=\u001b[0m\u001b[0;32mFalse\u001b[0m\u001b[0;34m,\u001b[0m\u001b[0;34m\u001b[0m\u001b[0;34m\u001b[0m\u001b[0m\n\u001b[0m\u001b[1;32m    864\u001b[0m         )\n\u001b[1;32m    865\u001b[0m \u001b[0;34m\u001b[0m\u001b[0m\n",
      "\u001b[0;32m/usr/local/lib/python3.6/dist-packages/ipykernel/kernelbase.py\u001b[0m in \u001b[0;36m_input_request\u001b[0;34m(self, prompt, ident, parent, password)\u001b[0m\n\u001b[1;32m    891\u001b[0m             \u001b[0;32mexcept\u001b[0m \u001b[0mKeyboardInterrupt\u001b[0m\u001b[0;34m:\u001b[0m\u001b[0;34m\u001b[0m\u001b[0;34m\u001b[0m\u001b[0m\n\u001b[1;32m    892\u001b[0m                 \u001b[0;31m# re-raise KeyboardInterrupt, to truncate traceback\u001b[0m\u001b[0;34m\u001b[0m\u001b[0;34m\u001b[0m\u001b[0;34m\u001b[0m\u001b[0m\n\u001b[0;32m--> 893\u001b[0;31m                 \u001b[0;32mraise\u001b[0m \u001b[0mKeyboardInterrupt\u001b[0m\u001b[0;34m(\u001b[0m\u001b[0;34m\"Interrupted by user\"\u001b[0m\u001b[0;34m)\u001b[0m \u001b[0;32mfrom\u001b[0m \u001b[0;32mNone\u001b[0m\u001b[0;34m\u001b[0m\u001b[0;34m\u001b[0m\u001b[0m\n\u001b[0m\u001b[1;32m    894\u001b[0m             \u001b[0;32melse\u001b[0m\u001b[0;34m:\u001b[0m\u001b[0;34m\u001b[0m\u001b[0;34m\u001b[0m\u001b[0m\n\u001b[1;32m    895\u001b[0m                 \u001b[0;32mbreak\u001b[0m\u001b[0;34m\u001b[0m\u001b[0;34m\u001b[0m\u001b[0m\n",
      "\u001b[0;31mKeyboardInterrupt\u001b[0m: Interrupted by user"
     ]
    }
   ],
   "source": [
    "mb.play()"
   ]
  },
  {
   "cell_type": "code",
   "execution_count": null,
   "metadata": {
    "colab": {},
    "colab_type": "code",
    "id": "HsFUG2d88keq"
   },
   "outputs": [],
   "source": []
  }
 ],
 "metadata": {
  "colab": {
   "collapsed_sections": [
    "0c79g4C58kdo"
   ],
   "name": "a2c_meta-bandits.ipynb",
   "provenance": [],
   "toc_visible": true
  },
  "kernelspec": {
   "display_name": "Python 3",
   "language": "python",
   "name": "python3"
  },
  "language_info": {
   "codemirror_mode": {
    "name": "ipython",
    "version": 3
   },
   "file_extension": ".py",
   "mimetype": "text/x-python",
   "name": "python",
   "nbconvert_exporter": "python",
   "pygments_lexer": "ipython3",
   "version": "3.7.7"
  },
  "widgets": {
   "application/vnd.jupyter.widget-state+json": {
    "40aafeb20f814a07a1294952ff29dd46": {
     "model_module": "@jupyter-widgets/controls",
     "model_name": "DescriptionStyleModel",
     "state": {
      "_model_module": "@jupyter-widgets/controls",
      "_model_module_version": "1.5.0",
      "_model_name": "DescriptionStyleModel",
      "_view_count": null,
      "_view_module": "@jupyter-widgets/base",
      "_view_module_version": "1.2.0",
      "_view_name": "StyleView",
      "description_width": ""
     }
    },
    "591b581138844adcbfa83940f26206c0": {
     "model_module": "@jupyter-widgets/controls",
     "model_name": "HTMLModel",
     "state": {
      "_dom_classes": [],
      "_model_module": "@jupyter-widgets/controls",
      "_model_module_version": "1.5.0",
      "_model_name": "HTMLModel",
      "_view_count": null,
      "_view_module": "@jupyter-widgets/controls",
      "_view_module_version": "1.5.0",
      "_view_name": "HTMLView",
      "description": "",
      "description_tooltip": null,
      "layout": "IPY_MODEL_9ef997e9028844a78f897ac1f2615256",
      "placeholder": "​",
      "style": "IPY_MODEL_40aafeb20f814a07a1294952ff29dd46",
      "value": " 300/300 [02:33&lt;00:00,  1.95it/s]"
     }
    },
    "65f9025b43ed4460bde99dd887201672": {
     "model_module": "@jupyter-widgets/controls",
     "model_name": "FloatProgressModel",
     "state": {
      "_dom_classes": [],
      "_model_module": "@jupyter-widgets/controls",
      "_model_module_version": "1.5.0",
      "_model_name": "FloatProgressModel",
      "_view_count": null,
      "_view_module": "@jupyter-widgets/controls",
      "_view_module_version": "1.5.0",
      "_view_name": "ProgressView",
      "bar_style": "success",
      "description": "100%",
      "description_tooltip": null,
      "layout": "IPY_MODEL_b14aec72953a48a48b14c0c16e6e0b4b",
      "max": 300,
      "min": 0,
      "orientation": "horizontal",
      "style": "IPY_MODEL_d03665f17b1440ff9aa4324e94c326a7",
      "value": 300
     }
    },
    "772c12779eeb417cbed109cc2babe68d": {
     "model_module": "@jupyter-widgets/base",
     "model_name": "LayoutModel",
     "state": {
      "_model_module": "@jupyter-widgets/base",
      "_model_module_version": "1.2.0",
      "_model_name": "LayoutModel",
      "_view_count": null,
      "_view_module": "@jupyter-widgets/base",
      "_view_module_version": "1.2.0",
      "_view_name": "LayoutView",
      "align_content": null,
      "align_items": null,
      "align_self": null,
      "border": null,
      "bottom": null,
      "display": null,
      "flex": null,
      "flex_flow": null,
      "grid_area": null,
      "grid_auto_columns": null,
      "grid_auto_flow": null,
      "grid_auto_rows": null,
      "grid_column": null,
      "grid_gap": null,
      "grid_row": null,
      "grid_template_areas": null,
      "grid_template_columns": null,
      "grid_template_rows": null,
      "height": null,
      "justify_content": null,
      "justify_items": null,
      "left": null,
      "margin": null,
      "max_height": null,
      "max_width": null,
      "min_height": null,
      "min_width": null,
      "object_fit": null,
      "object_position": null,
      "order": null,
      "overflow": null,
      "overflow_x": null,
      "overflow_y": null,
      "padding": null,
      "right": null,
      "top": null,
      "visibility": null,
      "width": null
     }
    },
    "9ef997e9028844a78f897ac1f2615256": {
     "model_module": "@jupyter-widgets/base",
     "model_name": "LayoutModel",
     "state": {
      "_model_module": "@jupyter-widgets/base",
      "_model_module_version": "1.2.0",
      "_model_name": "LayoutModel",
      "_view_count": null,
      "_view_module": "@jupyter-widgets/base",
      "_view_module_version": "1.2.0",
      "_view_name": "LayoutView",
      "align_content": null,
      "align_items": null,
      "align_self": null,
      "border": null,
      "bottom": null,
      "display": null,
      "flex": null,
      "flex_flow": null,
      "grid_area": null,
      "grid_auto_columns": null,
      "grid_auto_flow": null,
      "grid_auto_rows": null,
      "grid_column": null,
      "grid_gap": null,
      "grid_row": null,
      "grid_template_areas": null,
      "grid_template_columns": null,
      "grid_template_rows": null,
      "height": null,
      "justify_content": null,
      "justify_items": null,
      "left": null,
      "margin": null,
      "max_height": null,
      "max_width": null,
      "min_height": null,
      "min_width": null,
      "object_fit": null,
      "object_position": null,
      "order": null,
      "overflow": null,
      "overflow_x": null,
      "overflow_y": null,
      "padding": null,
      "right": null,
      "top": null,
      "visibility": null,
      "width": null
     }
    },
    "b14aec72953a48a48b14c0c16e6e0b4b": {
     "model_module": "@jupyter-widgets/base",
     "model_name": "LayoutModel",
     "state": {
      "_model_module": "@jupyter-widgets/base",
      "_model_module_version": "1.2.0",
      "_model_name": "LayoutModel",
      "_view_count": null,
      "_view_module": "@jupyter-widgets/base",
      "_view_module_version": "1.2.0",
      "_view_name": "LayoutView",
      "align_content": null,
      "align_items": null,
      "align_self": null,
      "border": null,
      "bottom": null,
      "display": null,
      "flex": null,
      "flex_flow": null,
      "grid_area": null,
      "grid_auto_columns": null,
      "grid_auto_flow": null,
      "grid_auto_rows": null,
      "grid_column": null,
      "grid_gap": null,
      "grid_row": null,
      "grid_template_areas": null,
      "grid_template_columns": null,
      "grid_template_rows": null,
      "height": null,
      "justify_content": null,
      "justify_items": null,
      "left": null,
      "margin": null,
      "max_height": null,
      "max_width": null,
      "min_height": null,
      "min_width": null,
      "object_fit": null,
      "object_position": null,
      "order": null,
      "overflow": null,
      "overflow_x": null,
      "overflow_y": null,
      "padding": null,
      "right": null,
      "top": null,
      "visibility": null,
      "width": null
     }
    },
    "cc8a480ddc9e44c998f08cedcb5c7524": {
     "model_module": "@jupyter-widgets/controls",
     "model_name": "HBoxModel",
     "state": {
      "_dom_classes": [],
      "_model_module": "@jupyter-widgets/controls",
      "_model_module_version": "1.5.0",
      "_model_name": "HBoxModel",
      "_view_count": null,
      "_view_module": "@jupyter-widgets/controls",
      "_view_module_version": "1.5.0",
      "_view_name": "HBoxView",
      "box_style": "",
      "children": [
       "IPY_MODEL_65f9025b43ed4460bde99dd887201672",
       "IPY_MODEL_591b581138844adcbfa83940f26206c0"
      ],
      "layout": "IPY_MODEL_772c12779eeb417cbed109cc2babe68d"
     }
    },
    "d03665f17b1440ff9aa4324e94c326a7": {
     "model_module": "@jupyter-widgets/controls",
     "model_name": "ProgressStyleModel",
     "state": {
      "_model_module": "@jupyter-widgets/controls",
      "_model_module_version": "1.5.0",
      "_model_name": "ProgressStyleModel",
      "_view_count": null,
      "_view_module": "@jupyter-widgets/base",
      "_view_module_version": "1.2.0",
      "_view_name": "StyleView",
      "bar_color": null,
      "description_width": "initial"
     }
    }
   }
  }
 },
 "nbformat": 4,
 "nbformat_minor": 1
}
