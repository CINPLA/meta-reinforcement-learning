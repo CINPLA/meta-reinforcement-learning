{
 "cells": [
  {
   "cell_type": "code",
   "execution_count": 1,
   "metadata": {},
   "outputs": [
    {
     "name": "stdout",
     "output_type": "stream",
     "text": [
      "TensorFlow Ver:  2.1.0\n"
     ]
    }
   ],
   "source": [
    "import logging\n",
    "import numpy as np\n",
    "import tensorflow as tf\n",
    "import matplotlib.pyplot as plt\n",
    "import tensorflow.keras.layers as kl\n",
    "import tensorflow.keras.losses as kls\n",
    "import tensorflow.keras.optimizers as ko\n",
    "from pathlib import Path\n",
    "import ruamel.yaml as yaml\n",
    "from tqdm.notebook import tqdm\n",
    "import scipy.stats as stats\n",
    "import pandas as pd\n",
    "import ray\n",
    "from ray import tune\n",
    "import tensorflow.keras as keras\n",
    "from tensorflow.keras.callbacks import ModelCheckpoint\n",
    "import shutil\n",
    "%matplotlib inline\n",
    "\n",
    "print(\"TensorFlow Ver: \", tf.__version__)"
   ]
  },
  {
   "cell_type": "code",
   "execution_count": 2,
   "metadata": {},
   "outputs": [],
   "source": [
    "seed = 1234\n",
    "tf.random.set_seed(seed)\n",
    "np.random.seed(seed)"
   ]
  },
  {
   "cell_type": "code",
   "execution_count": 3,
   "metadata": {},
   "outputs": [],
   "source": [
    "import os\n",
    "os.environ[\"CUDA_DEVICE_ORDER\"]=\"PCI_BUS_ID\"\n",
    "os.environ[\"CUDA_VISIBLE_DEVICES\"]=\"2\""
   ]
  },
  {
   "cell_type": "code",
   "execution_count": 4,
   "metadata": {},
   "outputs": [
    {
     "name": "stdout",
     "output_type": "stream",
     "text": [
      "Eager Execution: True\n",
      "1 + 2 + 3 + 4 + 5 = tf.Tensor(15, shape=(), dtype=int32)\n"
     ]
    }
   ],
   "source": [
    "# Eager by default!\n",
    "print(\"Eager Execution:\", tf.executing_eagerly())\n",
    "print(\"1 + 2 + 3 + 4 + 5 =\", tf.reduce_sum([1, 2, 3, 4, 5]))"
   ]
  },
  {
   "cell_type": "code",
   "execution_count": 5,
   "metadata": {},
   "outputs": [],
   "source": [
    "class dependent_bandit():\n",
    "    def __init__(self, difficulty):\n",
    "        self.num_actions = 2\n",
    "        self.n_timesteps = 100\n",
    "        self.difficulty = difficulty\n",
    "        self.reset()\n",
    "        \n",
    "    def set_restless_prob(self):\n",
    "        self.bandit = np.array([self.restless_list[self.timestep],1 - self.restless_list[self.timestep]])\n",
    "        \n",
    "    def reset(self):\n",
    "        self.timestep = 0\n",
    "        if self.difficulty == 'restless': \n",
    "            variance = np.random.uniform(0,.5)\n",
    "            self.restless_list = np.cumsum(np.random.uniform(-variance,variance,(150,1)))\n",
    "            self.restless_list = (self.restless_list - np.min(self.restless_list)) / (np.max(self.restless_list - np.min(self.restless_list))) \n",
    "            self.set_restless_prob()\n",
    "        if self.difficulty == 'easy': \n",
    "            bandit_prob = np.random.choice([0.9,0.1])\n",
    "        if self.difficulty == 'trivial': \n",
    "            bandit_prob = np.random.choice([1.0,0.0])\n",
    "        if self.difficulty == 'medium': \n",
    "            bandit_prob = np.random.choice([0.75,0.25])\n",
    "        if self.difficulty == 'hard':  \n",
    "            bandit_prob = np.random.choice([0.6,0.4])\n",
    "        if self.difficulty == 'uniform': \n",
    "            bandit_prob = np.random.uniform()\n",
    "        if self.difficulty != 'independent' and self.difficulty != 'restless':\n",
    "            self.bandit = np.array([bandit_prob,1 - bandit_prob])\n",
    "        else:\n",
    "            self.bandit = np.random.uniform(size=2)\n",
    "        \n",
    "    def step(self,action):\n",
    "        #Get a random number.\n",
    "        if self.difficulty == 'restless': \n",
    "            self.set_restless_prob()\n",
    "        self.timestep += 1\n",
    "        bandit = self.bandit[int(action)]\n",
    "        result = np.random.uniform()\n",
    "        if result < bandit:\n",
    "            #return a positive reward.\n",
    "            reward = 1\n",
    "        else:\n",
    "            #return a negative reward.\n",
    "            reward = 0\n",
    "        if self.timestep > self.n_timesteps - 1: \n",
    "            done = True\n",
    "        else: \n",
    "            done = False\n",
    "        return reward, done, self.timestep"
   ]
  },
  {
   "cell_type": "code",
   "execution_count": 6,
   "metadata": {},
   "outputs": [
    {
     "name": "stdout",
     "output_type": "stream",
     "text": [
      "[0.1 0.9]\n"
     ]
    },
    {
     "data": {
      "text/plain": [
       "(1.5730627001754955, False, 1)"
      ]
     },
     "execution_count": 6,
     "metadata": {},
     "output_type": "execute_result"
    }
   ],
   "source": [
    "class GaussBandit(dependent_bandit):\n",
    "    def __init__(self, difficulty, scale = 0.5):\n",
    "        super().__init__(difficulty)\n",
    "        self.scale = scale\n",
    "        \n",
    "    def step(self, action):\n",
    "        if self.difficulty == 'restless': \n",
    "            self.set_restless_prob()\n",
    "        self.timestep += 1\n",
    "        bandit = self.bandit[int(action)]\n",
    "        reward = stats.norm.rvs(loc=bandit, scale=self.scale)\n",
    "        \n",
    "        if self.timestep > self.n_timesteps - 1: \n",
    "            done = True\n",
    "        else: \n",
    "            done = False\n",
    "        \n",
    "        return reward, done, self.timestep\n",
    "        \n",
    "g = GaussBandit('easy')\n",
    "print(g.bandit)\n",
    "g.step(1)"
   ]
  },
  {
   "cell_type": "code",
   "execution_count": 7,
   "metadata": {},
   "outputs": [],
   "source": [
    "class ThompsonAgent:\n",
    "    def __init__(self, env_name):\n",
    "        self.env = dependent_bandit(env_name)\n",
    "        self.reset()\n",
    "    \n",
    "    def reset(self):\n",
    "        self.pulls = np.zeros(2)\n",
    "        #sampled mean of an arm\n",
    "        self.mean = np.zeros(2)\n",
    "        #beta for use in thompson sampling\n",
    "        self.beta = np.ones((2,2))\n",
    "        self.env.reset()\n",
    "    \n",
    "    def pull(self, arm):\n",
    "        self.pulls[arm] += 1\n",
    "        r, done, timestep = self.env.step(arm)\n",
    "        self.update_mean(arm, r)\n",
    "        self.update_beta(arm, r)\n",
    "        return r, done, timestep\n",
    "    \n",
    "    def update_mean(self, arm, r):\n",
    "        n = self.pulls[arm]\n",
    "#         m = self.mean[arm]\n",
    "        self.mean[arm] = (n-1)/n*self.mean[arm] + r/n\n",
    "    \n",
    "    def update_beta(self, arm, r):\n",
    "        self.beta[arm] += np.array([r, 1-r])\n",
    "    \n",
    "    def change_env(self, env):\n",
    "        self.env = env\n",
    "        self.reset()\n",
    "    \n",
    "    def predict(self):\n",
    "        return np.argmax([np.random.beta(self.beta[0][0], self.beta[0][1]), np.random.beta(self.beta[1][0], self.beta[1][1])])\n",
    "    \n",
    "    def play(self, n):\n",
    "        self.reset()\n",
    "        r_hist = np.empty(n)\n",
    "        a_hist = np.empty(n)\n",
    "        mean_hist = np.empty((2,n+1))\n",
    "        mean_hist[:,0] = self.mean\n",
    "        beta_hist = np.empty((2, n+1, 2))\n",
    "        beta_hist[:,0,:] = self.beta\n",
    "        for i in range(n):\n",
    "            j = self.predict()\n",
    "            a_hist[i] = j\n",
    "            r_hist[i], _, _ = self.pull(j)\n",
    "            beta_hist[:,i+1,:] = self.beta\n",
    "            mean_hist[:,i+1] = self.mean\n",
    "        return a_hist, r_hist, beta_hist, mean_hist\n",
    "\n",
    "    def benchmark(self, n_episodes = 300, n_timesteps = 100):\n",
    "        #for now n_timesteps will be 100 since that is the value in the dependent env\n",
    "        actions = np.empty((n_episodes, n_timesteps))\n",
    "        rewards = np.empty((n_episodes, n_timesteps))\n",
    "        bandits = np.empty((n_episodes, 2))\n",
    "        for i in range(n_episodes):\n",
    "            a, r, _, _ = self.play(n_timesteps)\n",
    "            bandits[i] = self.env.bandit\n",
    "            actions[i] = a\n",
    "            rewards[i] = r\n",
    "        return {'actions': actions, 'rewards': rewards, 'env': self.env, 'bandits': bandits}"
   ]
  },
  {
   "cell_type": "code",
   "execution_count": 8,
   "metadata": {},
   "outputs": [],
   "source": [
    "class GaussThompson:\n",
    "    def __init__(self, env_name, tau = 1):\n",
    "        self.env = GaussBandit(env_name)\n",
    "        self.tau = tau\n",
    "    \n",
    "    def reset(self):\n",
    "        self.pulls = np.zeros(2)\n",
    "        self.mean = np.zeros(2)\n",
    "        self.lambd = np.ones(2)\n",
    "        self.env.reset()\n",
    "        \n",
    "    def pull(self, arm):\n",
    "        self.pulls[arm] += 1\n",
    "        r, done, timestep = self.env.step(arm)\n",
    "        self.update_variables(arm, r)\n",
    "        return r, done, timestep\n",
    "\n",
    "    def update_variables(self, arm, r):\n",
    "        self.mean[arm] = 1/(self.tau*self.pulls[arm]+1)*(self.tau*r + (self.tau*(self.pulls[arm]-1)+1)*self.mean[arm])\n",
    "        self.lambd[arm] = self.tau + self.lambd[arm]\n",
    "    \n",
    "    def predict(self):\n",
    "        return np.argmax([np.random.normal(self.mean[0], np.sqrt(1/self.lambd[0])), np.random.normal(self.mean[1], np.sqrt(1/self.lambd[1]))])\n",
    "    \n",
    "    def play(self, n):\n",
    "        self.reset()\n",
    "        r_hist = np.empty(n)\n",
    "        a_hist = np.empty(n)\n",
    "        mean_hist = np.empty((2,n+1))\n",
    "        mean_hist[:,0] = self.mean\n",
    "        lambda_hist = np.empty((2, n+1))\n",
    "        lambda_hist[:,0] = self.lambd\n",
    "        for i in range(n):\n",
    "            action = self.predict()\n",
    "            a_hist[i] = action\n",
    "            r_hist[i], _, _ = self.pull(action)\n",
    "            lambda_hist[:,i+1] = self.lambd\n",
    "            mean_hist[:,i+1] = self.mean\n",
    "        return a_hist, r_hist, lambda_hist, mean_hist\n",
    "\n",
    "    def benchmark(self, n_episodes = 300, n_timesteps = 100):\n",
    "        #for now n_timesteps will be 100 since that is the value in the dependent env\n",
    "        actions = np.empty((n_episodes, n_timesteps))\n",
    "        rewards = np.empty((n_episodes, n_timesteps))\n",
    "        bandits = np.empty((n_episodes, n_timesteps))\n",
    "        for i in range(n_episodes):\n",
    "            a, r, _, _ = self.play(n_timesteps)\n",
    "            bandits[i] = self.env.bandit\n",
    "            actions[i] = a\n",
    "            rewards[i] = r\n",
    "        return {'actions': actions, 'rewards': rewards, 'env': self.env, 'bandits': bandits}"
   ]
  },
  {
   "cell_type": "code",
   "execution_count": 9,
   "metadata": {},
   "outputs": [
    {
     "data": {
      "text/plain": [
       "array([0.57670146, 0.42329854])"
      ]
     },
     "execution_count": 9,
     "metadata": {},
     "output_type": "execute_result"
    },
    {
     "data": {
      "image/png": "[encoded data removed]",
      "text/plain": [
       "<Figure size 432x288 with 1 Axes>"
      ]
     },
     "metadata": {
      "needs_background": "light"
     },
     "output_type": "display_data"
    }
   ],
   "source": [
    "gauss = GaussThompson('restless')\n",
    "a,  r, l, m = gauss.play(100)\n",
    "plt.plot(m[0], 'b')\n",
    "plt.plot(m[1], 'r')\n",
    "gauss.env.bandit"
   ]
  },
  {
   "cell_type": "code",
   "execution_count": 10,
   "metadata": {},
   "outputs": [],
   "source": [
    "bandit = dependent_bandit('uniform')"
   ]
  },
  {
   "cell_type": "code",
   "execution_count": 11,
   "metadata": {},
   "outputs": [],
   "source": [
    "bandit.reset()"
   ]
  },
  {
   "cell_type": "code",
   "execution_count": 12,
   "metadata": {},
   "outputs": [
    {
     "data": {
      "text/plain": [
       "(1, False, 1)"
      ]
     },
     "execution_count": 12,
     "metadata": {},
     "output_type": "execute_result"
    }
   ],
   "source": [
    "bandit.step(0)"
   ]
  },
  {
   "cell_type": "code",
   "execution_count": 13,
   "metadata": {},
   "outputs": [],
   "source": [
    "class Model(tf.keras.Model):\n",
    "    def __init__(self, num_actions, batch_size=1, n_timesteps=None, n_features=4, name='meta_policy'):\n",
    "        super().__init__(name)\n",
    "#         Having a stateful LSTM means that you will need to reset the hidden state \n",
    "#         in between batches yourself if you do want independent batches. \n",
    "#         The default initial hidden state in Tensorflow is all zeros.\n",
    "        self.lstm = kl.LSTM(\n",
    "            48, name='hidden', \n",
    "            stateful=True, \n",
    "            time_major=True, # ['time', 'batch', 'features']\n",
    "            return_sequences=True, \n",
    "            recurrent_initializer='zeros'\n",
    "        )\n",
    "        self.lstm.build((n_timesteps, batch_size, n_features)) # set batch size, must be done with stateful lstm\n",
    "        self.policy = kl.Dense(\n",
    "            num_actions, name='policy'\n",
    "        )\n",
    "        self.value = kl.Dense(\n",
    "            1, name='value'\n",
    "        )\n",
    "\n",
    "    def call(self, inputs, **kwargs):\n",
    "        inputs = tf.cast(inputs, dtype=tf.float32)\n",
    "#         print(inputs)\n",
    "        output = self.lstm(inputs)\n",
    "        value = self.value(output)\n",
    "        policy = self.policy(output)\n",
    "        return tf.squeeze(policy, 1), tf.squeeze(value, (1, 2))\n",
    "\n",
    "    def predict_action_value(self, obs):\n",
    "        # Executes `call()` under the hood.\n",
    "        policy, value = self.predict_on_batch(obs)\n",
    "        actions = tf.squeeze(tf.random.categorical(policy, 1), 1)\n",
    "        return actions, value "
   ]
  },
  {
   "cell_type": "code",
   "execution_count": 14,
   "metadata": {},
   "outputs": [],
   "source": [
    "env = dependent_bandit('uniform')"
   ]
  },
  {
   "cell_type": "code",
   "execution_count": 15,
   "metadata": {},
   "outputs": [
    {
     "name": "stdout",
     "output_type": "stream",
     "text": [
      "tf.Tensor([0 1], shape=(2,), dtype=int64) tf.Tensor([0.06559491 0.11440822], shape=(2,), dtype=float32)\n"
     ]
    }
   ],
   "source": [
    "# Verify everything works by sampling two actions.\n",
    "\n",
    "model = Model(env.num_actions)\n",
    "\n",
    "action = 0\n",
    "reward, timestep = 0, 0\n",
    "# reward, done, timestep = env.step(action)\n",
    "action = tf.one_hot(action, 2)\n",
    "observation = tf.concat([\n",
    "        [[reward],[reward]], \n",
    "        [action, action],\n",
    "        [[timestep], [timestep]]], 1)\n",
    "observation = tf.expand_dims(observation, [1])\n",
    "# print(observation)\n",
    "action, value = model.predict_action_value(observation)\n",
    "print(action, value)\n",
    "# print(action.shape, value.shape)"
   ]
  },
  {
   "cell_type": "code",
   "execution_count": 16,
   "metadata": {},
   "outputs": [
    {
     "name": "stdout",
     "output_type": "stream",
     "text": [
      "[<tf.Variable 'Variable:0' shape=(1, 48) dtype=float32, numpy=\n",
      "array([[0., 0., 0., 0., 0., 0., 0., 0., 0., 0., 0., 0., 0., 0., 0., 0.,\n",
      "        0., 0., 0., 0., 0., 0., 0., 0., 0., 0., 0., 0., 0., 0., 0., 0.,\n",
      "        0., 0., 0., 0., 0., 0., 0., 0., 0., 0., 0., 0., 0., 0., 0., 0.]],\n",
      "      dtype=float32)>, <tf.Variable 'Variable:0' shape=(1, 48) dtype=float32, numpy=\n",
      "array([[0., 0., 0., 0., 0., 0., 0., 0., 0., 0., 0., 0., 0., 0., 0., 0.,\n",
      "        0., 0., 0., 0., 0., 0., 0., 0., 0., 0., 0., 0., 0., 0., 0., 0.,\n",
      "        0., 0., 0., 0., 0., 0., 0., 0., 0., 0., 0., 0., 0., 0., 0., 0.]],\n",
      "      dtype=float32)>]\n",
      "tf.Tensor([0], shape=(1,), dtype=int64) tf.Tensor([-0.06135746], shape=(1,), dtype=float32)\n",
      "[<tf.Variable 'Variable:0' shape=(1, 48) dtype=float32, numpy=\n",
      "array([[-1.1290785e-02,  4.7634537e-03,  4.3167458e-03,  1.8553065e-02,\n",
      "        -9.6491014e-05, -4.6801403e-02, -1.7941374e-03,  3.0309452e-02,\n",
      "         4.1844387e-02, -1.9194884e-02, -3.7627000e-02,  4.3088421e-03,\n",
      "        -4.9549047e-02,  3.1640939e-02,  3.8462677e-03,  1.9411439e-02,\n",
      "        -3.2133397e-02,  3.4895822e-02,  1.7788660e-02,  6.3372817e-04,\n",
      "         6.4243088e-03,  2.2653099e-02, -2.9040358e-03,  4.4934899e-02,\n",
      "        -4.3190125e-02,  5.8730531e-02, -7.6731979e-03, -4.5406692e-02,\n",
      "         1.6082997e-02,  3.8993068e-02, -1.9665871e-02,  3.3846904e-02,\n",
      "         2.4081115e-02, -6.8640009e-02,  4.6443123e-02, -8.5663497e-03,\n",
      "         3.2948524e-02,  4.1451927e-02,  2.4002427e-02,  4.6344053e-02,\n",
      "         1.3346168e-02,  5.7561506e-02, -4.3085418e-03,  2.7000189e-02,\n",
      "        -4.6117697e-02, -3.5429694e-05, -1.5255609e-03,  1.2852761e-02]],\n",
      "      dtype=float32)>, <tf.Variable 'Variable:0' shape=(1, 48) dtype=float32, numpy=\n",
      "array([[-2.03026794e-02,  9.79188923e-03,  8.80077295e-03,\n",
      "         3.30456235e-02, -2.05648917e-04, -8.35724175e-02,\n",
      "        -3.26225348e-03,  6.12091124e-02,  8.19920823e-02,\n",
      "        -3.45521197e-02, -6.93974048e-02,  7.75032863e-03,\n",
      "        -9.02427137e-02,  6.14069290e-02,  8.47473927e-03,\n",
      "         3.91773805e-02, -6.94745332e-02,  6.25674054e-02,\n",
      "         3.38704847e-02,  1.32367655e-03,  1.45557327e-02,\n",
      "         4.79238890e-02, -5.63407596e-03,  8.84478539e-02,\n",
      "        -9.22466889e-02,  1.31818920e-01, -1.48159117e-02,\n",
      "        -9.91458446e-02,  3.30671258e-02,  7.15411082e-02,\n",
      "        -4.12548594e-02,  6.80309534e-02,  4.65099029e-02,\n",
      "        -1.29141942e-01,  9.78013054e-02, -1.59543008e-02,\n",
      "         5.91812283e-02,  8.15586597e-02,  4.81507443e-02,\n",
      "         8.26235563e-02,  3.10277026e-02,  1.24986805e-01,\n",
      "        -7.71548087e-03,  6.22672923e-02, -9.08901989e-02,\n",
      "        -6.53450552e-05, -3.29051306e-03,  2.61673182e-02]], dtype=float32)>]\n",
      "tf.Tensor([0], shape=(1,), dtype=int64) tf.Tensor([-0.12669203], shape=(1,), dtype=float32)\n"
     ]
    }
   ],
   "source": [
    "# Verify everything works by sampling two actions with state reset.\n",
    "env = dependent_bandit('uniform')\n",
    "model = Model(env.num_actions)\n",
    "\n",
    "action = 0\n",
    "for _ in range(2):\n",
    "    print(model.lstm.states)\n",
    "    reward, done, timestep = env.step(action)\n",
    "    action = tf.one_hot(action, 2)\n",
    "    observation = tf.concat([\n",
    "        [[reward]], \n",
    "        [action],\n",
    "        [[timestep]]], 1)\n",
    "    observation = tf.expand_dims(observation, [1])\n",
    "\n",
    "    action, value = model.predict_action_value(observation)\n",
    "    print(action, value)\n",
    "#     model.lstm.reset_states()\n",
    "    action = np.squeeze(action)\n"
   ]
  },
  {
   "cell_type": "code",
   "execution_count": 17,
   "metadata": {},
   "outputs": [],
   "source": [
    "class Agent:\n",
    "    def __init__(self, model, env_name, learning_rate=1e-3, gamma=0.8, value_coefficient=0.2, entropy_coefficient=.002, name=None, data_path=None, instance = 'bernoulli'):\n",
    "        # `gamma` is the discount factor; coefficients are used for the loss terms.\n",
    "        self.gamma = gamma\n",
    "        self.value_coefficient = value_coefficient\n",
    "        self.learning_rate = learning_rate\n",
    "        self.entropy_coefficient = entropy_coefficient\n",
    "        self.instance = instance\n",
    "        if instance == 'bernoulli':\n",
    "            self.env = dependent_bandit(env_name)\n",
    "        elif instance == 'gauss':\n",
    "            self.env = GaussBandit(env_name)\n",
    "        self.name = name or 'a2c_agent_env_' + env_name\n",
    "        self.model = model(env.num_actions, batch_size=1, name=self.name)\n",
    "        # Define separate losses for policy logits and value estimate.\n",
    "        self.data_path = data_path or Path().cwd() / self.name\n",
    "        self.parameters = {\n",
    "            'learning_rate': learning_rate,\n",
    "            'value_coefficient': value_coefficient,\n",
    "            'entropy_coefficient': entropy_coefficient,\n",
    "            'gamma': gamma \n",
    "        }\n",
    "        self._compile()\n",
    "    \n",
    "    def save_agent(self):\n",
    "        self.data_path.mkdir(parents=True, exist_ok=True)\n",
    "        logging.info(f\"Saving parameters, training_history and weights to {self.data_path}.\")\n",
    "        with open(str(self.data_path / self.name) + '.yaml', 'w') as f:\n",
    "            yaml.dump(self.parameters, f)\n",
    "        np.save(str(self.data_path / self.name) + '.npy', self.training_history)\n",
    "        self.model.save_weights(str(self.data_path / self.name))\n",
    "        \n",
    "    def load_agent(self):\n",
    "        logging.warning(\"Updating parameters, training_history, weights and recompiling model.\")\n",
    "        with open(str(self.data_path / self.name) + '.yaml', 'r') as f:\n",
    "            self.parameters = yaml.load(f, Loader=yaml.Loader)\n",
    "        self.training_history = np.load(str(self.data_path / self.name) + '.npy')\n",
    "        self.model.load_weights(str(self.data_path / self.name))\n",
    "        self.__dict__.update(self.parameters)\n",
    "        self._compile()\n",
    "        \n",
    "    def _compile(self):\n",
    "        self.model.compile(\n",
    "            optimizer=ko.Adam(lr=self.learning_rate), \n",
    "            loss=[self._policy_loss, self._value_loss])\n",
    "    \n",
    "    def _predict(self, action, reward, timestep):\n",
    "        action = np.squeeze(action)\n",
    "        action_onehot = tf.one_hot(action, self.env.num_actions)\n",
    "        observation = tf.concat([\n",
    "            [[reward]], \n",
    "            [action_onehot],\n",
    "            [[timestep]]], 1)\n",
    "        observation = tf.expand_dims(observation, [1])\n",
    "        new_action, value = self.model.predict_action_value(observation)\n",
    "        return new_action, value, observation\n",
    "\n",
    "    def train(self, episodes=250):\n",
    "        # Training loop: collect samples, send to optimizer, repeat episodes times.\n",
    "        self.training_history = []\n",
    "        for episode in tqdm(range(episodes)):\n",
    "            actions, rewards, values, observations = self.run_episode()\n",
    "            self.training_history.append(np.sum(rewards))\n",
    "\n",
    "            logging.info(f\"Episode: {len(self.training_history) - 1:3d}, Reward: {int(self.training_history[-1]):3d}\")\n",
    "            \n",
    "            # `next_value` is the bootstrap value estimate of the future state (critic).\n",
    "            _, next_value, _ = self._predict(actions[-1], rewards[-1], observations[-1,0,3] + 1)\n",
    "\n",
    "            self.model.reset_states()\n",
    "            \n",
    "            returns, advantages = self._returns_advantages(rewards, values, next_value)\n",
    "            # A trick to input actions and advantages through same API.\n",
    "            actions_advantages = np.concatenate([actions[:, None], advantages[:, None]], axis=1)\n",
    "            \n",
    "            losses = self.model.train_on_batch(observations, [actions_advantages, returns])\n",
    "            \n",
    "            logging.debug(f\"[{episode + 1:d}/{episodes:d}] Losses: {losses}\")\n",
    "        return self.training_history\n",
    "\n",
    "    def run_episode(self, env=None):\n",
    "        env = env or self.env\n",
    "\n",
    "        env.reset()\n",
    "        # Storage helpers for a single batch of data.\n",
    "        actions = np.empty((env.n_timesteps,), dtype=np.int32)\n",
    "        rewards, values = np.empty((2, env.n_timesteps))\n",
    "        observations = np.empty((env.n_timesteps, 1, 4))\n",
    "        \n",
    "        self.model.reset_states()\n",
    "        action, reward, timestep, done, step = 0, 0, 0, 0, 0\n",
    "        while not done:\n",
    "            # action and reward at t - 1 and timestep at t\n",
    "            action, value, observations[step] = self._predict(action, reward, timestep + 1)\n",
    "            reward, done, timestep = env.step(action)\n",
    "            # rewards, values and actions at t\n",
    "            rewards[step] = reward\n",
    "            actions[step] = action\n",
    "            values[step] = value\n",
    "            step += 1\n",
    "        return actions, rewards, values, observations\n",
    "    \n",
    "    def _returns_advantages(self, rewards, values, next_value):\n",
    "        # `next_value` is the bootstrap value estimate of the future state (critic).\n",
    "        returns = np.append(np.zeros_like(rewards), next_value, axis=-1)\n",
    "        # Returns are calculated as discounted sum of future rewards.\n",
    "        for t in reversed(range(rewards.shape[0])):\n",
    "            returns[t] = rewards[t] + self.gamma * returns[t + 1]\n",
    "        returns = returns[:-1]\n",
    "        # Advantages are equal to returns - baseline (value estimates in our case).\n",
    "        advantages = returns - values\n",
    "        return returns, advantages\n",
    "\n",
    "    def _value_loss(self, returns, value):\n",
    "        # Value loss is typically MSE between value estimates and returns.\n",
    "        loss = self.value_coefficient * kls.mean_squared_error(returns, value)\n",
    "#         tf.keras.backend.print_tensor(loss)\n",
    "        return loss\n",
    "\n",
    "    def _policy_loss(self, actions_and_advantages, logits):\n",
    "        # A trick to input actions and advantages through the same API.\n",
    "        actions, advantages = tf.split(actions_and_advantages, 2, axis=-1)\n",
    "        # Sparse categorical CE loss obj that supports sample_weight arg on `call()`.\n",
    "        # `from_logits` argument ensures transformation into normalized probabilities.\n",
    "        weighted_sparse_ce = kls.SparseCategoricalCrossentropy(from_logits=True)\n",
    "        # Policy loss is defined by policy gradients, weighted by advantages.\n",
    "        # Note: we only calculate the loss on the actions we've actually taken.\n",
    "        actions = tf.cast(actions, tf.int32)\n",
    "        policy_loss = weighted_sparse_ce(actions, logits, sample_weight=advantages)\n",
    "        # Entropy loss can be calculated as cross-entropy over itself.\n",
    "        probs = tf.nn.softmax(logits)\n",
    "        entropy_loss = tf.reduce_sum(kls.categorical_crossentropy(probs, probs))\n",
    "        # We want to minimize policy and maximize entropy losses.\n",
    "        # Here signs are flipped because the optimizer minimizes.\n",
    "#         tf.keras.backend.print_tensor(policy_loss)\n",
    "#         tf.keras.backend.print_tensor(entropy_loss)\n",
    "        loss = policy_loss - self.entropy_coefficient * entropy_loss\n",
    "        return loss"
   ]
  },
  {
   "cell_type": "code",
   "execution_count": 18,
   "metadata": {},
   "outputs": [
    {
     "name": "stdout",
     "output_type": "stream",
     "text": [
      "58.0\n"
     ]
    }
   ],
   "source": [
    "# logging.getLogger().setLevel(logging.INFO)\n",
    "# logging.getLogger().setLevel(logging.DEBUG)\n",
    "logging.getLogger().setLevel(logging.WARNING)\n",
    "\n",
    "\n",
    "agent = Agent(Model, env_name='restless')\n",
    "\n",
    "_, rewards, _, _ = agent.run_episode()\n",
    "print(sum(rewards))"
   ]
  },
  {
   "cell_type": "code",
   "execution_count": 23,
   "metadata": {},
   "outputs": [],
   "source": [
    "class TuneReporterCallback(keras.callbacks.Callback):\n",
    "    \"\"\"Tune Callback for Keras.\n",
    "    \n",
    "    The callback is invoked every epoch.\n",
    "    \"\"\"\n",
    "\n",
    "    def __init__(self, logs={}):\n",
    "        self.iteration = 0\n",
    "        super(TuneReporterCallback, self).__init__()\n",
    "\n",
    "    def on_epoch_end(self, batch, logs={}):\n",
    "        self.iteration += 1\n",
    "        tune.report(keras_info=logs, mean_loss=logs.get(\"loss\"))\n",
    "\n",
    "# agent for ray\n",
    "class RayAgent(Agent):\n",
    "    def __init__(self, model, env_name, learning_rate=1e-3, gamma=0.8, value_coefficient=0.2, entropy_coefficient=.002, name=None, data_path=None, instance = 'bernoulli'):\n",
    "        super().__init__(model, env_name, learning_rate=1e-3, gamma=0.8, value_coefficient=0.2, entropy_coefficient=.002, name=None, data_path=None, instance = 'bernoulli')\n",
    "        self.modelcheckpoint = ModelCheckpoint(\"model.h5\", monitor='loss', save_best_only=False, save_freq=1)\n",
    "        self.modelcheckpoint.set_model(self.model)\n",
    "        self.tunereporter = TuneReporterCallback()\n",
    "        self.tunereporter.set_model(self.model)\n",
    "        \n",
    "    def train(self, episodes=250, callbacks = None):\n",
    "        # Training loop: collect samples, send to optimizer, repeat episodes times.\n",
    "        self.training_history = []\n",
    "        for episode in tqdm(range(episodes)):\n",
    "            actions, rewards, values, observations = self.run_episode()\n",
    "            self.training_history.append(np.sum(rewards))\n",
    "\n",
    "            logging.info(f\"Episode: {len(self.training_history) - 1:3d}, Reward: {int(self.training_history[-1]):3d}\")\n",
    "            \n",
    "            # `next_value` is the bootstrap value estimate of the future state (critic).\n",
    "            _, next_value, _ = self._predict(actions[-1], rewards[-1], observations[-1,0,3] + 1)\n",
    "\n",
    "            self.model.reset_states()\n",
    "            \n",
    "            returns, advantages = self._returns_advantages(rewards, values, next_value)\n",
    "            # A trick to input actions and advantages through same API.\n",
    "            actions_advantages = np.concatenate([actions[:, None], advantages[:, None]], axis=1)\n",
    "            \n",
    "            losses = self.model.train_on_batch(observations, [actions_advantages, returns])\n",
    "#             logs = model.train_on_batch(x_train, y_train)\n",
    "            self.modelcheckpoint.on_epoch_end(episode, {'loss':losses[0]})\n",
    "            self.tunereporter.on_epoch_end(episode, {'loss': losses[0]})\n",
    "            \n",
    "            logging.debug(f\"[{episode + 1:d}/{episodes:d}] Losses: {losses}\")\n",
    "        self.modelcheckpoint.on_train_end(None)\n",
    "        self.tunereporter.on_train_end(None)\n",
    "        return self.training_history\n",
    "    \n",
    "\n",
    "\n"
   ]
  },
  {
   "cell_type": "code",
   "execution_count": 24,
   "metadata": {},
   "outputs": [],
   "source": [
    "a = RayAgent(Model, 'easy')\n",
    "\n",
    "# trying to implement ray[tune]\n",
    "# def tune_iris(config):  # TODO: Change me.\n",
    "#     train_x, train_y, test_x, test_y = get_iris_data()\n",
    "#     model = create_model(learning_rate=config['lr'], dense_1=config['dense_1'], dense_2=config['dense_2'])  # TODO: Change me.\n",
    "#     checkpoint_callback = ModelCheckpoint(\n",
    "#         \"model.h5\", monitor='loss', save_best_only=True, save_freq=2)\n",
    "\n",
    "#     # Enable Tune to make intermediate decisions by using a Tune Callback hook. This is Keras specific.\n",
    "#     callbacks = [checkpoint_callback, TuneReporterCallback()]\n",
    "    \n",
    "#     # Train the model\n",
    "#     model.fit(\n",
    "#         train_x, train_y, \n",
    "#         validation_data=(test_x, test_y),\n",
    "#         verbose=0, \n",
    "#         batch_size=10, \n",
    "#         epochs=20, \n",
    "#         callbacks=callbacks)\n",
    "\n",
    "# class Agent:\n",
    "#     def __init__(self, model, env_name, learning_rate=1e-3, gamma=0.8, value_coefficient=0.2, entropy_coefficient=.002, name=None, data_path=None, instance = 'bernoulli'):\n",
    "def tune_agent(config):\n",
    "    agent = RayAgent(Model, env_name = config['env'], learning_rate = config['lr'], gamma=config['gamma'])\n",
    "    \n",
    "    agent.train(10)\n",
    "    \n",
    "ray.shutdown()"
   ]
  },
  {
   "cell_type": "code",
   "execution_count": 25,
   "metadata": {},
   "outputs": [
    {
     "data": {
      "text/html": [
       "== Status ==<br>Memory usage on this node: 3.0/3.9 GiB<br>Using FIFO scheduling algorithm.<br>Resources requested: 0/4 CPUs, 0/0 GPUs, 0.0/0.73 GiB heap, 0.0/0.24 GiB objects<br>Result logdir: C:\\Users\\Jakob\\ray_results\\tune_agent<br>Number of trials: 5 (1 ERROR, 4 TERMINATED)<br><table>\n",
       "<thead>\n",
       "<tr><th>Trial name                 </th><th>status    </th><th>loc  </th><th style=\"text-align: right;\">   gamma</th><th style=\"text-align: right;\">        lr</th><th style=\"text-align: right;\">     loss</th><th style=\"text-align: right;\">  iter</th><th style=\"text-align: right;\">  total time (s)</th></tr>\n",
       "</thead>\n",
       "<tbody>\n",
       "<tr><td>tune_agent_easy_453f1_00000</td><td>ERROR     </td><td>     </td><td style=\"text-align: right;\">0.881069</td><td style=\"text-align: right;\">0.078945  </td><td style=\"text-align: right;\">2.83391  </td><td style=\"text-align: right;\">     1</td><td style=\"text-align: right;\">         23.0686</td></tr>\n",
       "<tr><td>tune_agent_easy_453f1_00001</td><td>TERMINATED</td><td>     </td><td style=\"text-align: right;\">0.2972  </td><td style=\"text-align: right;\">0.02236   </td><td style=\"text-align: right;\">0.0466724</td><td style=\"text-align: right;\">    10</td><td style=\"text-align: right;\">         27.8271</td></tr>\n",
       "<tr><td>tune_agent_easy_453f1_00002</td><td>TERMINATED</td><td>     </td><td style=\"text-align: right;\">0.972929</td><td style=\"text-align: right;\">0.00352033</td><td style=\"text-align: right;\">4.66317  </td><td style=\"text-align: right;\">    10</td><td style=\"text-align: right;\">         27.7171</td></tr>\n",
       "<tr><td>tune_agent_easy_453f1_00003</td><td>TERMINATED</td><td>     </td><td style=\"text-align: right;\">0.488084</td><td style=\"text-align: right;\">0.0134998 </td><td style=\"text-align: right;\">1.90896  </td><td style=\"text-align: right;\">    10</td><td style=\"text-align: right;\">         27.988 </td></tr>\n",
       "<tr><td>tune_agent_easy_453f1_00004</td><td>TERMINATED</td><td>     </td><td style=\"text-align: right;\">0.852951</td><td style=\"text-align: right;\">0.0670573 </td><td style=\"text-align: right;\">1.44388  </td><td style=\"text-align: right;\">    10</td><td style=\"text-align: right;\">         11.4793</td></tr>\n",
       "</tbody>\n",
       "</table><br>Number of errored trials: 1<br><table>\n",
       "<thead>\n",
       "<tr><th>Trial name                 </th><th style=\"text-align: right;\">  # failures</th><th>error file                                                                                                             </th></tr>\n",
       "</thead>\n",
       "<tbody>\n",
       "<tr><td>tune_agent_easy_453f1_00000</td><td style=\"text-align: right;\">           1</td><td>C:\\Users\\Jakob\\ray_results\\tune_agent\\tune_agent_easy_0_gamma=0.88107,lr=0.078945_2020-08-11_15-23-47349i_6zm\\error.txt</td></tr>\n",
       "</tbody>\n",
       "</table><br>"
      ],
      "text/plain": [
       "<IPython.core.display.HTML object>"
      ]
     },
     "metadata": {},
     "output_type": "display_data"
    },
    {
     "ename": "TuneError",
     "evalue": "('Trials did not complete', [tune_agent_easy_453f1_00000])",
     "output_type": "error",
     "traceback": [
      "\u001b[1;31m---------------------------------------------------------------------------\u001b[0m",
      "\u001b[1;31mTuneError\u001b[0m                                 Traceback (most recent call last)",
      "\u001b[1;32m<ipython-input-25-0ff4d9796379>\u001b[0m in \u001b[0;36m<module>\u001b[1;34m\u001b[0m\n\u001b[0;32m     21\u001b[0m     \u001b[0mverbose\u001b[0m\u001b[1;33m=\u001b[0m\u001b[1;36m1\u001b[0m\u001b[1;33m,\u001b[0m\u001b[1;33m\u001b[0m\u001b[1;33m\u001b[0m\u001b[0m\n\u001b[0;32m     22\u001b[0m     \u001b[0mconfig\u001b[0m\u001b[1;33m=\u001b[0m\u001b[0mhyperparameter_space\u001b[0m\u001b[1;33m,\u001b[0m\u001b[1;33m\u001b[0m\u001b[1;33m\u001b[0m\u001b[0m\n\u001b[1;32m---> 23\u001b[1;33m     num_samples=num_samples)\n\u001b[0m\u001b[0;32m     24\u001b[0m \u001b[1;33m\u001b[0m\u001b[0m\n\u001b[0;32m     25\u001b[0m \u001b[1;32massert\u001b[0m \u001b[0mlen\u001b[0m\u001b[1;33m(\u001b[0m\u001b[0manalysis\u001b[0m\u001b[1;33m.\u001b[0m\u001b[0mtrials\u001b[0m\u001b[1;33m)\u001b[0m \u001b[1;33m==\u001b[0m \u001b[1;36m5\u001b[0m\u001b[1;33m,\u001b[0m \u001b[1;34m\"Did you set the correct number of samples?\"\u001b[0m\u001b[1;33m\u001b[0m\u001b[1;33m\u001b[0m\u001b[0m\n",
      "\u001b[1;32m~\\anaconda3\\envs\\bioAI2020\\lib\\site-packages\\ray\\tune\\tune.py\u001b[0m in \u001b[0;36mrun\u001b[1;34m(run_or_experiment, name, stop, config, resources_per_trial, num_samples, local_dir, upload_dir, trial_name_creator, loggers, sync_to_cloud, sync_to_driver, checkpoint_freq, checkpoint_at_end, sync_on_checkpoint, keep_checkpoints_num, checkpoint_score_attr, global_checkpoint_period, export_formats, max_failures, fail_fast, restore, search_alg, scheduler, with_server, server_port, verbose, progress_reporter, resume, queue_trials, reuse_actors, trial_executor, raise_on_failed_trial, return_trials, ray_auto_init)\u001b[0m\n\u001b[0;32m    347\u001b[0m     \u001b[1;32mif\u001b[0m \u001b[0mincomplete_trials\u001b[0m\u001b[1;33m:\u001b[0m\u001b[1;33m\u001b[0m\u001b[1;33m\u001b[0m\u001b[0m\n\u001b[0;32m    348\u001b[0m         \u001b[1;32mif\u001b[0m \u001b[0mraise_on_failed_trial\u001b[0m\u001b[1;33m:\u001b[0m\u001b[1;33m\u001b[0m\u001b[1;33m\u001b[0m\u001b[0m\n\u001b[1;32m--> 349\u001b[1;33m             \u001b[1;32mraise\u001b[0m \u001b[0mTuneError\u001b[0m\u001b[1;33m(\u001b[0m\u001b[1;34m\"Trials did not complete\"\u001b[0m\u001b[1;33m,\u001b[0m \u001b[0mincomplete_trials\u001b[0m\u001b[1;33m)\u001b[0m\u001b[1;33m\u001b[0m\u001b[1;33m\u001b[0m\u001b[0m\n\u001b[0m\u001b[0;32m    350\u001b[0m         \u001b[1;32melse\u001b[0m\u001b[1;33m:\u001b[0m\u001b[1;33m\u001b[0m\u001b[1;33m\u001b[0m\u001b[0m\n\u001b[0;32m    351\u001b[0m             \u001b[0mlogger\u001b[0m\u001b[1;33m.\u001b[0m\u001b[0merror\u001b[0m\u001b[1;33m(\u001b[0m\u001b[1;34m\"Trials did not complete: %s\"\u001b[0m\u001b[1;33m,\u001b[0m \u001b[0mincomplete_trials\u001b[0m\u001b[1;33m)\u001b[0m\u001b[1;33m\u001b[0m\u001b[1;33m\u001b[0m\u001b[0m\n",
      "\u001b[1;31mTuneError\u001b[0m: ('Trials did not complete', [tune_agent_easy_453f1_00000])"
     ]
    }
   ],
   "source": [
    "hyperparameter_space = {\n",
    "                        'lr': tune.loguniform(0.001, 0.1),\n",
    "                        'gamma': tune.uniform(0,1),\n",
    "                        'env': 'easy'}  # TODO: Fill me out.\n",
    "num_samples = 5  # TODO: Fill me out.\n",
    "\n",
    "####################################################################################################\n",
    "################ This is just a validation function for tutorial purposes only. ####################\n",
    "HP_KEYS = [\"lr\", \"gamma\", \"env\"]\n",
    "assert all(key in hyperparameter_space for key in HP_KEYS), (\n",
    "    \"The hyperparameter space is not fully designated. It must include all of {}\".format(HP_KEYS))\n",
    "######################################################################################################\n",
    "\n",
    "ray.shutdown()  # Restart Ray defensively in case the ray connection is lost. \n",
    "ray.init(log_to_driver=False)\n",
    "# We clean out the logs before running for a clean visualization later.\n",
    "shutil.rmtree('~/ray_results/tune_agent', ignore_errors=True)\n",
    "\n",
    "analysis = tune.run(\n",
    "    tune_agent, \n",
    "    verbose=1, \n",
    "    config=hyperparameter_space,\n",
    "    num_samples=num_samples)\n",
    "\n",
    "assert len(analysis.trials) == 5, \"Did you set the correct number of samples?\""
   ]
  },
  {
   "cell_type": "code",
   "execution_count": 26,
   "metadata": {},
   "outputs": [
    {
     "name": "stdout",
     "output_type": "stream",
     "text": [
      "You can use any of the following columns to get the best model: \n",
      "['keras_info/loss'].\n",
      "==========\n",
      "C:\\Users\\Jakob\\ray_results\\tune_agent\\tune_agent_easy_0_gamma=0.2149,lr=0.0023708_2020-08-11_15-17-44kw57l2bf\n"
     ]
    },
    {
     "ename": "OSError",
     "evalue": "SavedModel file does not exist at: C:\\Users\\Jakob\\ray_results\\tune_agent\\tune_agent_easy_0_gamma=0.2149,lr=0.0023708_2020-08-11_15-17-44kw57l2bf/model.h5/{saved_model.pbtxt|saved_model.pb}",
     "output_type": "error",
     "traceback": [
      "\u001b[1;31m---------------------------------------------------------------------------\u001b[0m",
      "\u001b[1;31mOSError\u001b[0m                                   Traceback (most recent call last)",
      "\u001b[1;32m<ipython-input-26-28df737052db>\u001b[0m in \u001b[0;36m<module>\u001b[1;34m\u001b[0m\n\u001b[0;32m      9\u001b[0m \u001b[1;31m# We saved the model as `model.h5` in the logdir of the trial.\u001b[0m\u001b[1;33m\u001b[0m\u001b[1;33m\u001b[0m\u001b[1;33m\u001b[0m\u001b[0m\n\u001b[0;32m     10\u001b[0m \u001b[1;32mfrom\u001b[0m \u001b[0mtensorflow\u001b[0m\u001b[1;33m.\u001b[0m\u001b[0mkeras\u001b[0m\u001b[1;33m.\u001b[0m\u001b[0mmodels\u001b[0m \u001b[1;32mimport\u001b[0m \u001b[0mload_model\u001b[0m\u001b[1;33m\u001b[0m\u001b[1;33m\u001b[0m\u001b[0m\n\u001b[1;32m---> 11\u001b[1;33m \u001b[0mtuned_model\u001b[0m \u001b[1;33m=\u001b[0m \u001b[0mload_model\u001b[0m\u001b[1;33m(\u001b[0m\u001b[0mlogdir\u001b[0m \u001b[1;33m+\u001b[0m \u001b[1;34m\"/model.h5\"\u001b[0m\u001b[1;33m)\u001b[0m\u001b[1;33m\u001b[0m\u001b[1;33m\u001b[0m\u001b[0m\n\u001b[0m",
      "\u001b[1;32m~\\anaconda3\\envs\\bioAI2020\\lib\\site-packages\\tensorflow_core\\python\\keras\\saving\\save.py\u001b[0m in \u001b[0;36mload_model\u001b[1;34m(filepath, custom_objects, compile)\u001b[0m\n\u001b[0;32m    147\u001b[0m \u001b[1;33m\u001b[0m\u001b[0m\n\u001b[0;32m    148\u001b[0m   \u001b[1;32mif\u001b[0m \u001b[0misinstance\u001b[0m\u001b[1;33m(\u001b[0m\u001b[0mfilepath\u001b[0m\u001b[1;33m,\u001b[0m \u001b[0msix\u001b[0m\u001b[1;33m.\u001b[0m\u001b[0mstring_types\u001b[0m\u001b[1;33m)\u001b[0m\u001b[1;33m:\u001b[0m\u001b[1;33m\u001b[0m\u001b[1;33m\u001b[0m\u001b[0m\n\u001b[1;32m--> 149\u001b[1;33m     \u001b[0mloader_impl\u001b[0m\u001b[1;33m.\u001b[0m\u001b[0mparse_saved_model\u001b[0m\u001b[1;33m(\u001b[0m\u001b[0mfilepath\u001b[0m\u001b[1;33m)\u001b[0m\u001b[1;33m\u001b[0m\u001b[1;33m\u001b[0m\u001b[0m\n\u001b[0m\u001b[0;32m    150\u001b[0m     \u001b[1;32mreturn\u001b[0m \u001b[0msaved_model_load\u001b[0m\u001b[1;33m.\u001b[0m\u001b[0mload\u001b[0m\u001b[1;33m(\u001b[0m\u001b[0mfilepath\u001b[0m\u001b[1;33m,\u001b[0m \u001b[0mcompile\u001b[0m\u001b[1;33m)\u001b[0m\u001b[1;33m\u001b[0m\u001b[1;33m\u001b[0m\u001b[0m\n\u001b[0;32m    151\u001b[0m \u001b[1;33m\u001b[0m\u001b[0m\n",
      "\u001b[1;32m~\\anaconda3\\envs\\bioAI2020\\lib\\site-packages\\tensorflow_core\\python\\saved_model\\loader_impl.py\u001b[0m in \u001b[0;36mparse_saved_model\u001b[1;34m(export_dir)\u001b[0m\n\u001b[0;32m     81\u001b[0m                   (export_dir,\n\u001b[0;32m     82\u001b[0m                    \u001b[0mconstants\u001b[0m\u001b[1;33m.\u001b[0m\u001b[0mSAVED_MODEL_FILENAME_PBTXT\u001b[0m\u001b[1;33m,\u001b[0m\u001b[1;33m\u001b[0m\u001b[1;33m\u001b[0m\u001b[0m\n\u001b[1;32m---> 83\u001b[1;33m                    constants.SAVED_MODEL_FILENAME_PB))\n\u001b[0m\u001b[0;32m     84\u001b[0m \u001b[1;33m\u001b[0m\u001b[0m\n\u001b[0;32m     85\u001b[0m \u001b[1;33m\u001b[0m\u001b[0m\n",
      "\u001b[1;31mOSError\u001b[0m: SavedModel file does not exist at: C:\\Users\\Jakob\\ray_results\\tune_agent\\tune_agent_easy_0_gamma=0.2149,lr=0.0023708_2020-08-11_15-17-44kw57l2bf/model.h5/{saved_model.pbtxt|saved_model.pb}"
     ]
    }
   ],
   "source": [
    "print(\"You can use any of the following columns to get the best model: \\n{}.\".format(\n",
    "    [k for k in analysis.dataframe() if k.startswith(\"keras_info\")]))\n",
    "print(\"=\" * 10)\n",
    "logdir = analysis.get_best_logdir(\"keras_info/loss\", mode=\"min\")\n",
    "print(logdir)\n",
    "# df = analysis.dataframe()\n",
    "# df['keras_info/loss']\n",
    "\n",
    "# We saved the model as `model.h5` in the logdir of the trial.\n",
    "from tensorflow.keras.models import load_model\n",
    "tuned_model = load_model(logdir + \"/model.h5\")"
   ]
  },
  {
   "cell_type": "markdown",
   "metadata": {},
   "source": [
    "# train"
   ]
  },
  {
   "cell_type": "code",
   "execution_count": 71,
   "metadata": {},
   "outputs": [
    {
     "ename": "TypeError",
     "evalue": "join() argument must be str or bytes, not 'dict'",
     "output_type": "error",
     "traceback": [
      "\u001b[1;31m---------------------------------------------------------------------------\u001b[0m",
      "\u001b[1;31mTypeError\u001b[0m                                 Traceback (most recent call last)",
      "\u001b[1;32m<ipython-input-71-e1466c86fc01>\u001b[0m in \u001b[0;36m<module>\u001b[1;34m\u001b[0m\n\u001b[0;32m     31\u001b[0m \u001b[1;31m# h = train_agent(search_space)\u001b[0m\u001b[1;33m\u001b[0m\u001b[1;33m\u001b[0m\u001b[1;33m\u001b[0m\u001b[0m\n\u001b[0;32m     32\u001b[0m \u001b[1;33m\u001b[0m\u001b[0m\n\u001b[1;32m---> 33\u001b[1;33m \u001b[0mprint\u001b[0m\u001b[1;33m(\u001b[0m\u001b[0mtune\u001b[0m\u001b[1;33m.\u001b[0m\u001b[0mrun\u001b[0m\u001b[1;33m(\u001b[0m\u001b[0mtrain_agent\u001b[0m\u001b[1;33m,\u001b[0m \u001b[0msearch_space\u001b[0m\u001b[1;33m)\u001b[0m\u001b[1;33m)\u001b[0m\u001b[1;33m\u001b[0m\u001b[1;33m\u001b[0m\u001b[0m\n\u001b[0m\u001b[0;32m     34\u001b[0m \u001b[1;33m\u001b[0m\u001b[0m\n\u001b[0;32m     35\u001b[0m \u001b[1;33m\u001b[0m\u001b[0m\n",
      "\u001b[1;32m~\\anaconda3\\envs\\bioAI2020\\lib\\site-packages\\ray\\tune\\tune.py\u001b[0m in \u001b[0;36mrun\u001b[1;34m(run_or_experiment, name, stop, config, resources_per_trial, num_samples, local_dir, upload_dir, trial_name_creator, loggers, sync_to_cloud, sync_to_driver, checkpoint_freq, checkpoint_at_end, sync_on_checkpoint, keep_checkpoints_num, checkpoint_score_attr, global_checkpoint_period, export_formats, max_failures, fail_fast, restore, search_alg, scheduler, with_server, server_port, verbose, progress_reporter, resume, queue_trials, reuse_actors, trial_executor, raise_on_failed_trial, return_trials, ray_auto_init)\u001b[0m\n\u001b[0;32m    285\u001b[0m         \u001b[0msearch_alg\u001b[0m\u001b[1;33m=\u001b[0m\u001b[0msearch_alg\u001b[0m \u001b[1;32mor\u001b[0m \u001b[0mBasicVariantGenerator\u001b[0m\u001b[1;33m(\u001b[0m\u001b[1;33m)\u001b[0m\u001b[1;33m,\u001b[0m\u001b[1;33m\u001b[0m\u001b[1;33m\u001b[0m\u001b[0m\n\u001b[0;32m    286\u001b[0m         \u001b[0mscheduler\u001b[0m\u001b[1;33m=\u001b[0m\u001b[0mscheduler\u001b[0m \u001b[1;32mor\u001b[0m \u001b[0mFIFOScheduler\u001b[0m\u001b[1;33m(\u001b[0m\u001b[1;33m)\u001b[0m\u001b[1;33m,\u001b[0m\u001b[1;33m\u001b[0m\u001b[1;33m\u001b[0m\u001b[0m\n\u001b[1;32m--> 287\u001b[1;33m         \u001b[0mlocal_checkpoint_dir\u001b[0m\u001b[1;33m=\u001b[0m\u001b[0mexperiments\u001b[0m\u001b[1;33m[\u001b[0m\u001b[1;36m0\u001b[0m\u001b[1;33m]\u001b[0m\u001b[1;33m.\u001b[0m\u001b[0mcheckpoint_dir\u001b[0m\u001b[1;33m,\u001b[0m\u001b[1;33m\u001b[0m\u001b[1;33m\u001b[0m\u001b[0m\n\u001b[0m\u001b[0;32m    288\u001b[0m         \u001b[0mremote_checkpoint_dir\u001b[0m\u001b[1;33m=\u001b[0m\u001b[0mexperiments\u001b[0m\u001b[1;33m[\u001b[0m\u001b[1;36m0\u001b[0m\u001b[1;33m]\u001b[0m\u001b[1;33m.\u001b[0m\u001b[0mremote_checkpoint_dir\u001b[0m\u001b[1;33m,\u001b[0m\u001b[1;33m\u001b[0m\u001b[1;33m\u001b[0m\u001b[0m\n\u001b[0;32m    289\u001b[0m         \u001b[0msync_to_cloud\u001b[0m\u001b[1;33m=\u001b[0m\u001b[0msync_to_cloud\u001b[0m\u001b[1;33m,\u001b[0m\u001b[1;33m\u001b[0m\u001b[1;33m\u001b[0m\u001b[0m\n",
      "\u001b[1;32m~\\anaconda3\\envs\\bioAI2020\\lib\\site-packages\\ray\\tune\\experiment.py\u001b[0m in \u001b[0;36mcheckpoint_dir\u001b[1;34m(self)\u001b[0m\n\u001b[0;32m    217\u001b[0m     \u001b[1;32mdef\u001b[0m \u001b[0mcheckpoint_dir\u001b[0m\u001b[1;33m(\u001b[0m\u001b[0mself\u001b[0m\u001b[1;33m)\u001b[0m\u001b[1;33m:\u001b[0m\u001b[1;33m\u001b[0m\u001b[1;33m\u001b[0m\u001b[0m\n\u001b[0;32m    218\u001b[0m         \u001b[1;32mif\u001b[0m \u001b[0mself\u001b[0m\u001b[1;33m.\u001b[0m\u001b[0mlocal_dir\u001b[0m\u001b[1;33m:\u001b[0m\u001b[1;33m\u001b[0m\u001b[1;33m\u001b[0m\u001b[0m\n\u001b[1;32m--> 219\u001b[1;33m             \u001b[1;32mreturn\u001b[0m \u001b[0mos\u001b[0m\u001b[1;33m.\u001b[0m\u001b[0mpath\u001b[0m\u001b[1;33m.\u001b[0m\u001b[0mjoin\u001b[0m\u001b[1;33m(\u001b[0m\u001b[0mself\u001b[0m\u001b[1;33m.\u001b[0m\u001b[0mlocal_dir\u001b[0m\u001b[1;33m,\u001b[0m \u001b[0mself\u001b[0m\u001b[1;33m.\u001b[0m\u001b[0mname\u001b[0m\u001b[1;33m)\u001b[0m\u001b[1;33m\u001b[0m\u001b[1;33m\u001b[0m\u001b[0m\n\u001b[0m\u001b[0;32m    220\u001b[0m \u001b[1;33m\u001b[0m\u001b[0m\n\u001b[0;32m    221\u001b[0m     \u001b[1;33m@\u001b[0m\u001b[0mproperty\u001b[0m\u001b[1;33m\u001b[0m\u001b[1;33m\u001b[0m\u001b[0m\n",
      "\u001b[1;32m~\\anaconda3\\envs\\bioAI2020\\lib\\ntpath.py\u001b[0m in \u001b[0;36mjoin\u001b[1;34m(path, *paths)\u001b[0m\n\u001b[0;32m    113\u001b[0m         \u001b[1;32mreturn\u001b[0m \u001b[0mresult_drive\u001b[0m \u001b[1;33m+\u001b[0m \u001b[0mresult_path\u001b[0m\u001b[1;33m\u001b[0m\u001b[1;33m\u001b[0m\u001b[0m\n\u001b[0;32m    114\u001b[0m     \u001b[1;32mexcept\u001b[0m \u001b[1;33m(\u001b[0m\u001b[0mTypeError\u001b[0m\u001b[1;33m,\u001b[0m \u001b[0mAttributeError\u001b[0m\u001b[1;33m,\u001b[0m \u001b[0mBytesWarning\u001b[0m\u001b[1;33m)\u001b[0m\u001b[1;33m:\u001b[0m\u001b[1;33m\u001b[0m\u001b[1;33m\u001b[0m\u001b[0m\n\u001b[1;32m--> 115\u001b[1;33m         \u001b[0mgenericpath\u001b[0m\u001b[1;33m.\u001b[0m\u001b[0m_check_arg_types\u001b[0m\u001b[1;33m(\u001b[0m\u001b[1;34m'join'\u001b[0m\u001b[1;33m,\u001b[0m \u001b[0mpath\u001b[0m\u001b[1;33m,\u001b[0m \u001b[1;33m*\u001b[0m\u001b[0mpaths\u001b[0m\u001b[1;33m)\u001b[0m\u001b[1;33m\u001b[0m\u001b[1;33m\u001b[0m\u001b[0m\n\u001b[0m\u001b[0;32m    116\u001b[0m         \u001b[1;32mraise\u001b[0m\u001b[1;33m\u001b[0m\u001b[1;33m\u001b[0m\u001b[0m\n\u001b[0;32m    117\u001b[0m \u001b[1;33m\u001b[0m\u001b[0m\n",
      "\u001b[1;32m~\\anaconda3\\envs\\bioAI2020\\lib\\genericpath.py\u001b[0m in \u001b[0;36m_check_arg_types\u001b[1;34m(funcname, *args)\u001b[0m\n\u001b[0;32m    151\u001b[0m         \u001b[1;32melse\u001b[0m\u001b[1;33m:\u001b[0m\u001b[1;33m\u001b[0m\u001b[1;33m\u001b[0m\u001b[0m\n\u001b[0;32m    152\u001b[0m             raise TypeError('%s() argument must be str or bytes, not %r' %\n\u001b[1;32m--> 153\u001b[1;33m                             (funcname, s.__class__.__name__)) from None\n\u001b[0m\u001b[0;32m    154\u001b[0m     \u001b[1;32mif\u001b[0m \u001b[0mhasstr\u001b[0m \u001b[1;32mand\u001b[0m \u001b[0mhasbytes\u001b[0m\u001b[1;33m:\u001b[0m\u001b[1;33m\u001b[0m\u001b[1;33m\u001b[0m\u001b[0m\n\u001b[0;32m    155\u001b[0m         \u001b[1;32mraise\u001b[0m \u001b[0mTypeError\u001b[0m\u001b[1;33m(\u001b[0m\u001b[1;34m\"Can't mix strings and bytes in path components\"\u001b[0m\u001b[1;33m)\u001b[0m \u001b[1;32mfrom\u001b[0m \u001b[1;32mNone\u001b[0m\u001b[1;33m\u001b[0m\u001b[1;33m\u001b[0m\u001b[0m\n",
      "\u001b[1;31mTypeError\u001b[0m: join() argument must be str or bytes, not 'dict'"
     ]
    }
   ],
   "source": [
    "# for e in ['easy', 'medium', 'hard', 'uniform']:\n",
    "#     name = f\"{e}gauss\"\n",
    "#     agent = Agent(Model, e, name = name, instance = 'gauss')\n",
    "#     agent.train(20000)\n",
    "#     agent.save_agent()\n",
    "#     del agent\n",
    "\n",
    "# class Agent:\n",
    "#     def __init__(self, model, env_name, learning_rate=1e-3, gamma=0.8, value_coefficient=0.2, entropy_coefficient=.002, name=None, data_path=None, instance = 'bernoulli'):\n",
    "#         # `gamma` is the discount factor; coefficients are used for the loss terms.\n",
    "\n",
    "def train_agent(config):\n",
    "    agent = Agent(Model, config['env'], learning_rate = config['learning_rate'], gamma = config['gamma'])\n",
    "    history = agent.train(config['episodes'])\n",
    "#     tune.track.log(history = history)\n",
    "    return np.array(history).mean()\n",
    "# agent = Agent(Model, )\n",
    "\n",
    "\n",
    "\n",
    "\n",
    "    \n",
    "\n",
    "# # agent = Agent(Model, env_name = 'easy')\n",
    "search_space = {\n",
    "    \"learning_rate\": tune.choice([0.001, 0.01, 0.1]),\n",
    "    \"gamma\": tune.uniform(0.1, 0.9),\n",
    "    'env': 'easy',\n",
    "    'episodes': 250\n",
    "}\n",
    "# h = train_agent(search_space)\n",
    "\n",
    "print(tune.run(train_agent, search_space))\n",
    "    \n",
    "\n",
    "# training_history = agent.train(20000)\n",
    "\n",
    "# print(\"Finished training! Testing...\")\n",
    "# print(\"Total Episode Reward: %d out of 100\" % agent.run_episode()[1].sum())"
   ]
  },
  {
   "cell_type": "code",
   "execution_count": 72,
   "metadata": {},
   "outputs": [
    {
     "name": "stdout",
     "output_type": "stream",
     "text": [
      "Help on function run in module ray.tune.tune:\n",
      "\n",
      "run(run_or_experiment, name=None, stop=None, config=None, resources_per_trial=None, num_samples=1, local_dir=None, upload_dir=None, trial_name_creator=None, loggers=None, sync_to_cloud=None, sync_to_driver=None, checkpoint_freq=0, checkpoint_at_end=False, sync_on_checkpoint=True, keep_checkpoints_num=None, checkpoint_score_attr=None, global_checkpoint_period=10, export_formats=None, max_failures=0, fail_fast=False, restore=None, search_alg=None, scheduler=None, with_server=False, server_port=4321, verbose=2, progress_reporter=None, resume=False, queue_trials=False, reuse_actors=False, trial_executor=None, raise_on_failed_trial=True, return_trials=False, ray_auto_init=True)\n",
      "    Executes training.\n",
      "    \n",
      "    Args:\n",
      "        run_or_experiment (function | class | str | :class:`Experiment`): If\n",
      "            function|class|str, this is the algorithm or model to train.\n",
      "            This may refer to the name of a built-on algorithm\n",
      "            (e.g. RLLib's DQN or PPO), a user-defined trainable\n",
      "            function or class, or the string identifier of a\n",
      "            trainable function or class registered in the tune registry.\n",
      "            If Experiment, then Tune will execute training based on\n",
      "            Experiment.spec.\n",
      "        name (str): Name of experiment.\n",
      "        stop (dict | callable | :class:`Stopper`): Stopping criteria. If dict,\n",
      "            the keys may be any field in the return result of 'train()',\n",
      "            whichever is reached first. If function, it must take (trial_id,\n",
      "            result) as arguments and return a boolean (True if trial should be\n",
      "            stopped, False otherwise). This can also be a subclass of\n",
      "            ``ray.tune.Stopper``, which allows users to implement\n",
      "            custom experiment-wide stopping (i.e., stopping an entire Tune\n",
      "            run based on some time constraint).\n",
      "        config (dict): Algorithm-specific configuration for Tune variant\n",
      "            generation (e.g. env, hyperparams). Defaults to empty dict.\n",
      "            Custom search algorithms may ignore this.\n",
      "        resources_per_trial (dict): Machine resources to allocate per trial,\n",
      "            e.g. ``{\"cpu\": 64, \"gpu\": 8}``. Note that GPUs will not be\n",
      "            assigned unless you specify them here. Defaults to 1 CPU and 0\n",
      "            GPUs in ``Trainable.default_resource_request()``.\n",
      "        num_samples (int): Number of times to sample from the\n",
      "            hyperparameter space. Defaults to 1. If `grid_search` is\n",
      "            provided as an argument, the grid will be repeated\n",
      "            `num_samples` of times.\n",
      "        local_dir (str): Local dir to save training results to.\n",
      "            Defaults to ``~/ray_results``.\n",
      "        upload_dir (str): Optional URI to sync training results and checkpoints\n",
      "            to (e.g. ``s3://bucket`` or ``gs://bucket``).\n",
      "        trial_name_creator (func): Optional function for generating\n",
      "            the trial string representation.\n",
      "        loggers (list): List of logger creators to be used with\n",
      "            each Trial. If None, defaults to ray.tune.logger.DEFAULT_LOGGERS.\n",
      "            See `ray/tune/logger.py`.\n",
      "        sync_to_cloud (func|str): Function for syncing the local_dir to and\n",
      "            from upload_dir. If string, then it must be a string template that\n",
      "            includes `{source}` and `{target}` for the syncer to run. If not\n",
      "            provided, the sync command defaults to standard S3 or gsutil sync\n",
      "            commands. By default local_dir is synced to remote_dir every 300\n",
      "            seconds. To change this, set the TUNE_CLOUD_SYNC_S\n",
      "            environment variable in the driver machine.\n",
      "        sync_to_driver (func|str|bool): Function for syncing trial logdir from\n",
      "            remote node to local. If string, then it must be a string template\n",
      "            that includes `{source}` and `{target}` for the syncer to run.\n",
      "            If True or not provided, it defaults to using rsync. If False,\n",
      "            syncing to driver is disabled.\n",
      "        checkpoint_freq (int): How many training iterations between\n",
      "            checkpoints. A value of 0 (default) disables checkpointing.\n",
      "        checkpoint_at_end (bool): Whether to checkpoint at the end of the\n",
      "            experiment regardless of the checkpoint_freq. Default is False.\n",
      "        sync_on_checkpoint (bool): Force sync-down of trial checkpoint to\n",
      "            driver. If set to False, checkpoint syncing from worker to driver\n",
      "            is asynchronous and best-effort. This does not affect persistent\n",
      "            storage syncing. Defaults to True.\n",
      "        keep_checkpoints_num (int): Number of checkpoints to keep. A value of\n",
      "            `None` keeps all checkpoints. Defaults to `None`. If set, need\n",
      "            to provide `checkpoint_score_attr`.\n",
      "        checkpoint_score_attr (str): Specifies by which attribute to rank the\n",
      "            best checkpoint. Default is increasing order. If attribute starts\n",
      "            with `min-` it will rank attribute in decreasing order, i.e.\n",
      "            `min-validation_loss`.\n",
      "        global_checkpoint_period (int): Seconds between global checkpointing.\n",
      "            This does not affect `checkpoint_freq`, which specifies frequency\n",
      "            for individual trials.\n",
      "        export_formats (list): List of formats that exported at the end of\n",
      "            the experiment. Default is None.\n",
      "        max_failures (int): Try to recover a trial at least this many times.\n",
      "            Ray will recover from the latest checkpoint if present.\n",
      "            Setting to -1 will lead to infinite recovery retries.\n",
      "            Setting to 0 will disable retries. Defaults to 3.\n",
      "        fail_fast (bool): Whether to fail upon the first error.\n",
      "        restore (str): Path to checkpoint. Only makes sense to set if\n",
      "            running 1 trial. Defaults to None.\n",
      "        search_alg (Searcher): Search algorithm for optimization.\n",
      "        scheduler (TrialScheduler): Scheduler for executing\n",
      "            the experiment. Choose among FIFO (default), MedianStopping,\n",
      "            AsyncHyperBand, HyperBand and PopulationBasedTraining. Refer to\n",
      "            ray.tune.schedulers for more options.\n",
      "        with_server (bool): Starts a background Tune server. Needed for\n",
      "            using the Client API.\n",
      "        server_port (int): Port number for launching TuneServer.\n",
      "        verbose (int): 0, 1, or 2. Verbosity mode. 0 = silent,\n",
      "            1 = only status updates, 2 = status and trial results.\n",
      "        progress_reporter (ProgressReporter): Progress reporter for reporting\n",
      "            intermediate experiment progress. Defaults to CLIReporter if\n",
      "            running in command-line, or JupyterNotebookReporter if running in\n",
      "            a Jupyter notebook.\n",
      "        resume (str|bool): One of \"LOCAL\", \"REMOTE\", \"PROMPT\", or bool.\n",
      "            LOCAL/True restores the checkpoint from the local_checkpoint_dir.\n",
      "            REMOTE restores the checkpoint from remote_checkpoint_dir.\n",
      "            PROMPT provides CLI feedback. False forces a new\n",
      "            experiment. If resume is set but checkpoint does not exist,\n",
      "            ValueError will be thrown.\n",
      "        queue_trials (bool): Whether to queue trials when the cluster does\n",
      "            not currently have enough resources to launch one. This should\n",
      "            be set to True when running on an autoscaling cluster to enable\n",
      "            automatic scale-up.\n",
      "        reuse_actors (bool): Whether to reuse actors between different trials\n",
      "            when possible. This can drastically speed up experiments that start\n",
      "            and stop actors often (e.g., PBT in time-multiplexing mode). This\n",
      "            requires trials to have the same resource requirements.\n",
      "        trial_executor (TrialExecutor): Manage the execution of trials.\n",
      "        raise_on_failed_trial (bool): Raise TuneError if there exists failed\n",
      "            trial (of ERROR state) when the experiments complete.\n",
      "        ray_auto_init (bool): Automatically starts a local Ray cluster\n",
      "            if using a RayTrialExecutor (which is the default) and\n",
      "            if Ray is not initialized. Defaults to True.\n",
      "    \n",
      "    Returns:\n",
      "        ExperimentAnalysis: Object for experiment analysis.\n",
      "    \n",
      "    Raises:\n",
      "        TuneError: Any trials failed and `raise_on_failed_trial` is True.\n",
      "    \n",
      "    Examples:\n",
      "    \n",
      "    .. code-block:: python\n",
      "    \n",
      "        # Run 10 trials (each trial is one instance of a Trainable). Tune runs\n",
      "        # in parallel and automatically determines concurrency.\n",
      "        tune.run(trainable, num_samples=10)\n",
      "    \n",
      "        # Run 1 trial, stop when trial has reached 10 iterations\n",
      "        tune.run(my_trainable, stop={\"training_iteration\": 10})\n",
      "    \n",
      "        # Run 1 trial, search over hyperparameters, stop after 10 iterations.\n",
      "        space = {\"lr\": tune.uniform(0, 1), \"momentum\": tune.uniform(0, 1)}\n",
      "        tune.run(my_trainable, config=space, stop={\"training_iteration\": 10})\n",
      "\n"
     ]
    }
   ],
   "source": [
    "help(tune.run)"
   ]
  },
  {
   "cell_type": "markdown",
   "metadata": {},
   "source": [
    "# or load weights"
   ]
  },
  {
   "cell_type": "code",
   "execution_count": 16,
   "metadata": {},
   "outputs": [],
   "source": [
    "agent.save_agent()"
   ]
  },
  {
   "cell_type": "code",
   "execution_count": 28,
   "metadata": {},
   "outputs": [
    {
     "name": "stderr",
     "output_type": "stream",
     "text": [
      "WARNING:root:Updating parameters, training_history, weights and recompiling model.\n"
     ]
    }
   ],
   "source": [
    "agent.load_agent()"
   ]
  },
  {
   "cell_type": "code",
   "execution_count": 29,
   "metadata": {},
   "outputs": [
    {
     "data": {
      "text/plain": [
       "array([43., 60., 50., ..., 53., 66., 55.])"
      ]
     },
     "execution_count": 29,
     "metadata": {},
     "output_type": "execute_result"
    }
   ],
   "source": [
    "agent.training_history\n",
    "# plt.style.use('seaborn')\n",
    "# plt.plot(np.arange(0, len(agent.training_history), 5), agent.training_history[::5])\n",
    "# # plt.plot(np.arange(len(training_history)), training_history)\n",
    "# plt.xlabel('Episode')\n",
    "# plt.ylabel('Total Reward')"
   ]
  },
  {
   "cell_type": "markdown",
   "metadata": {},
   "source": [
    "# analyze model"
   ]
  },
  {
   "cell_type": "code",
   "execution_count": 19,
   "metadata": {},
   "outputs": [],
   "source": [
    "class Benchmark:\n",
    "    def __init__(self, agent, env_name=None, n_episodes=300, instance = 'bernoulli'):\n",
    "        self.agent = agent\n",
    "        self.env_name = env_name or agent.env_name\n",
    "        self.instance = instance\n",
    "        if instance == 'bernoulli':\n",
    "            self.env = dependent_bandit(self.env_name)\n",
    "        elif instance == 'gauss':\n",
    "            self.env = GaussBandit(self.env_name)\n",
    "        self.n_episodes = n_episodes\n",
    "    \n",
    "    def evaluate(self):\n",
    "        rewards = np.empty((self.n_episodes, self.env.n_timesteps))\n",
    "        actions = np.empty((self.n_episodes, self.env.n_timesteps))\n",
    "        values = np.empty((self.n_episodes, self.env.n_timesteps))\n",
    "        bandits = np.empty((self.n_episodes, 2))\n",
    "        for episode in tqdm(range(self.n_episodes)):\n",
    "            actions[episode], rewards[episode], values[episode], _ = self.agent.run_episode(self.env)\n",
    "            bandits[episode] = self.env.bandit\n",
    "        self.episodes = {\n",
    "            'rewards': rewards,\n",
    "            'actions': actions,\n",
    "            'values': values,\n",
    "            'bandits': bandits\n",
    "        }\n",
    "            \n",
    "    def hist(self):\n",
    "        if not hasattr(self, 'episodes'):\n",
    "            self.evaluate()\n",
    "        plt.hist(self.episodes['rewards'].sum(1) / (self.env.bandit.max() * 100))\n",
    "        \n",
    "    def plot_cumulative_regret(self):\n",
    "        if not hasattr(self, 'episodes'):\n",
    "            self.evaluate()\n",
    "        if self.env.difficulty == 'uniform':\n",
    "            arr = np.empty(self.episodes['rewards'].shape).T\n",
    "            arr[:,:] = np.max(self.episodes['bandits'], axis = 1)\n",
    "            regret = (arr.T - self.episodes['rewards']).mean(0)\n",
    "        else:   \n",
    "            regret = self.env.bandit.max() - self.episodes['rewards'].mean(0)\n",
    "        plt.plot(np.cumsum(regret))\n",
    "        \n",
    "    def plot_rewards(self):\n",
    "        import matplotlib.patches as mpatches\n",
    "        if not hasattr(self, 'episodes'):\n",
    "            self.evaluate()\n",
    "\n",
    "        im = plt.imshow(self.episodes['rewards'], cmap='binary', origin='lower', interpolation='nearest')\n",
    "        \n",
    "#         patches = [mpatches.Patch(color=im.cmap(im.norm(0)), label=\"Sub-optimal choice\")]\n",
    "#         plt.legend(handles=patches, )\n",
    "        \n",
    "        plt.gca().set_aspect('auto')\n",
    "        plt.grid(False)\n",
    "    \n",
    "    def plot_actions(self):\n",
    "        import matplotlib.patches as mpatches\n",
    "        if not hasattr(self, 'episodes'):\n",
    "            self.evaluate()\n",
    "        actions_optimal = np.empty_like(self.episodes['actions'])\n",
    "        _itr = zip(self.episodes['actions'], np.argmax(self.episodes['bandits'], 1))\n",
    "        \n",
    "        for i, (actions_episode, optimal_choice) in enumerate(_itr):\n",
    "            actions_optimal[i] = actions_episode == optimal_choice\n",
    "\n",
    "        im = plt.imshow(actions_optimal, cmap='Greens_r', origin='lower', interpolation='nearest')\n",
    "        \n",
    "        patches = [mpatches.Patch(color=im.cmap(im.norm(0)), label=\"Sub-optimal choice\")]\n",
    "        plt.legend(handles=patches, )\n",
    "        \n",
    "        plt.gca().set_aspect('auto')\n",
    "        plt.grid(False)"
   ]
  },
  {
   "cell_type": "code",
   "execution_count": 73,
   "metadata": {},
   "outputs": [
    {
     "name": "stderr",
     "output_type": "stream",
     "text": [
      "WARNING:root:Updating parameters, training_history, weights and recompiling model.\n"
     ]
    }
   ],
   "source": [
    "agent = Agent(Model,'uniform')\n",
    "agent.load_agent()\n",
    "b = Benchmark(agent, 'uniform')\n",
    "\n",
    "# agent = ThompsonAgent('uniform')\n",
    "# b = agent.benchmark()\n"
   ]
  },
  {
   "cell_type": "code",
   "execution_count": 74,
   "metadata": {},
   "outputs": [
    {
     "data": {
      "application/vnd.jupyter.widget-view+json": {
       "model_id": "e670c4051a994a2e85bf2242210a131f",
       "version_major": 2,
       "version_minor": 0
      },
      "text/plain": [
       "HBox(children=(FloatProgress(value=0.0, max=300.0), HTML(value='')))"
      ]
     },
     "metadata": {},
     "output_type": "display_data"
    },
    {
     "name": "stdout",
     "output_type": "stream",
     "text": [
      "WARNING:tensorflow:Unresolved object in checkpoint: (root).optimizer.iter\n"
     ]
    },
    {
     "name": "stderr",
     "output_type": "stream",
     "text": [
      "WARNING:tensorflow:Unresolved object in checkpoint: (root).optimizer.iter\n"
     ]
    },
    {
     "name": "stdout",
     "output_type": "stream",
     "text": [
      "WARNING:tensorflow:Unresolved object in checkpoint: (root).optimizer.beta_1\n"
     ]
    },
    {
     "name": "stderr",
     "output_type": "stream",
     "text": [
      "WARNING:tensorflow:Unresolved object in checkpoint: (root).optimizer.beta_1\n"
     ]
    },
    {
     "name": "stdout",
     "output_type": "stream",
     "text": [
      "WARNING:tensorflow:Unresolved object in checkpoint: (root).optimizer.beta_2\n"
     ]
    },
    {
     "name": "stderr",
     "output_type": "stream",
     "text": [
      "WARNING:tensorflow:Unresolved object in checkpoint: (root).optimizer.beta_2\n"
     ]
    },
    {
     "name": "stdout",
     "output_type": "stream",
     "text": [
      "WARNING:tensorflow:Unresolved object in checkpoint: (root).optimizer.decay\n"
     ]
    },
    {
     "name": "stderr",
     "output_type": "stream",
     "text": [
      "WARNING:tensorflow:Unresolved object in checkpoint: (root).optimizer.decay\n"
     ]
    },
    {
     "name": "stdout",
     "output_type": "stream",
     "text": [
      "WARNING:tensorflow:Unresolved object in checkpoint: (root).optimizer.learning_rate\n"
     ]
    },
    {
     "name": "stderr",
     "output_type": "stream",
     "text": [
      "WARNING:tensorflow:Unresolved object in checkpoint: (root).optimizer.learning_rate\n"
     ]
    },
    {
     "name": "stdout",
     "output_type": "stream",
     "text": [
      "WARNING:tensorflow:Unresolved object in checkpoint: (root).optimizer's state 'm' for (root).policy.kernel\n"
     ]
    },
    {
     "name": "stderr",
     "output_type": "stream",
     "text": [
      "WARNING:tensorflow:Unresolved object in checkpoint: (root).optimizer's state 'm' for (root).policy.kernel\n"
     ]
    },
    {
     "name": "stdout",
     "output_type": "stream",
     "text": [
      "WARNING:tensorflow:Unresolved object in checkpoint: (root).optimizer's state 'm' for (root).policy.bias\n"
     ]
    },
    {
     "name": "stderr",
     "output_type": "stream",
     "text": [
      "WARNING:tensorflow:Unresolved object in checkpoint: (root).optimizer's state 'm' for (root).policy.bias\n"
     ]
    },
    {
     "name": "stdout",
     "output_type": "stream",
     "text": [
      "WARNING:tensorflow:Unresolved object in checkpoint: (root).optimizer's state 'm' for (root).value.kernel\n"
     ]
    },
    {
     "name": "stderr",
     "output_type": "stream",
     "text": [
      "WARNING:tensorflow:Unresolved object in checkpoint: (root).optimizer's state 'm' for (root).value.kernel\n"
     ]
    },
    {
     "name": "stdout",
     "output_type": "stream",
     "text": [
      "WARNING:tensorflow:Unresolved object in checkpoint: (root).optimizer's state 'm' for (root).value.bias\n"
     ]
    },
    {
     "name": "stderr",
     "output_type": "stream",
     "text": [
      "WARNING:tensorflow:Unresolved object in checkpoint: (root).optimizer's state 'm' for (root).value.bias\n"
     ]
    },
    {
     "name": "stdout",
     "output_type": "stream",
     "text": [
      "WARNING:tensorflow:Unresolved object in checkpoint: (root).optimizer's state 'v' for (root).policy.kernel\n"
     ]
    },
    {
     "name": "stderr",
     "output_type": "stream",
     "text": [
      "WARNING:tensorflow:Unresolved object in checkpoint: (root).optimizer's state 'v' for (root).policy.kernel\n"
     ]
    },
    {
     "name": "stdout",
     "output_type": "stream",
     "text": [
      "WARNING:tensorflow:Unresolved object in checkpoint: (root).optimizer's state 'v' for (root).policy.bias\n"
     ]
    },
    {
     "name": "stderr",
     "output_type": "stream",
     "text": [
      "WARNING:tensorflow:Unresolved object in checkpoint: (root).optimizer's state 'v' for (root).policy.bias\n"
     ]
    },
    {
     "name": "stdout",
     "output_type": "stream",
     "text": [
      "WARNING:tensorflow:Unresolved object in checkpoint: (root).optimizer's state 'v' for (root).value.kernel\n"
     ]
    },
    {
     "name": "stderr",
     "output_type": "stream",
     "text": [
      "WARNING:tensorflow:Unresolved object in checkpoint: (root).optimizer's state 'v' for (root).value.kernel\n"
     ]
    },
    {
     "name": "stdout",
     "output_type": "stream",
     "text": [
      "WARNING:tensorflow:Unresolved object in checkpoint: (root).optimizer's state 'v' for (root).value.bias\n"
     ]
    },
    {
     "name": "stderr",
     "output_type": "stream",
     "text": [
      "WARNING:tensorflow:Unresolved object in checkpoint: (root).optimizer's state 'v' for (root).value.bias\n"
     ]
    },
    {
     "name": "stdout",
     "output_type": "stream",
     "text": [
      "WARNING:tensorflow:A checkpoint was restored (e.g. tf.train.Checkpoint.restore or tf.keras.Model.load_weights) but not all checkpointed values were used. See above for specific issues. Use expect_partial() on the load status object, e.g. tf.train.Checkpoint.restore(...).expect_partial(), to silence these warnings, or use assert_consumed() to make the check explicit. See https://www.tensorflow.org/guide/checkpoint#loading_mechanics for details.\n"
     ]
    },
    {
     "name": "stderr",
     "output_type": "stream",
     "text": [
      "WARNING:tensorflow:A checkpoint was restored (e.g. tf.train.Checkpoint.restore or tf.keras.Model.load_weights) but not all checkpointed values were used. See above for specific issues. Use expect_partial() on the load status object, e.g. tf.train.Checkpoint.restore(...).expect_partial(), to silence these warnings, or use assert_consumed() to make the check explicit. See https://www.tensorflow.org/guide/checkpoint#loading_mechanics for details.\n"
     ]
    },
    {
     "name": "stdout",
     "output_type": "stream",
     "text": [
      "\n"
     ]
    }
   ],
   "source": [
    "# b = Benchmark(agent, 'easy')\n",
    "b.evaluate()"
   ]
  },
  {
   "cell_type": "code",
   "execution_count": 76,
   "metadata": {},
   "outputs": [
    {
     "data": {
      "text/plain": [
       "[<matplotlib.lines.Line2D at 0x1c7b45eefc8>]"
      ]
     },
     "execution_count": 76,
     "metadata": {},
     "output_type": "execute_result"
    },
    {
     "data": {
      "image/png": "[encoded data removed]",
      "text/plain": [
       "<Figure size 432x288 with 1 Axes>"
      ]
     },
     "metadata": {
      "needs_background": "light"
     },
     "output_type": "display_data"
    }
   ],
   "source": [
    "b.plot_cumulative_regret()\n",
    "# cum_regret = {}\n",
    "\n",
    "arr = np.empty(b.episodes['rewards'].shape).T\n",
    "arr[:,:] = np.max(b.episodes['bandits'], axis = 1)\n",
    "regret = np.cumsum((arr.T - b.episodes['rewards']).mean(0))\n",
    "plt.plot(regret)\n",
    "\n",
    "# reg = np.cumsum(b.env.bandit.max() - b.episodes['rewards'].mean(0))\n",
    "plt.plot(regret)\n",
    "# reg = np.cumsum((arr - b.episodes['rewards']).mean(0))\n",
    "# reg\n",
    "# # reg_df['hh'] = reg\n",
    "# # reg_df[['he', 'hm', 'hh']].plot()\n",
    "# # b.plot_actions()\n",
    "# # b.episodes['rewards'].mean(0)\n",
    "# plt.plot(reg);\n",
    "# b['rewards'][0]\n",
    "# plt.plot(reg)"
   ]
  },
  {
   "cell_type": "code",
   "execution_count": 82,
   "metadata": {},
   "outputs": [
    {
     "data": {
      "image/png": "[encoded data removed]",
      "text/plain": [
       "<Figure size 864x1008 with 4 Axes>"
      ]
     },
     "metadata": {
      "needs_background": "light"
     },
     "output_type": "display_data"
    }
   ],
   "source": [
    "# reg_df['uu'] = regret\n",
    "# reg_df = pd.read_csv('regret_bandits.csv')\n",
    "# reg_df.to_csv('regret_bandits.csv')\n",
    "plt.figure(figsize=(12, 14))\n",
    "plt.suptitle('regret of different agents in different environments')\n",
    "plt.subplot(221)\n",
    "labels = ['easy', 'medium','uniform', 'thompson']\n",
    "for p in [reg_df[['ee','em', 'eu','eT']]]:\n",
    "    plt.plot(p);\n",
    "plt.legend(labels);\n",
    "plt.title('easy')\n",
    "plt.subplot(222)\n",
    "for p in [reg_df[['me','mm','mu','mT']]]:\n",
    "    plt.plot(p);\n",
    "plt.legend(labels);\n",
    "plt.title('medium')\n",
    "plt.subplot(223)\n",
    "for p in [reg_df[['he','hm','hu','hT']]]:\n",
    "    plt.plot(p);\n",
    "plt.legend(labels);\n",
    "plt.title('hard')\n",
    "plt.subplot(224)\n",
    "for p in [reg_df[['ue','um','uu', 'uT']]]:\n",
    "    plt.plot(p);\n",
    "plt.legend(labels)\n",
    "plt.title('uniform')\n",
    "plt.savefig('regret of different agents in different environments wo hard.pdf')\n",
    "#     plt.legend(labels);\n",
    "# plt.rcParams['figure.figsize'] = [10,10]\n",
    "# reg_df[['ee','em','eT']].plot()\n",
    "# # plt.subplot(132)\n",
    "# reg_df[['me','mm','mT']].plot()\n",
    "# # plt.subplot(133)\n",
    "# reg_df[['he','hm','hT']].plot();"
   ]
  },
  {
   "cell_type": "code",
   "execution_count": 79,
   "metadata": {},
   "outputs": [],
   "source": [
    "reg_df.to_csv('regret_bandits.csv')\n",
    "# b.episode"
   ]
  },
  {
   "cell_type": "code",
   "execution_count": 58,
   "metadata": {},
   "outputs": [],
   "source": [
    "class ManualBenchmark:\n",
    "    def __init__(self, agent):\n",
    "        self.agent = agent\n",
    "    \n",
    "    def play(self):\n",
    "        agent.model.reset_states()\n",
    "        action, reward, timestep, done = 0, 0, 1, 0\n",
    "#         actions, rewards, values = [] * 3\n",
    "        while reward >= 0:\n",
    "            # action and reward at t - 1 and timestep at t\n",
    "            action, value, _ = agent._predict(action, reward, timestep)\n",
    "            reward = input(f\"LSTM chose {action}, give me a reward 0 or 1 (-1 ends the game)\")\n",
    "            reward = int(reward)\n",
    "            # rewards, values and actions at t\n",
    "#             rewards.append(reward)\n",
    "#             actions.append(action)\n",
    "#             values.append(value)\n",
    "            timestep += 1\n",
    "        return actions, rewards, values"
   ]
  },
  {
   "cell_type": "code",
   "execution_count": 59,
   "metadata": {},
   "outputs": [],
   "source": [
    "mb = ManualBenchmark(agent)"
   ]
  },
  {
   "cell_type": "code",
   "execution_count": 60,
   "metadata": {},
   "outputs": [
    {
     "name": "stdin",
     "output_type": "stream",
     "text": [
      "LSTM chose [0], give me a reward 0 or 1 (-1 ends the game) 0\n",
      "LSTM chose [1], give me a reward 0 or 1 (-1 ends the game) 1\n",
      "LSTM chose [0], give me a reward 0 or 1 (-1 ends the game) 0\n",
      "LSTM chose [1], give me a reward 0 or 1 (-1 ends the game) 1\n",
      "LSTM chose [1], give me a reward 0 or 1 (-1 ends the game) 1\n",
      "LSTM chose [1], give me a reward 0 or 1 (-1 ends the game) 1\n",
      "LSTM chose [1], give me a reward 0 or 1 (-1 ends the game) 0\n",
      "LSTM chose [0], give me a reward 0 or 1 (-1 ends the game) 0\n",
      "LSTM chose [1], give me a reward 0 or 1 (-1 ends the game) 1\n",
      "LSTM chose [1], give me a reward 0 or 1 (-1 ends the game) 0\n",
      "LSTM chose [1], give me a reward 0 or 1 (-1 ends the game) 0\n",
      "LSTM chose [1], give me a reward 0 or 1 (-1 ends the game) 0\n",
      "LSTM chose [1], give me a reward 0 or 1 (-1 ends the game) 0\n",
      "LSTM chose [1], give me a reward 0 or 1 (-1 ends the game) 0\n",
      "LSTM chose [1], give me a reward 0 or 1 (-1 ends the game) 0\n",
      "LSTM chose [1], give me a reward 0 or 1 (-1 ends the game) 0\n",
      "LSTM chose [1], give me a reward 0 or 1 (-1 ends the game) 0\n",
      "LSTM chose [1], give me a reward 0 or 1 (-1 ends the game) 0\n",
      "LSTM chose [1], give me a reward 0 or 1 (-1 ends the game) 0\n",
      "LSTM chose [1], give me a reward 0 or 1 (-1 ends the game) 0\n",
      "LSTM chose [0], give me a reward 0 or 1 (-1 ends the game) 0\n",
      "LSTM chose [1], give me a reward 0 or 1 (-1 ends the game) 0\n",
      "LSTM chose [1], give me a reward 0 or 1 (-1 ends the game) 0\n",
      "LSTM chose [1], give me a reward 0 or 1 (-1 ends the game) 0\n",
      "LSTM chose [0], give me a reward 0 or 1 (-1 ends the game) 0\n",
      "LSTM chose [0], give me a reward 0 or 1 (-1 ends the game) 1\n",
      "LSTM chose [0], give me a reward 0 or 1 (-1 ends the game) 1\n",
      "LSTM chose [0], give me a reward 0 or 1 (-1 ends the game) 1\n",
      "LSTM chose [0], give me a reward 0 or 1 (-1 ends the game) 1\n",
      "LSTM chose [1], give me a reward 0 or 1 (-1 ends the game) 0\n"
     ]
    },
    {
     "ename": "KeyboardInterrupt",
     "evalue": "Interrupted by user",
     "output_type": "error",
     "traceback": [
      "\u001b[0;31m---------------------------------------------------------------------------\u001b[0m",
      "\u001b[0;31mKeyboardInterrupt\u001b[0m                         Traceback (most recent call last)",
      "\u001b[0;32m<ipython-input-60-d4a277ee9966>\u001b[0m in \u001b[0;36m<module>\u001b[0;34m\u001b[0m\n\u001b[0;32m----> 1\u001b[0;31m \u001b[0mmb\u001b[0m\u001b[0;34m.\u001b[0m\u001b[0mplay\u001b[0m\u001b[0;34m(\u001b[0m\u001b[0;34m)\u001b[0m\u001b[0;34m\u001b[0m\u001b[0;34m\u001b[0m\u001b[0m\n\u001b[0m",
      "\u001b[0;32m<ipython-input-58-0d13af7fd5a5>\u001b[0m in \u001b[0;36mplay\u001b[0;34m(self)\u001b[0m\n\u001b[1;32m     10\u001b[0m             \u001b[0;31m# action and reward at t - 1 and timestep at t\u001b[0m\u001b[0;34m\u001b[0m\u001b[0;34m\u001b[0m\u001b[0;34m\u001b[0m\u001b[0m\n\u001b[1;32m     11\u001b[0m             \u001b[0maction\u001b[0m\u001b[0;34m,\u001b[0m \u001b[0mvalue\u001b[0m\u001b[0;34m,\u001b[0m \u001b[0m_\u001b[0m \u001b[0;34m=\u001b[0m \u001b[0magent\u001b[0m\u001b[0;34m.\u001b[0m\u001b[0m_predict\u001b[0m\u001b[0;34m(\u001b[0m\u001b[0maction\u001b[0m\u001b[0;34m,\u001b[0m \u001b[0mreward\u001b[0m\u001b[0;34m,\u001b[0m \u001b[0mtimestep\u001b[0m\u001b[0;34m)\u001b[0m\u001b[0;34m\u001b[0m\u001b[0;34m\u001b[0m\u001b[0m\n\u001b[0;32m---> 12\u001b[0;31m             \u001b[0mreward\u001b[0m \u001b[0;34m=\u001b[0m \u001b[0minput\u001b[0m\u001b[0;34m(\u001b[0m\u001b[0;34mf\"LSTM chose {action}, give me a reward 0 or 1 (-1 ends the game)\"\u001b[0m\u001b[0;34m)\u001b[0m\u001b[0;34m\u001b[0m\u001b[0;34m\u001b[0m\u001b[0m\n\u001b[0m\u001b[1;32m     13\u001b[0m             \u001b[0mreward\u001b[0m \u001b[0;34m=\u001b[0m \u001b[0mint\u001b[0m\u001b[0;34m(\u001b[0m\u001b[0mreward\u001b[0m\u001b[0;34m)\u001b[0m\u001b[0;34m\u001b[0m\u001b[0;34m\u001b[0m\u001b[0m\n\u001b[1;32m     14\u001b[0m             \u001b[0;31m# rewards, values and actions at t\u001b[0m\u001b[0;34m\u001b[0m\u001b[0;34m\u001b[0m\u001b[0;34m\u001b[0m\u001b[0m\n",
      "\u001b[0;32m/usr/local/lib/python3.6/dist-packages/ipykernel/kernelbase.py\u001b[0m in \u001b[0;36mraw_input\u001b[0;34m(self, prompt)\u001b[0m\n\u001b[1;32m    861\u001b[0m             \u001b[0mself\u001b[0m\u001b[0;34m.\u001b[0m\u001b[0m_parent_ident\u001b[0m\u001b[0;34m,\u001b[0m\u001b[0;34m\u001b[0m\u001b[0;34m\u001b[0m\u001b[0m\n\u001b[1;32m    862\u001b[0m             \u001b[0mself\u001b[0m\u001b[0;34m.\u001b[0m\u001b[0m_parent_header\u001b[0m\u001b[0;34m,\u001b[0m\u001b[0;34m\u001b[0m\u001b[0;34m\u001b[0m\u001b[0m\n\u001b[0;32m--> 863\u001b[0;31m             \u001b[0mpassword\u001b[0m\u001b[0;34m=\u001b[0m\u001b[0;32mFalse\u001b[0m\u001b[0;34m,\u001b[0m\u001b[0;34m\u001b[0m\u001b[0;34m\u001b[0m\u001b[0m\n\u001b[0m\u001b[1;32m    864\u001b[0m         )\n\u001b[1;32m    865\u001b[0m \u001b[0;34m\u001b[0m\u001b[0m\n",
      "\u001b[0;32m/usr/local/lib/python3.6/dist-packages/ipykernel/kernelbase.py\u001b[0m in \u001b[0;36m_input_request\u001b[0;34m(self, prompt, ident, parent, password)\u001b[0m\n\u001b[1;32m    891\u001b[0m             \u001b[0;32mexcept\u001b[0m \u001b[0mKeyboardInterrupt\u001b[0m\u001b[0;34m:\u001b[0m\u001b[0;34m\u001b[0m\u001b[0;34m\u001b[0m\u001b[0m\n\u001b[1;32m    892\u001b[0m                 \u001b[0;31m# re-raise KeyboardInterrupt, to truncate traceback\u001b[0m\u001b[0;34m\u001b[0m\u001b[0;34m\u001b[0m\u001b[0;34m\u001b[0m\u001b[0m\n\u001b[0;32m--> 893\u001b[0;31m                 \u001b[0;32mraise\u001b[0m \u001b[0mKeyboardInterrupt\u001b[0m\u001b[0;34m(\u001b[0m\u001b[0;34m\"Interrupted by user\"\u001b[0m\u001b[0;34m)\u001b[0m \u001b[0;32mfrom\u001b[0m \u001b[0;32mNone\u001b[0m\u001b[0;34m\u001b[0m\u001b[0;34m\u001b[0m\u001b[0m\n\u001b[0m\u001b[1;32m    894\u001b[0m             \u001b[0;32melse\u001b[0m\u001b[0;34m:\u001b[0m\u001b[0;34m\u001b[0m\u001b[0;34m\u001b[0m\u001b[0m\n\u001b[1;32m    895\u001b[0m                 \u001b[0;32mbreak\u001b[0m\u001b[0;34m\u001b[0m\u001b[0;34m\u001b[0m\u001b[0m\n",
      "\u001b[0;31mKeyboardInterrupt\u001b[0m: Interrupted by user"
     ]
    }
   ],
   "source": [
    "mb.play()"
   ]
  },
  {
   "cell_type": "code",
   "execution_count": null,
   "metadata": {},
   "outputs": [],
   "source": []
  }
 ],
 "metadata": {
  "kernelspec": {
   "display_name": "Python 3",
   "language": "python",
   "name": "python3"
  },
  "language_info": {
   "codemirror_mode": {
    "name": "ipython",
    "version": 3
   },
   "file_extension": ".py",
   "mimetype": "text/x-python",
   "name": "python",
   "nbconvert_exporter": "python",
   "pygments_lexer": "ipython3",
   "version": "3.7.7"
  }
 },
 "nbformat": 4,
 "nbformat_minor": 4
}
